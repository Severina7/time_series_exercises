{
 "cells": [
  {
   "cell_type": "markdown",
   "id": "912da0ae",
   "metadata": {},
   "source": [
    "# Explore time series"
   ]
  },
  {
   "cell_type": "code",
   "execution_count": null,
   "id": "afdc1bff",
   "metadata": {},
   "outputs": [],
   "source": [
    "# Ignoring warning messages from python\n",
    "import warnings\n",
    "warnings.filterwarnings('ignore')\n",
    "\n",
    "# General use imports\n",
    "import pandas as pd\n",
    "import numpy as np\n",
    "\n",
    "# Visualization imports\n",
    "import matplotlib.pyplot as plt\n",
    "import seaborn as sns\n",
    "import plotly.express as px\n",
    "\n",
    "# Modules and data\n",
    "import requests\n",
    "import acquire\n",
    "from datetime import timedelta, datetime\n",
    "\n",
    "# Module for splitting the data\n",
    "from sklearn.model_selection import TimeSeriesSplit\n"
   ]
  }
 ],
 "metadata": {
  "kernelspec": {
   "display_name": "Python 3 (ipykernel)",
   "language": "python",
   "name": "python3"
  },
  "language_info": {
   "codemirror_mode": {
    "name": "ipython",
    "version": 3
   },
   "file_extension": ".py",
   "mimetype": "text/x-python",
   "name": "python",
   "nbconvert_exporter": "python",
   "pygments_lexer": "ipython3",
   "version": "3.9.7"
  }
 },
 "nbformat": 4,
 "nbformat_minor": 5
}
