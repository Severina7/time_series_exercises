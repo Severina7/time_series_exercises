{
 "cells": [
  {
   "cell_type": "code",
   "execution_count": 2,
   "id": "c510017e",
   "metadata": {},
   "outputs": [],
   "source": [
    "# General imports for these exercises\n",
    "\n",
    "import pandas as pd\n",
    "import numpy as np\n",
    "import matplotlib.pyplot as plt\n",
    "import seaborn as sns\n",
    "from vega_datasets import data\n",
    "import requests"
   ]
  },
  {
   "cell_type": "markdown",
   "id": "e3da157c",
   "metadata": {},
   "source": [
    "[blue_text](http://example.com)"
   ]
  },
  {
   "cell_type": "markdown",
   "id": "d39bd72a",
   "metadata": {},
   "source": [
    "[Link](http://example.com/)"
   ]
  },
  {
   "cell_type": "code",
   "execution_count": 69,
   "id": "47506636",
   "metadata": {},
   "outputs": [
    {
     "data": {
      "text/plain": [
       "<Response [200]>"
      ]
     },
     "execution_count": 69,
     "metadata": {},
     "output_type": "execute_result"
    }
   ],
   "source": [
    "response = requests.get('http://example.com')\n",
    "response"
   ]
  },
  {
   "cell_type": "code",
   "execution_count": 6,
   "id": "53e24f19",
   "metadata": {},
   "outputs": [
    {
     "data": {
      "text/html": [
       "<div>\n",
       "<style scoped>\n",
       "    .dataframe tbody tr th:only-of-type {\n",
       "        vertical-align: middle;\n",
       "    }\n",
       "\n",
       "    .dataframe tbody tr th {\n",
       "        vertical-align: top;\n",
       "    }\n",
       "\n",
       "    .dataframe thead th {\n",
       "        text-align: right;\n",
       "    }\n",
       "</style>\n",
       "<table border=\"1\" class=\"dataframe\">\n",
       "  <thead>\n",
       "    <tr style=\"text-align: right;\">\n",
       "      <th></th>\n",
       "      <th>sepalLength</th>\n",
       "      <th>sepalWidth</th>\n",
       "      <th>petalLength</th>\n",
       "      <th>petalWidth</th>\n",
       "      <th>species</th>\n",
       "    </tr>\n",
       "  </thead>\n",
       "  <tbody>\n",
       "    <tr>\n",
       "      <th>0</th>\n",
       "      <td>5.1</td>\n",
       "      <td>3.5</td>\n",
       "      <td>1.4</td>\n",
       "      <td>0.2</td>\n",
       "      <td>setosa</td>\n",
       "    </tr>\n",
       "    <tr>\n",
       "      <th>1</th>\n",
       "      <td>4.9</td>\n",
       "      <td>3.0</td>\n",
       "      <td>1.4</td>\n",
       "      <td>0.2</td>\n",
       "      <td>setosa</td>\n",
       "    </tr>\n",
       "    <tr>\n",
       "      <th>2</th>\n",
       "      <td>4.7</td>\n",
       "      <td>3.2</td>\n",
       "      <td>1.3</td>\n",
       "      <td>0.2</td>\n",
       "      <td>setosa</td>\n",
       "    </tr>\n",
       "    <tr>\n",
       "      <th>3</th>\n",
       "      <td>4.6</td>\n",
       "      <td>3.1</td>\n",
       "      <td>1.5</td>\n",
       "      <td>0.2</td>\n",
       "      <td>setosa</td>\n",
       "    </tr>\n",
       "    <tr>\n",
       "      <th>4</th>\n",
       "      <td>5.0</td>\n",
       "      <td>3.6</td>\n",
       "      <td>1.4</td>\n",
       "      <td>0.2</td>\n",
       "      <td>setosa</td>\n",
       "    </tr>\n",
       "  </tbody>\n",
       "</table>\n",
       "</div>"
      ],
      "text/plain": [
       "   sepalLength  sepalWidth  petalLength  petalWidth species\n",
       "0          5.1         3.5          1.4         0.2  setosa\n",
       "1          4.9         3.0          1.4         0.2  setosa\n",
       "2          4.7         3.2          1.3         0.2  setosa\n",
       "3          4.6         3.1          1.5         0.2  setosa\n",
       "4          5.0         3.6          1.4         0.2  setosa"
      ]
     },
     "execution_count": 6,
     "metadata": {},
     "output_type": "execute_result"
    }
   ],
   "source": [
    "df = data('iris')\n",
    "df.head()"
   ]
  },
  {
   "cell_type": "code",
   "execution_count": 5,
   "id": "70cd4763",
   "metadata": {},
   "outputs": [
    {
     "name": "stdout",
     "output_type": "stream",
     "text": [
      "Help on DataLoader in module vega_datasets.core object:\n",
      "\n",
      "class DataLoader(builtins.object)\n",
      " |  Load a dataset from a local file or remote URL.\n",
      " |  \n",
      " |  There are two ways to call this; for example to load the iris dataset, you\n",
      " |  can call this object and pass the dataset name by string:\n",
      " |  \n",
      " |      >>> from vega_datasets import data\n",
      " |      >>> df = data('iris')\n",
      " |  \n",
      " |  or you can call the associated named method:\n",
      " |  \n",
      " |      >>> df = data.iris()\n",
      " |  \n",
      " |  Optionally, additional parameters can be passed to either of these\n",
      " |  \n",
      " |  Optional parameters\n",
      " |  -------------------\n",
      " |  return_raw : boolean\n",
      " |      If True, then return the raw string or bytes.\n",
      " |      If False (default), then return a pandas dataframe.\n",
      " |  use_local : boolean\n",
      " |      If True (default), then attempt to load the dataset locally. If\n",
      " |      False or if the dataset is not available locally, then load the\n",
      " |      data from an external URL.\n",
      " |  **kwargs :\n",
      " |      additional keyword arguments are passed to the pandas parsing function,\n",
      " |      either ``read_csv()`` or ``read_json()`` depending on the data format.\n",
      " |  \n",
      " |  Methods defined here:\n",
      " |  \n",
      " |  __call__(self, name, return_raw=False, use_local=True, **kwargs)\n",
      " |      Call self as a function.\n",
      " |  \n",
      " |  __dir__(self)\n",
      " |      Default dir() implementation.\n",
      " |  \n",
      " |  __getattr__(self, dataset_name)\n",
      " |  \n",
      " |  list_datasets(self)\n",
      " |  \n",
      " |  ----------------------------------------------------------------------\n",
      " |  Data descriptors defined here:\n",
      " |  \n",
      " |  __dict__\n",
      " |      dictionary for instance variables (if defined)\n",
      " |  \n",
      " |  __weakref__\n",
      " |      list of weak references to the object (if defined)\n",
      "\n"
     ]
    }
   ],
   "source": [
    "help(data)"
   ]
  },
  {
   "cell_type": "code",
   "execution_count": 70,
   "id": "323c9251",
   "metadata": {},
   "outputs": [
    {
     "data": {
      "text/plain": [
       "True"
      ]
     },
     "execution_count": 70,
     "metadata": {},
     "output_type": "execute_result"
    }
   ],
   "source": [
    "response.ok"
   ]
  },
  {
   "cell_type": "code",
   "execution_count": 3,
   "id": "a3654c16",
   "metadata": {},
   "outputs": [],
   "source": [
    "date = ['TRANSACTION DATE : 08:42 AM, 30 Nov 2021',\n",
    "        'TRANSACTION DATE : 08:46 AM, 30 Nov 2021',\n",
    "        'TRANSACTION DATE : 08:51 AM, 30 Nov 2021',\n",
    "        'TRANSACTION DATE : 08:58 AM, 30 Nov 2021',\n",
    "        'TRANSACTION DATE : 09:12 AM, 30 Nov 2021']"
   ]
  },
  {
   "cell_type": "code",
   "execution_count": 4,
   "id": "45036161",
   "metadata": {
    "scrolled": true
   },
   "outputs": [
    {
     "data": {
      "text/plain": [
       "['TRANSACTION DATE : 08:42 AM, 30 Nov 2021',\n",
       " 'TRANSACTION DATE : 08:46 AM, 30 Nov 2021',\n",
       " 'TRANSACTION DATE : 08:51 AM, 30 Nov 2021',\n",
       " 'TRANSACTION DATE : 08:58 AM, 30 Nov 2021',\n",
       " 'TRANSACTION DATE : 09:12 AM, 30 Nov 2021']"
      ]
     },
     "execution_count": 4,
     "metadata": {},
     "output_type": "execute_result"
    }
   ],
   "source": [
    "date"
   ]
  },
  {
   "cell_type": "code",
   "execution_count": 13,
   "id": "fa96eb24",
   "metadata": {},
   "outputs": [
    {
     "data": {
      "text/plain": [
       "list"
      ]
     },
     "execution_count": 13,
     "metadata": {},
     "output_type": "execute_result"
    }
   ],
   "source": [
    "type(date)"
   ]
  },
  {
   "cell_type": "code",
   "execution_count": 14,
   "id": "55a1a1e9",
   "metadata": {},
   "outputs": [],
   "source": [
    "client_id = ['CLIENT ID : C00001',\n",
    "             'CLIENT ID : C00002',\n",
    "             'CLIENT ID : C00001',\n",
    "             'CLIENT ID : C00003',\n",
    "             'CLIENT ID : C00004']"
   ]
  },
  {
   "cell_type": "code",
   "execution_count": 16,
   "id": "c4b0e51c",
   "metadata": {},
   "outputs": [
    {
     "data": {
      "text/plain": [
       "list"
      ]
     },
     "execution_count": 16,
     "metadata": {},
     "output_type": "execute_result"
    }
   ],
   "source": [
    "type(client_id)"
   ]
  },
  {
   "cell_type": "code",
   "execution_count": 17,
   "id": "cb8ca7eb",
   "metadata": {},
   "outputs": [],
   "source": [
    "client_name = ['CLIENT NAME : SALISU BISI',\n",
    "               'CLIENT NAME : SULE YAYA',\n",
    "               'CLIENT NAME : SALISU BIST',\n",
    "               'CLIENT NAME : ADEGOKE BAYO',\n",
    "               'CLIENT NAME : COKER PRIYE']"
   ]
  },
  {
   "cell_type": "code",
   "execution_count": 18,
   "id": "d7e74ac6",
   "metadata": {},
   "outputs": [
    {
     "data": {
      "text/plain": [
       "list"
      ]
     },
     "execution_count": 18,
     "metadata": {},
     "output_type": "execute_result"
    }
   ],
   "source": [
    "type(client_name)"
   ]
  },
  {
   "cell_type": "code",
   "execution_count": 20,
   "id": "ce78c669",
   "metadata": {},
   "outputs": [],
   "source": [
    "df = pd.DataFrame(list(zip(date, client_id, client_name)), columns=['date', 'client_id', 'client_name'])"
   ]
  },
  {
   "cell_type": "code",
   "execution_count": 25,
   "id": "0e330362",
   "metadata": {},
   "outputs": [],
   "source": [
    "df1 = pd.DataFrame(['TRANSACTION DATE : 08:42 AM, 30 Nov 2021',\n",
    "                    'TRANSACTION DATE : 08:46 AM, 30 Nov 2021',\n",
    "                    'TRANSACTION DATE : 08:51 AM, 30 Nov 2021',\n",
    "                    'TRANSACTION DATE : 08:58 AM, 30 Nov 2021',\n",
    "                    'TRANSACTION DATE : 09:12 AM, 30 Nov 2021'])"
   ]
  },
  {
   "cell_type": "code",
   "execution_count": 26,
   "id": "9ef2332c",
   "metadata": {},
   "outputs": [
    {
     "data": {
      "text/html": [
       "<div>\n",
       "<style scoped>\n",
       "    .dataframe tbody tr th:only-of-type {\n",
       "        vertical-align: middle;\n",
       "    }\n",
       "\n",
       "    .dataframe tbody tr th {\n",
       "        vertical-align: top;\n",
       "    }\n",
       "\n",
       "    .dataframe thead th {\n",
       "        text-align: right;\n",
       "    }\n",
       "</style>\n",
       "<table border=\"1\" class=\"dataframe\">\n",
       "  <thead>\n",
       "    <tr style=\"text-align: right;\">\n",
       "      <th></th>\n",
       "      <th>0</th>\n",
       "    </tr>\n",
       "  </thead>\n",
       "  <tbody>\n",
       "    <tr>\n",
       "      <th>0</th>\n",
       "      <td>TRANSACTION DATE : 08:42 AM, 30 Nov 2021</td>\n",
       "    </tr>\n",
       "    <tr>\n",
       "      <th>1</th>\n",
       "      <td>TRANSACTION DATE : 08:46 AM, 30 Nov 2021</td>\n",
       "    </tr>\n",
       "    <tr>\n",
       "      <th>2</th>\n",
       "      <td>TRANSACTION DATE : 08:51 AM, 30 Nov 2021</td>\n",
       "    </tr>\n",
       "    <tr>\n",
       "      <th>3</th>\n",
       "      <td>TRANSACTION DATE : 08:58 AM, 30 Nov 2021</td>\n",
       "    </tr>\n",
       "    <tr>\n",
       "      <th>4</th>\n",
       "      <td>TRANSACTION DATE : 09:12 AM, 30 Nov 2021</td>\n",
       "    </tr>\n",
       "  </tbody>\n",
       "</table>\n",
       "</div>"
      ],
      "text/plain": [
       "                                          0\n",
       "0  TRANSACTION DATE : 08:42 AM, 30 Nov 2021\n",
       "1  TRANSACTION DATE : 08:46 AM, 30 Nov 2021\n",
       "2  TRANSACTION DATE : 08:51 AM, 30 Nov 2021\n",
       "3  TRANSACTION DATE : 08:58 AM, 30 Nov 2021\n",
       "4  TRANSACTION DATE : 09:12 AM, 30 Nov 2021"
      ]
     },
     "execution_count": 26,
     "metadata": {},
     "output_type": "execute_result"
    }
   ],
   "source": [
    "df1"
   ]
  },
  {
   "cell_type": "code",
   "execution_count": 21,
   "id": "ecb56ae7",
   "metadata": {
    "scrolled": true
   },
   "outputs": [
    {
     "data": {
      "text/html": [
       "<div>\n",
       "<style scoped>\n",
       "    .dataframe tbody tr th:only-of-type {\n",
       "        vertical-align: middle;\n",
       "    }\n",
       "\n",
       "    .dataframe tbody tr th {\n",
       "        vertical-align: top;\n",
       "    }\n",
       "\n",
       "    .dataframe thead th {\n",
       "        text-align: right;\n",
       "    }\n",
       "</style>\n",
       "<table border=\"1\" class=\"dataframe\">\n",
       "  <thead>\n",
       "    <tr style=\"text-align: right;\">\n",
       "      <th></th>\n",
       "      <th>date</th>\n",
       "      <th>client_id</th>\n",
       "      <th>client_name</th>\n",
       "    </tr>\n",
       "  </thead>\n",
       "  <tbody>\n",
       "    <tr>\n",
       "      <th>0</th>\n",
       "      <td>TRANSACTION DATE : 08:42 AM, 30 Nov 2021</td>\n",
       "      <td>CLIENT ID : C00001</td>\n",
       "      <td>CLIENT NAME : SALISU BISI</td>\n",
       "    </tr>\n",
       "    <tr>\n",
       "      <th>1</th>\n",
       "      <td>TRANSACTION DATE : 08:46 AM, 30 Nov 2021</td>\n",
       "      <td>CLIENT ID : C00002</td>\n",
       "      <td>CLIENT NAME : SULE YAYA</td>\n",
       "    </tr>\n",
       "    <tr>\n",
       "      <th>2</th>\n",
       "      <td>TRANSACTION DATE : 08:51 AM, 30 Nov 2021</td>\n",
       "      <td>CLIENT ID : C00001</td>\n",
       "      <td>CLIENT NAME : SALISU BIST</td>\n",
       "    </tr>\n",
       "    <tr>\n",
       "      <th>3</th>\n",
       "      <td>TRANSACTION DATE : 08:58 AM, 30 Nov 2021</td>\n",
       "      <td>CLIENT ID : C00003</td>\n",
       "      <td>CLIENT NAME : ADEGOKE BAYO</td>\n",
       "    </tr>\n",
       "    <tr>\n",
       "      <th>4</th>\n",
       "      <td>TRANSACTION DATE : 09:12 AM, 30 Nov 2021</td>\n",
       "      <td>CLIENT ID : C00004</td>\n",
       "      <td>CLIENT NAME : COKER PRIYE</td>\n",
       "    </tr>\n",
       "  </tbody>\n",
       "</table>\n",
       "</div>"
      ],
      "text/plain": [
       "                                       date           client_id  \\\n",
       "0  TRANSACTION DATE : 08:42 AM, 30 Nov 2021  CLIENT ID : C00001   \n",
       "1  TRANSACTION DATE : 08:46 AM, 30 Nov 2021  CLIENT ID : C00002   \n",
       "2  TRANSACTION DATE : 08:51 AM, 30 Nov 2021  CLIENT ID : C00001   \n",
       "3  TRANSACTION DATE : 08:58 AM, 30 Nov 2021  CLIENT ID : C00003   \n",
       "4  TRANSACTION DATE : 09:12 AM, 30 Nov 2021  CLIENT ID : C00004   \n",
       "\n",
       "                  client_name  \n",
       "0   CLIENT NAME : SALISU BISI  \n",
       "1     CLIENT NAME : SULE YAYA  \n",
       "2   CLIENT NAME : SALISU BIST  \n",
       "3  CLIENT NAME : ADEGOKE BAYO  \n",
       "4   CLIENT NAME : COKER PRIYE  "
      ]
     },
     "execution_count": 21,
     "metadata": {},
     "output_type": "execute_result"
    }
   ],
   "source": [
    "df.head()"
   ]
  },
  {
   "cell_type": "markdown",
   "id": "c53c3aca",
   "metadata": {},
   "source": [
    "****"
   ]
  },
  {
   "cell_type": "code",
   "execution_count": 29,
   "id": "94dab92c",
   "metadata": {},
   "outputs": [
    {
     "ename": "SyntaxError",
     "evalue": "invalid syntax (1208305367.py, line 5)",
     "output_type": "error",
     "traceback": [
      "\u001b[0;36m  File \u001b[0;32m\"/var/folders/5k/zptdym41293159jft7y2b6cm0000gp/T/ipykernel_47313/1208305367.py\"\u001b[0;36m, line \u001b[0;32m5\u001b[0m\n\u001b[0;31m    '09:12 AM, 30 Nov 2021', column=['TRANSACTION DATE']]\u001b[0m\n\u001b[0m                                   ^\u001b[0m\n\u001b[0;31mSyntaxError\u001b[0m\u001b[0;31m:\u001b[0m invalid syntax\n"
     ]
    }
   ],
   "source": [
    "date1 = ['08:42 AM, 30 Nov 2021',\n",
    "        '08:46 AM, 30 Nov 2021',\n",
    "        '08:51 AM, 30 Nov 2021',\n",
    "        '08:58 AM, 30 Nov 2021',\n",
    "        '09:12 AM, 30 Nov 2021', column=['transaction date']]"
   ]
  },
  {
   "cell_type": "code",
   "execution_count": 28,
   "id": "6c17e1d3",
   "metadata": {
    "scrolled": true
   },
   "outputs": [
    {
     "data": {
      "text/plain": [
       "['08:42 AM, 30 Nov 2021',\n",
       " '08:46 AM, 30 Nov 2021',\n",
       " '08:51 AM, 30 Nov 2021',\n",
       " '08:58 AM, 30 Nov 2021',\n",
       " '09:12 AM, 30 Nov 2021']"
      ]
     },
     "execution_count": 28,
     "metadata": {},
     "output_type": "execute_result"
    }
   ],
   "source": [
    "date1"
   ]
  },
  {
   "cell_type": "code",
   "execution_count": null,
   "id": "0db6aeb0",
   "metadata": {},
   "outputs": [],
   "source": [
    "df = pd.DataFrame"
   ]
  },
  {
   "cell_type": "code",
   "execution_count": 13,
   "id": "1b93e634",
   "metadata": {},
   "outputs": [
    {
     "data": {
      "text/plain": [
       "list"
      ]
     },
     "execution_count": 13,
     "metadata": {},
     "output_type": "execute_result"
    }
   ],
   "source": [
    "type(date)"
   ]
  },
  {
   "cell_type": "code",
   "execution_count": 14,
   "id": "c0c23936",
   "metadata": {},
   "outputs": [],
   "source": [
    "client_id = ['CLIENT ID : C00001',\n",
    "             'CLIENT ID : C00002',\n",
    "             'CLIENT ID : C00001',\n",
    "             'CLIENT ID : C00003',\n",
    "             'CLIENT ID : C00004']"
   ]
  },
  {
   "cell_type": "code",
   "execution_count": 16,
   "id": "659991e1",
   "metadata": {},
   "outputs": [
    {
     "data": {
      "text/plain": [
       "list"
      ]
     },
     "execution_count": 16,
     "metadata": {},
     "output_type": "execute_result"
    }
   ],
   "source": [
    "type(client_id)"
   ]
  },
  {
   "cell_type": "code",
   "execution_count": 30,
   "id": "c7eda755",
   "metadata": {},
   "outputs": [
    {
     "ename": "ValueError",
     "evalue": "list.remove(x): x not in list",
     "output_type": "error",
     "traceback": [
      "\u001b[0;31m---------------------------------------------------------------------------\u001b[0m",
      "\u001b[0;31mValueError\u001b[0m                                Traceback (most recent call last)",
      "\u001b[0;32m/var/folders/5k/zptdym41293159jft7y2b6cm0000gp/T/ipykernel_47313/1127032933.py\u001b[0m in \u001b[0;36m<module>\u001b[0;34m\u001b[0m\n\u001b[0;32m----> 1\u001b[0;31m \u001b[0mclient_id\u001b[0m \u001b[0;34m=\u001b[0m \u001b[0mclient_id\u001b[0m\u001b[0;34m.\u001b[0m\u001b[0mremove\u001b[0m\u001b[0;34m(\u001b[0m\u001b[0;34m'CLIENT ID : '\u001b[0m\u001b[0;34m)\u001b[0m\u001b[0;34m\u001b[0m\u001b[0;34m\u001b[0m\u001b[0m\n\u001b[0m",
      "\u001b[0;31mValueError\u001b[0m: list.remove(x): x not in list"
     ]
    }
   ],
   "source": [
    "client_id = client_id.remove('CLIENT ID : ')"
   ]
  },
  {
   "cell_type": "code",
   "execution_count": 17,
   "id": "9fec0a22",
   "metadata": {},
   "outputs": [],
   "source": [
    "client_name = ['CLIENT NAME : SALISU BISI',\n",
    "               'CLIENT NAME : SULE YAYA',\n",
    "               'CLIENT NAME : SALISU BIST',\n",
    "               'CLIENT NAME : ADEGOKE BAYO',\n",
    "               'CLIENT NAME : COKER PRIYE']"
   ]
  },
  {
   "cell_type": "code",
   "execution_count": 18,
   "id": "39e6469a",
   "metadata": {},
   "outputs": [
    {
     "data": {
      "text/plain": [
       "list"
      ]
     },
     "execution_count": 18,
     "metadata": {},
     "output_type": "execute_result"
    }
   ],
   "source": [
    "type(client_name)"
   ]
  },
  {
   "cell_type": "code",
   "execution_count": 20,
   "id": "180c2593",
   "metadata": {},
   "outputs": [],
   "source": [
    "df = pd.DataFrame(list(zip(date, client_id, client_name)), columns=['date', 'client_id', 'client_name'])"
   ]
  },
  {
   "cell_type": "code",
   "execution_count": 25,
   "id": "bca27a5f",
   "metadata": {},
   "outputs": [],
   "source": [
    "df1 = pd.DataFrame(['TRANSACTION DATE : 08:42 AM, 30 Nov 2021',\n",
    "                    'TRANSACTION DATE : 08:46 AM, 30 Nov 2021',\n",
    "                    'TRANSACTION DATE : 08:51 AM, 30 Nov 2021',\n",
    "                    'TRANSACTION DATE : 08:58 AM, 30 Nov 2021',\n",
    "                    'TRANSACTION DATE : 09:12 AM, 30 Nov 2021'])"
   ]
  },
  {
   "cell_type": "code",
   "execution_count": 55,
   "id": "fdab1346",
   "metadata": {},
   "outputs": [
    {
     "ename": "ValueError",
     "evalue": "bad typecode (must be b, B, u, h, H, i, I, l, L, q, Q, f or d)",
     "output_type": "error",
     "traceback": [
      "\u001b[0;31m---------------------------------------------------------------------------\u001b[0m",
      "\u001b[0;31mValueError\u001b[0m                                Traceback (most recent call last)",
      "\u001b[0;32m/var/folders/5k/zptdym41293159jft7y2b6cm0000gp/T/ipykernel_47313/1258890729.py\u001b[0m in \u001b[0;36m<module>\u001b[0;34m\u001b[0m\n\u001b[1;32m      1\u001b[0m \u001b[0;32mimport\u001b[0m \u001b[0marray\u001b[0m\u001b[0;34m\u001b[0m\u001b[0;34m\u001b[0m\u001b[0m\n\u001b[1;32m      2\u001b[0m \u001b[0;34m\u001b[0m\u001b[0m\n\u001b[0;32m----> 3\u001b[0;31m \u001b[0marr\u001b[0m \u001b[0;34m=\u001b[0m \u001b[0marray\u001b[0m\u001b[0;34m.\u001b[0m\u001b[0marray\u001b[0m\u001b[0;34m(\u001b[0m\u001b[0;34m'a'\u001b[0m\u001b[0;34m,\u001b[0m \u001b[0;34m[\u001b[0m\u001b[0;36m5\u001b[0m\u001b[0;34m,\u001b[0m \u001b[0;36m1\u001b[0m\u001b[0;34m,\u001b[0m \u001b[0;36m3\u001b[0m\u001b[0;34m,\u001b[0m \u001b[0;36m4\u001b[0m\u001b[0;34m,\u001b[0m \u001b[0;36m2\u001b[0m\u001b[0;34m,\u001b[0m \u001b[0;36m2\u001b[0m\u001b[0;34m,\u001b[0m \u001b[0;36m7\u001b[0m\u001b[0;34m]\u001b[0m\u001b[0;34m)\u001b[0m\u001b[0;34m\u001b[0m\u001b[0;34m\u001b[0m\u001b[0m\n\u001b[0m",
      "\u001b[0;31mValueError\u001b[0m: bad typecode (must be b, B, u, h, H, i, I, l, L, q, Q, f or d)"
     ]
    }
   ],
   "source": [
    "import array\n",
    "\n",
    "arr = array.array('a', [5, 1, 3, 4, 2, 2, 7])"
   ]
  },
  {
   "cell_type": "code",
   "execution_count": 13,
   "id": "aadac839",
   "metadata": {},
   "outputs": [],
   "source": [
    "import pandas as pd\n",
    "import numpy as np\n",
    "\n",
    "data = [['abc - a', 'A'], ['def - b', 'B'], ['ghi - c', 'C'], ['jkl - d', 'D']]\n",
    "df = pd.DataFrame(data, columns=['names', 'category'])"
   ]
  },
  {
   "cell_type": "code",
   "execution_count": 14,
   "id": "8636e068",
   "metadata": {},
   "outputs": [
    {
     "data": {
      "text/html": [
       "<div>\n",
       "<style scoped>\n",
       "    .dataframe tbody tr th:only-of-type {\n",
       "        vertical-align: middle;\n",
       "    }\n",
       "\n",
       "    .dataframe tbody tr th {\n",
       "        vertical-align: top;\n",
       "    }\n",
       "\n",
       "    .dataframe thead th {\n",
       "        text-align: right;\n",
       "    }\n",
       "</style>\n",
       "<table border=\"1\" class=\"dataframe\">\n",
       "  <thead>\n",
       "    <tr style=\"text-align: right;\">\n",
       "      <th></th>\n",
       "      <th>names</th>\n",
       "      <th>category</th>\n",
       "    </tr>\n",
       "  </thead>\n",
       "  <tbody>\n",
       "    <tr>\n",
       "      <th>0</th>\n",
       "      <td>abc - a</td>\n",
       "      <td>A</td>\n",
       "    </tr>\n",
       "    <tr>\n",
       "      <th>1</th>\n",
       "      <td>def - b</td>\n",
       "      <td>B</td>\n",
       "    </tr>\n",
       "    <tr>\n",
       "      <th>2</th>\n",
       "      <td>ghi - c</td>\n",
       "      <td>C</td>\n",
       "    </tr>\n",
       "    <tr>\n",
       "      <th>3</th>\n",
       "      <td>jkl - d</td>\n",
       "      <td>D</td>\n",
       "    </tr>\n",
       "  </tbody>\n",
       "</table>\n",
       "</div>"
      ],
      "text/plain": [
       "     names category\n",
       "0  abc - a        A\n",
       "1  def - b        B\n",
       "2  ghi - c        C\n",
       "3  jkl - d        D"
      ]
     },
     "execution_count": 14,
     "metadata": {},
     "output_type": "execute_result"
    }
   ],
   "source": [
    "df"
   ]
  },
  {
   "cell_type": "code",
   "execution_count": 15,
   "id": "a541e725",
   "metadata": {},
   "outputs": [
    {
     "name": "stdout",
     "output_type": "stream",
     "text": [
      "  names category division\n",
      "0   abc        A        a\n",
      "1   def        B        b\n",
      "2   ghi        C        c\n",
      "3   jkl        D        d\n"
     ]
    }
   ],
   "source": [
    "# Iterate through each rows of column-names, and store each value in 'st1' and then ->\n",
    "# first, middle, last = st1.partition(' - ')\n",
    "# df['names'] = first\n",
    "# df['division'] = last\n",
    "# and also assigning it to dataframe one by one, please help me to get my desired output in python.\n",
    "\n",
    "\n",
    "for index, row in df.iterrows():\n",
    "    st1 = row['names']\n",
    "    first, middle, last = st1.partition(' - ')\n",
    "    df.loc[index, 'names'] = first\n",
    "    df.loc[index, 'division'] = last\n",
    "\n",
    "# Explain what is df.loc\n",
    "# df.loc[row index, column index]\n",
    "# df.loc[0, 'names'] = first\n",
    "# df.loc[0, 'division'] = last\n",
    "\n",
    "print(df)"
   ]
  },
  {
   "cell_type": "code",
   "execution_count": 16,
   "id": "b4762791",
   "metadata": {},
   "outputs": [
    {
     "data": {
      "text/plain": [
       "'jkl - d'"
      ]
     },
     "execution_count": 16,
     "metadata": {},
     "output_type": "execute_result"
    }
   ],
   "source": [
    "st1"
   ]
  },
  {
   "cell_type": "code",
   "execution_count": 17,
   "id": "583c75d6",
   "metadata": {},
   "outputs": [
    {
     "data": {
      "text/plain": [
       "'jkl'"
      ]
     },
     "execution_count": 17,
     "metadata": {},
     "output_type": "execute_result"
    }
   ],
   "source": [
    "first"
   ]
  },
  {
   "cell_type": "code",
   "execution_count": 18,
   "id": "3b08788e",
   "metadata": {},
   "outputs": [
    {
     "data": {
      "text/plain": [
       "' - '"
      ]
     },
     "execution_count": 18,
     "metadata": {},
     "output_type": "execute_result"
    }
   ],
   "source": [
    "middle"
   ]
  },
  {
   "cell_type": "code",
   "execution_count": 19,
   "id": "0297de25",
   "metadata": {},
   "outputs": [
    {
     "data": {
      "text/plain": [
       "'d'"
      ]
     },
     "execution_count": 19,
     "metadata": {},
     "output_type": "execute_result"
    }
   ],
   "source": [
    "last"
   ]
  },
  {
   "cell_type": "code",
   "execution_count": null,
   "id": "3add82b0",
   "metadata": {},
   "outputs": [],
   "source": []
  }
 ],
 "metadata": {
  "kernelspec": {
   "display_name": "Python 3 (ipykernel)",
   "language": "python",
   "name": "python3"
  },
  "language_info": {
   "codemirror_mode": {
    "name": "ipython",
    "version": 3
   },
   "file_extension": ".py",
   "mimetype": "text/x-python",
   "name": "python",
   "nbconvert_exporter": "python",
   "pygments_lexer": "ipython3",
   "version": "3.9.7"
  }
 },
 "nbformat": 4,
 "nbformat_minor": 5
}
