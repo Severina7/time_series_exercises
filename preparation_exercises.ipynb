{
 "cells": [
  {
   "cell_type": "markdown",
   "id": "713f3a7d",
   "metadata": {},
   "source": [
    "# Prepare exercises"
   ]
  },
  {
   "cell_type": "markdown",
   "id": "7c5ce45d",
   "metadata": {},
   "source": [
    "## *I. Working to create a prepare file*"
   ]
  },
  {
   "cell_type": "markdown",
   "id": "875be27d",
   "metadata": {},
   "source": [
    "### *1. Convert date column to datetime format*"
   ]
  },
  {
   "cell_type": "markdown",
   "id": "56003bec",
   "metadata": {},
   "source": [
    "### *2. Plot the distribution of sale_amount and item_price*"
   ]
  },
  {
   "cell_type": "markdown",
   "id": "d05ab586",
   "metadata": {},
   "source": [
    "### *3. Set the index to be the datetime variable*"
   ]
  },
  {
   "cell_type": "markdown",
   "id": "a207d82e",
   "metadata": {},
   "source": [
    "### *4. Add a 'month' and 'day of week' column to your dataframe*"
   ]
  },
  {
   "cell_type": "markdown",
   "id": "e84dfc01",
   "metadata": {},
   "source": [
    "### *5. Add a column to your dataframe, sales_total, which is a derived from sale_amount (total items) and item_price*"
   ]
  },
  {
   "cell_type": "markdown",
   "id": "bcda667b",
   "metadata": {},
   "source": [
    "### *6. Make sure all the work that you have done above is reproducible. That is, you should put the code above into separate functions and be able to re-run the functions and get the same results*"
   ]
  },
  {
   "cell_type": "markdown",
   "id": "80b7acb2",
   "metadata": {},
   "source": [
    "****"
   ]
  },
  {
   "cell_type": "markdown",
   "id": "66fd7f5b",
   "metadata": {},
   "source": [
    "## *II. Using the OPS data acquired in the Acquire exercises opsd_germany_daily.csv, complete the following*"
   ]
  },
  {
   "cell_type": "markdown",
   "id": "93838e54",
   "metadata": {},
   "source": [
    "### *1. Convert date column to datetime format*"
   ]
  },
  {
   "cell_type": "markdown",
   "id": "f14fe003",
   "metadata": {},
   "source": [
    "### *2. Plot the distribution of each of your variables*"
   ]
  },
  {
   "cell_type": "markdown",
   "id": "04312937",
   "metadata": {},
   "source": [
    "### *3. Set the index to be the datetime variable*"
   ]
  },
  {
   "cell_type": "markdown",
   "id": "0bd15753",
   "metadata": {},
   "source": [
    "### *4. Add a month and a year column to your dataframe*"
   ]
  },
  {
   "cell_type": "markdown",
   "id": "ac0d66e6",
   "metadata": {},
   "source": [
    "### *5. Fill any missing values*"
   ]
  },
  {
   "cell_type": "markdown",
   "id": "199bc90d",
   "metadata": {},
   "source": [
    "### *6. Make sure all the work that you have done above is reproducible. That is, you should put the code above into separate functions and be able to re-run the functions and get the same results*"
   ]
  },
  {
   "cell_type": "code",
   "execution_count": null,
   "id": "46c55478",
   "metadata": {},
   "outputs": [],
   "source": []
  }
 ],
 "metadata": {
  "kernelspec": {
   "display_name": "Python 3 (ipykernel)",
   "language": "python",
   "name": "python3"
  },
  "language_info": {
   "codemirror_mode": {
    "name": "ipython",
    "version": 3
   },
   "file_extension": ".py",
   "mimetype": "text/x-python",
   "name": "python",
   "nbconvert_exporter": "python",
   "pygments_lexer": "ipython3",
   "version": "3.9.7"
  }
 },
 "nbformat": 4,
 "nbformat_minor": 5
}
