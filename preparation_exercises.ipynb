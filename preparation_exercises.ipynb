{
 "cells": [
  {
   "cell_type": "markdown",
   "id": "c811845d",
   "metadata": {},
   "source": [
    "# Prepare exercises"
   ]
  },
  {
   "cell_type": "code",
   "execution_count": 1,
   "id": "d43f1b2e",
   "metadata": {},
   "outputs": [],
   "source": [
    "import pandas as pd\n",
    "import numpy as np\n",
    "import matplotlib.pyplot as plt\n",
    "import seaborn as sns\n",
    "import requests\n",
    "import acquire\n",
    "\n",
    "from vega_datasets import data\n",
    "from datetime import datetime"
   ]
  },
  {
   "cell_type": "markdown",
   "id": "8c11ff87",
   "metadata": {},
   "source": [
    "## *I. Working to create a prepare file*"
   ]
  },
  {
   "cell_type": "markdown",
   "id": "39e3f72c",
   "metadata": {},
   "source": [
    "### *Getting to know the data*"
   ]
  },
  {
   "cell_type": "code",
   "execution_count": 2,
   "id": "c56f51ef",
   "metadata": {},
   "outputs": [
    {
     "data": {
      "text/html": [
       "<div>\n",
       "<style scoped>\n",
       "    .dataframe tbody tr th:only-of-type {\n",
       "        vertical-align: middle;\n",
       "    }\n",
       "\n",
       "    .dataframe tbody tr th {\n",
       "        vertical-align: top;\n",
       "    }\n",
       "\n",
       "    .dataframe thead th {\n",
       "        text-align: right;\n",
       "    }\n",
       "</style>\n",
       "<table border=\"1\" class=\"dataframe\">\n",
       "  <thead>\n",
       "    <tr style=\"text-align: right;\">\n",
       "      <th></th>\n",
       "      <th>item_id</th>\n",
       "      <th>sale_amount</th>\n",
       "      <th>sale_date</th>\n",
       "      <th>sale_id</th>\n",
       "      <th>store_id</th>\n",
       "      <th>item_brand</th>\n",
       "      <th>item_name</th>\n",
       "      <th>item_price</th>\n",
       "      <th>item_upc12</th>\n",
       "      <th>item_upc14</th>\n",
       "      <th>store_address</th>\n",
       "      <th>store_city</th>\n",
       "      <th>store_state</th>\n",
       "      <th>store_zipcode</th>\n",
       "    </tr>\n",
       "  </thead>\n",
       "  <tbody>\n",
       "    <tr>\n",
       "      <th>0</th>\n",
       "      <td>1</td>\n",
       "      <td>13.0</td>\n",
       "      <td>Tue, 01 Jan 2013 00:00:00 GMT</td>\n",
       "      <td>1</td>\n",
       "      <td>1</td>\n",
       "      <td>Riceland</td>\n",
       "      <td>Riceland American Jazmine Rice</td>\n",
       "      <td>0.84</td>\n",
       "      <td>35200264013</td>\n",
       "      <td>35200264013</td>\n",
       "      <td>12125 Alamo Ranch Pkwy</td>\n",
       "      <td>San Antonio</td>\n",
       "      <td>TX</td>\n",
       "      <td>78253</td>\n",
       "    </tr>\n",
       "    <tr>\n",
       "      <th>1</th>\n",
       "      <td>1</td>\n",
       "      <td>11.0</td>\n",
       "      <td>Wed, 02 Jan 2013 00:00:00 GMT</td>\n",
       "      <td>2</td>\n",
       "      <td>1</td>\n",
       "      <td>Riceland</td>\n",
       "      <td>Riceland American Jazmine Rice</td>\n",
       "      <td>0.84</td>\n",
       "      <td>35200264013</td>\n",
       "      <td>35200264013</td>\n",
       "      <td>12125 Alamo Ranch Pkwy</td>\n",
       "      <td>San Antonio</td>\n",
       "      <td>TX</td>\n",
       "      <td>78253</td>\n",
       "    </tr>\n",
       "    <tr>\n",
       "      <th>2</th>\n",
       "      <td>1</td>\n",
       "      <td>14.0</td>\n",
       "      <td>Thu, 03 Jan 2013 00:00:00 GMT</td>\n",
       "      <td>3</td>\n",
       "      <td>1</td>\n",
       "      <td>Riceland</td>\n",
       "      <td>Riceland American Jazmine Rice</td>\n",
       "      <td>0.84</td>\n",
       "      <td>35200264013</td>\n",
       "      <td>35200264013</td>\n",
       "      <td>12125 Alamo Ranch Pkwy</td>\n",
       "      <td>San Antonio</td>\n",
       "      <td>TX</td>\n",
       "      <td>78253</td>\n",
       "    </tr>\n",
       "    <tr>\n",
       "      <th>3</th>\n",
       "      <td>1</td>\n",
       "      <td>13.0</td>\n",
       "      <td>Fri, 04 Jan 2013 00:00:00 GMT</td>\n",
       "      <td>4</td>\n",
       "      <td>1</td>\n",
       "      <td>Riceland</td>\n",
       "      <td>Riceland American Jazmine Rice</td>\n",
       "      <td>0.84</td>\n",
       "      <td>35200264013</td>\n",
       "      <td>35200264013</td>\n",
       "      <td>12125 Alamo Ranch Pkwy</td>\n",
       "      <td>San Antonio</td>\n",
       "      <td>TX</td>\n",
       "      <td>78253</td>\n",
       "    </tr>\n",
       "    <tr>\n",
       "      <th>4</th>\n",
       "      <td>1</td>\n",
       "      <td>10.0</td>\n",
       "      <td>Sat, 05 Jan 2013 00:00:00 GMT</td>\n",
       "      <td>5</td>\n",
       "      <td>1</td>\n",
       "      <td>Riceland</td>\n",
       "      <td>Riceland American Jazmine Rice</td>\n",
       "      <td>0.84</td>\n",
       "      <td>35200264013</td>\n",
       "      <td>35200264013</td>\n",
       "      <td>12125 Alamo Ranch Pkwy</td>\n",
       "      <td>San Antonio</td>\n",
       "      <td>TX</td>\n",
       "      <td>78253</td>\n",
       "    </tr>\n",
       "  </tbody>\n",
       "</table>\n",
       "</div>"
      ],
      "text/plain": [
       "   item_id  sale_amount                      sale_date  sale_id  store_id  \\\n",
       "0        1         13.0  Tue, 01 Jan 2013 00:00:00 GMT        1         1   \n",
       "1        1         11.0  Wed, 02 Jan 2013 00:00:00 GMT        2         1   \n",
       "2        1         14.0  Thu, 03 Jan 2013 00:00:00 GMT        3         1   \n",
       "3        1         13.0  Fri, 04 Jan 2013 00:00:00 GMT        4         1   \n",
       "4        1         10.0  Sat, 05 Jan 2013 00:00:00 GMT        5         1   \n",
       "\n",
       "  item_brand                       item_name  item_price   item_upc12  \\\n",
       "0   Riceland  Riceland American Jazmine Rice        0.84  35200264013   \n",
       "1   Riceland  Riceland American Jazmine Rice        0.84  35200264013   \n",
       "2   Riceland  Riceland American Jazmine Rice        0.84  35200264013   \n",
       "3   Riceland  Riceland American Jazmine Rice        0.84  35200264013   \n",
       "4   Riceland  Riceland American Jazmine Rice        0.84  35200264013   \n",
       "\n",
       "    item_upc14           store_address   store_city store_state  store_zipcode  \n",
       "0  35200264013  12125 Alamo Ranch Pkwy  San Antonio          TX          78253  \n",
       "1  35200264013  12125 Alamo Ranch Pkwy  San Antonio          TX          78253  \n",
       "2  35200264013  12125 Alamo Ranch Pkwy  San Antonio          TX          78253  \n",
       "3  35200264013  12125 Alamo Ranch Pkwy  San Antonio          TX          78253  \n",
       "4  35200264013  12125 Alamo Ranch Pkwy  San Antonio          TX          78253  "
      ]
     },
     "execution_count": 2,
     "metadata": {},
     "output_type": "execute_result"
    }
   ],
   "source": [
    "# Acquiring the necessary file\n",
    "\n",
    "sales_info = acquire.get_local_sales_info()\n",
    "sales_info.head()"
   ]
  },
  {
   "cell_type": "code",
   "execution_count": 3,
   "id": "94745bb4",
   "metadata": {},
   "outputs": [
    {
     "name": "stdout",
     "output_type": "stream",
     "text": [
      "<class 'pandas.core.frame.DataFrame'>\n",
      "RangeIndex: 65000 entries, 0 to 64999\n",
      "Data columns (total 14 columns):\n",
      " #   Column         Non-Null Count  Dtype  \n",
      "---  ------         --------------  -----  \n",
      " 0   item_id        65000 non-null  int64  \n",
      " 1   sale_amount    65000 non-null  float64\n",
      " 2   sale_date      65000 non-null  object \n",
      " 3   sale_id        65000 non-null  int64  \n",
      " 4   store_id       65000 non-null  int64  \n",
      " 5   item_brand     65000 non-null  object \n",
      " 6   item_name      65000 non-null  object \n",
      " 7   item_price     65000 non-null  float64\n",
      " 8   item_upc12     65000 non-null  int64  \n",
      " 9   item_upc14     65000 non-null  int64  \n",
      " 10  store_address  65000 non-null  object \n",
      " 11  store_city     65000 non-null  object \n",
      " 12  store_state    65000 non-null  object \n",
      " 13  store_zipcode  65000 non-null  int64  \n",
      "dtypes: float64(2), int64(6), object(6)\n",
      "memory usage: 6.9+ MB\n"
     ]
    }
   ],
   "source": [
    "# General info\n",
    "\n",
    "sales_info.info()"
   ]
  },
  {
   "cell_type": "code",
   "execution_count": 4,
   "id": "16607b38",
   "metadata": {},
   "outputs": [
    {
     "data": {
      "text/plain": [
       "(65000, 14)"
      ]
     },
     "execution_count": 4,
     "metadata": {},
     "output_type": "execute_result"
    }
   ],
   "source": [
    "sales_info.shape"
   ]
  },
  {
   "cell_type": "code",
   "execution_count": 5,
   "id": "48c19b9b",
   "metadata": {},
   "outputs": [
    {
     "data": {
      "text/plain": [
       "['item_id',\n",
       " 'sale_amount',\n",
       " 'sale_date',\n",
       " 'sale_id',\n",
       " 'store_id',\n",
       " 'item_brand',\n",
       " 'item_name',\n",
       " 'item_price',\n",
       " 'item_upc12',\n",
       " 'item_upc14',\n",
       " 'store_address',\n",
       " 'store_city',\n",
       " 'store_state',\n",
       " 'store_zipcode']"
      ]
     },
     "execution_count": 5,
     "metadata": {},
     "output_type": "execute_result"
    }
   ],
   "source": [
    "sales_info.columns.tolist()"
   ]
  },
  {
   "cell_type": "markdown",
   "id": "4a426531",
   "metadata": {},
   "source": [
    "### *1. Convert date column to datetime format*"
   ]
  },
  {
   "cell_type": "code",
   "execution_count": 6,
   "id": "611e207d",
   "metadata": {},
   "outputs": [
    {
     "data": {
      "text/plain": [
       "0        Tue, 01 Jan 2013 00:00:00 GMT\n",
       "1        Wed, 02 Jan 2013 00:00:00 GMT\n",
       "2        Thu, 03 Jan 2013 00:00:00 GMT\n",
       "3        Fri, 04 Jan 2013 00:00:00 GMT\n",
       "4        Sat, 05 Jan 2013 00:00:00 GMT\n",
       "                     ...              \n",
       "64995    Tue, 22 Dec 2015 00:00:00 GMT\n",
       "64996    Wed, 23 Dec 2015 00:00:00 GMT\n",
       "64997    Thu, 24 Dec 2015 00:00:00 GMT\n",
       "64998    Fri, 25 Dec 2015 00:00:00 GMT\n",
       "64999    Sat, 26 Dec 2015 00:00:00 GMT\n",
       "Name: sale_date, Length: 65000, dtype: object"
      ]
     },
     "execution_count": 6,
     "metadata": {},
     "output_type": "execute_result"
    }
   ],
   "source": [
    "# Displaying the content of sale_date column as well as length and data type\n",
    "\n",
    "sales_info.sale_date"
   ]
  },
  {
   "cell_type": "code",
   "execution_count": 21,
   "id": "754fdb23",
   "metadata": {},
   "outputs": [
    {
     "data": {
      "text/plain": [
       "0       2013-01-01 00:00:00+00:00\n",
       "1       2013-01-02 00:00:00+00:00\n",
       "2       2013-01-03 00:00:00+00:00\n",
       "3       2013-01-04 00:00:00+00:00\n",
       "4       2013-01-05 00:00:00+00:00\n",
       "                   ...           \n",
       "64995   2015-12-22 00:00:00+00:00\n",
       "64996   2015-12-23 00:00:00+00:00\n",
       "64997   2015-12-24 00:00:00+00:00\n",
       "64998   2015-12-25 00:00:00+00:00\n",
       "64999   2015-12-26 00:00:00+00:00\n",
       "Name: sale_date, Length: 65000, dtype: datetime64[ns, UTC]"
      ]
     },
     "execution_count": 21,
     "metadata": {},
     "output_type": "execute_result"
    }
   ],
   "source": [
    "# Setting sale_date to a datetime format\n",
    "\n",
    "pd.to_datetime(sales_info.sale_date)"
   ]
  },
  {
   "cell_type": "markdown",
   "id": "b029353a",
   "metadata": {},
   "source": [
    "### *2. Plot the distribution of sale_amount and item_price*"
   ]
  },
  {
   "cell_type": "code",
   "execution_count": 22,
   "id": "f2627e12",
   "metadata": {},
   "outputs": [
    {
     "data": {
      "text/plain": [
       "143"
      ]
     },
     "execution_count": 22,
     "metadata": {},
     "output_type": "execute_result"
    }
   ],
   "source": [
    "# Checking the number of categories inside sale_amount\n",
    "\n",
    "sales_info.sale_amount.nunique()"
   ]
  },
  {
   "cell_type": "code",
   "execution_count": 8,
   "id": "337121df",
   "metadata": {},
   "outputs": [
    {
     "data": {
      "text/plain": [
       "<AxesSubplot:>"
      ]
     },
     "execution_count": 8,
     "metadata": {},
     "output_type": "execute_result"
    },
    {
     "data": {
      "image/png": "[encoded data removed]",
      "text/plain": [
       "<Figure size 504x288 with 1 Axes>"
      ]
     },
     "metadata": {
      "needs_background": "light"
     },
     "output_type": "display_data"
    }
   ],
   "source": [
    "# Plotting sale_amount\n",
    "\n",
    "plt.figure(figsize= (7, 4))\n",
    "sales_info.sale_amount.hist()"
   ]
  },
  {
   "cell_type": "code",
   "execution_count": 9,
   "id": "20dfcd9f",
   "metadata": {},
   "outputs": [
    {
     "data": {
      "text/plain": [
       "array([0.84, 6.44, 2.43, 3.14])"
      ]
     },
     "execution_count": 9,
     "metadata": {},
     "output_type": "execute_result"
    }
   ],
   "source": [
    "# Checking the number of categories inside item_price and their label\n",
    "\n",
    "sales_info.item_price.unique()"
   ]
  },
  {
   "cell_type": "code",
   "execution_count": 10,
   "id": "39f2c5df",
   "metadata": {},
   "outputs": [
    {
     "data": {
      "text/plain": [
       "<AxesSubplot:>"
      ]
     },
     "execution_count": 10,
     "metadata": {},
     "output_type": "execute_result"
    },
    {
     "data": {
      "image/png": "[encoded data removed]",
      "text/plain": [
       "<Figure size 504x288 with 1 Axes>"
      ]
     },
     "metadata": {
      "needs_background": "light"
     },
     "output_type": "display_data"
    }
   ],
   "source": [
    "# Plotting sale_amount\n",
    "\n",
    "plt.figure(figsize= (7, 4))\n",
    "sales_info.item_price.hist(align='right')"
   ]
  },
  {
   "cell_type": "markdown",
   "id": "c39a52b4",
   "metadata": {},
   "source": [
    "### *3. Set the index to be the datetime variable*"
   ]
  },
  {
   "cell_type": "code",
   "execution_count": 23,
   "id": "2bd836fa",
   "metadata": {},
   "outputs": [
    {
     "data": {
      "text/html": [
       "<div>\n",
       "<style scoped>\n",
       "    .dataframe tbody tr th:only-of-type {\n",
       "        vertical-align: middle;\n",
       "    }\n",
       "\n",
       "    .dataframe tbody tr th {\n",
       "        vertical-align: top;\n",
       "    }\n",
       "\n",
       "    .dataframe thead th {\n",
       "        text-align: right;\n",
       "    }\n",
       "</style>\n",
       "<table border=\"1\" class=\"dataframe\">\n",
       "  <thead>\n",
       "    <tr style=\"text-align: right;\">\n",
       "      <th></th>\n",
       "      <th>item_id</th>\n",
       "      <th>sale_amount</th>\n",
       "      <th>sale_id</th>\n",
       "      <th>store_id</th>\n",
       "      <th>item_brand</th>\n",
       "      <th>item_name</th>\n",
       "      <th>item_price</th>\n",
       "      <th>item_upc12</th>\n",
       "      <th>item_upc14</th>\n",
       "      <th>store_address</th>\n",
       "      <th>store_city</th>\n",
       "      <th>store_state</th>\n",
       "      <th>store_zipcode</th>\n",
       "    </tr>\n",
       "    <tr>\n",
       "      <th>sale_date</th>\n",
       "      <th></th>\n",
       "      <th></th>\n",
       "      <th></th>\n",
       "      <th></th>\n",
       "      <th></th>\n",
       "      <th></th>\n",
       "      <th></th>\n",
       "      <th></th>\n",
       "      <th></th>\n",
       "      <th></th>\n",
       "      <th></th>\n",
       "      <th></th>\n",
       "      <th></th>\n",
       "    </tr>\n",
       "  </thead>\n",
       "  <tbody>\n",
       "    <tr>\n",
       "      <th>Fri, 01 Apr 2016 00:00:00 GMT</th>\n",
       "      <td>2</td>\n",
       "      <td>53.0</td>\n",
       "      <td>23099</td>\n",
       "      <td>3</td>\n",
       "      <td>Caress</td>\n",
       "      <td>Caress Velvet Bliss Ultra Silkening Beauty Bar...</td>\n",
       "      <td>6.44</td>\n",
       "      <td>11111065925</td>\n",
       "      <td>11111065925</td>\n",
       "      <td>2118 Fredericksburg Rdj</td>\n",
       "      <td>San Antonio</td>\n",
       "      <td>TX</td>\n",
       "      <td>78201</td>\n",
       "    </tr>\n",
       "    <tr>\n",
       "      <th>Fri, 01 Apr 2016 00:00:00 GMT</th>\n",
       "      <td>1</td>\n",
       "      <td>22.0</td>\n",
       "      <td>10317</td>\n",
       "      <td>6</td>\n",
       "      <td>Riceland</td>\n",
       "      <td>Riceland American Jazmine Rice</td>\n",
       "      <td>0.84</td>\n",
       "      <td>35200264013</td>\n",
       "      <td>35200264013</td>\n",
       "      <td>1015 S WW White Rd</td>\n",
       "      <td>San Antonio</td>\n",
       "      <td>TX</td>\n",
       "      <td>78220</td>\n",
       "    </tr>\n",
       "    <tr>\n",
       "      <th>Fri, 01 Apr 2016 00:00:00 GMT</th>\n",
       "      <td>2</td>\n",
       "      <td>53.0</td>\n",
       "      <td>30403</td>\n",
       "      <td>7</td>\n",
       "      <td>Caress</td>\n",
       "      <td>Caress Velvet Bliss Ultra Silkening Beauty Bar...</td>\n",
       "      <td>6.44</td>\n",
       "      <td>11111065925</td>\n",
       "      <td>11111065925</td>\n",
       "      <td>12018 Perrin Beitel Rd</td>\n",
       "      <td>San Antonio</td>\n",
       "      <td>TX</td>\n",
       "      <td>78217</td>\n",
       "    </tr>\n",
       "    <tr>\n",
       "      <th>Fri, 01 Apr 2016 00:00:00 GMT</th>\n",
       "      <td>1</td>\n",
       "      <td>21.0</td>\n",
       "      <td>6665</td>\n",
       "      <td>4</td>\n",
       "      <td>Riceland</td>\n",
       "      <td>Riceland American Jazmine Rice</td>\n",
       "      <td>0.84</td>\n",
       "      <td>35200264013</td>\n",
       "      <td>35200264013</td>\n",
       "      <td>516 S Flores St</td>\n",
       "      <td>San Antonio</td>\n",
       "      <td>TX</td>\n",
       "      <td>78204</td>\n",
       "    </tr>\n",
       "    <tr>\n",
       "      <th>Fri, 01 Apr 2016 00:00:00 GMT</th>\n",
       "      <td>3</td>\n",
       "      <td>48.0</td>\n",
       "      <td>41359</td>\n",
       "      <td>3</td>\n",
       "      <td>Earths Best</td>\n",
       "      <td>Earths Best Organic Fruit Yogurt Smoothie Mixe...</td>\n",
       "      <td>2.43</td>\n",
       "      <td>23923330139</td>\n",
       "      <td>23923330139</td>\n",
       "      <td>2118 Fredericksburg Rdj</td>\n",
       "      <td>San Antonio</td>\n",
       "      <td>TX</td>\n",
       "      <td>78201</td>\n",
       "    </tr>\n",
       "  </tbody>\n",
       "</table>\n",
       "</div>"
      ],
      "text/plain": [
       "                               item_id  sale_amount  sale_id  store_id  \\\n",
       "sale_date                                                                \n",
       "Fri, 01 Apr 2016 00:00:00 GMT        2         53.0    23099         3   \n",
       "Fri, 01 Apr 2016 00:00:00 GMT        1         22.0    10317         6   \n",
       "Fri, 01 Apr 2016 00:00:00 GMT        2         53.0    30403         7   \n",
       "Fri, 01 Apr 2016 00:00:00 GMT        1         21.0     6665         4   \n",
       "Fri, 01 Apr 2016 00:00:00 GMT        3         48.0    41359         3   \n",
       "\n",
       "                                item_brand  \\\n",
       "sale_date                                    \n",
       "Fri, 01 Apr 2016 00:00:00 GMT       Caress   \n",
       "Fri, 01 Apr 2016 00:00:00 GMT     Riceland   \n",
       "Fri, 01 Apr 2016 00:00:00 GMT       Caress   \n",
       "Fri, 01 Apr 2016 00:00:00 GMT     Riceland   \n",
       "Fri, 01 Apr 2016 00:00:00 GMT  Earths Best   \n",
       "\n",
       "                                                                       item_name  \\\n",
       "sale_date                                                                          \n",
       "Fri, 01 Apr 2016 00:00:00 GMT  Caress Velvet Bliss Ultra Silkening Beauty Bar...   \n",
       "Fri, 01 Apr 2016 00:00:00 GMT                     Riceland American Jazmine Rice   \n",
       "Fri, 01 Apr 2016 00:00:00 GMT  Caress Velvet Bliss Ultra Silkening Beauty Bar...   \n",
       "Fri, 01 Apr 2016 00:00:00 GMT                     Riceland American Jazmine Rice   \n",
       "Fri, 01 Apr 2016 00:00:00 GMT  Earths Best Organic Fruit Yogurt Smoothie Mixe...   \n",
       "\n",
       "                               item_price   item_upc12   item_upc14  \\\n",
       "sale_date                                                             \n",
       "Fri, 01 Apr 2016 00:00:00 GMT        6.44  11111065925  11111065925   \n",
       "Fri, 01 Apr 2016 00:00:00 GMT        0.84  35200264013  35200264013   \n",
       "Fri, 01 Apr 2016 00:00:00 GMT        6.44  11111065925  11111065925   \n",
       "Fri, 01 Apr 2016 00:00:00 GMT        0.84  35200264013  35200264013   \n",
       "Fri, 01 Apr 2016 00:00:00 GMT        2.43  23923330139  23923330139   \n",
       "\n",
       "                                         store_address   store_city  \\\n",
       "sale_date                                                             \n",
       "Fri, 01 Apr 2016 00:00:00 GMT  2118 Fredericksburg Rdj  San Antonio   \n",
       "Fri, 01 Apr 2016 00:00:00 GMT       1015 S WW White Rd  San Antonio   \n",
       "Fri, 01 Apr 2016 00:00:00 GMT   12018 Perrin Beitel Rd  San Antonio   \n",
       "Fri, 01 Apr 2016 00:00:00 GMT          516 S Flores St  San Antonio   \n",
       "Fri, 01 Apr 2016 00:00:00 GMT  2118 Fredericksburg Rdj  San Antonio   \n",
       "\n",
       "                              store_state  store_zipcode  \n",
       "sale_date                                                 \n",
       "Fri, 01 Apr 2016 00:00:00 GMT          TX          78201  \n",
       "Fri, 01 Apr 2016 00:00:00 GMT          TX          78220  \n",
       "Fri, 01 Apr 2016 00:00:00 GMT          TX          78217  \n",
       "Fri, 01 Apr 2016 00:00:00 GMT          TX          78204  \n",
       "Fri, 01 Apr 2016 00:00:00 GMT          TX          78201  "
      ]
     },
     "execution_count": 23,
     "metadata": {},
     "output_type": "execute_result"
    }
   ],
   "source": [
    "sales_info1 = sales_info.set_index('sale_date').sort_index()\n",
    "sales_info1.head()"
   ]
  },
  {
   "cell_type": "markdown",
   "id": "088b0b24",
   "metadata": {},
   "source": [
    "### *4. Add a 'month' and 'day of week' column to your dataframe*"
   ]
  },
  {
   "cell_type": "markdown",
   "id": "c40f6837",
   "metadata": {},
   "source": [
    "**The data is in GMT and I will convert it to Central**"
   ]
  },
  {
   "cell_type": "code",
   "execution_count": 26,
   "id": "cde1dd82",
   "metadata": {},
   "outputs": [
    {
     "ename": "TypeError",
     "evalue": "index is not a valid DatetimeIndex or PeriodIndex",
     "output_type": "error",
     "traceback": [
      "\u001b[0;31m---------------------------------------------------------------------------\u001b[0m",
      "\u001b[0;31mTypeError\u001b[0m                                 Traceback (most recent call last)",
      "\u001b[0;32m/var/folders/5k/zptdym41293159jft7y2b6cm0000gp/T/ipykernel_78700/3839798219.py\u001b[0m in \u001b[0;36m<module>\u001b[0;34m\u001b[0m\n\u001b[0;32m----> 1\u001b[0;31m \u001b[0msales_info1\u001b[0m \u001b[0;34m=\u001b[0m \u001b[0;34m(\u001b[0m\u001b[0msales_info\u001b[0m\u001b[0;34m.\u001b[0m\u001b[0mtz_localize\u001b[0m\u001b[0;34m(\u001b[0m\u001b[0;34m\"utc\"\u001b[0m\u001b[0;34m)\u001b[0m\u001b[0;34m.\u001b[0m\u001b[0mtz_convert\u001b[0m\u001b[0;34m(\u001b[0m\u001b[0;34m\"US/Central\"\u001b[0m\u001b[0;34m)\u001b[0m\u001b[0;34m)\u001b[0m\u001b[0;34m\u001b[0m\u001b[0;34m\u001b[0m\u001b[0m\n\u001b[0m\u001b[1;32m      2\u001b[0m \u001b[0msales_info1\u001b[0m\u001b[0;34m.\u001b[0m\u001b[0mhead\u001b[0m\u001b[0;34m(\u001b[0m\u001b[0;34m)\u001b[0m\u001b[0;34m\u001b[0m\u001b[0;34m\u001b[0m\u001b[0m\n",
      "\u001b[0;32m/opt/homebrew/anaconda3/lib/python3.9/site-packages/pandas/core/generic.py\u001b[0m in \u001b[0;36mtz_localize\u001b[0;34m(self, tz, axis, level, copy, ambiguous, nonexistent)\u001b[0m\n\u001b[1;32m   9692\u001b[0m             \u001b[0;32mif\u001b[0m \u001b[0mlevel\u001b[0m \u001b[0;32mnot\u001b[0m \u001b[0;32min\u001b[0m \u001b[0;34m(\u001b[0m\u001b[0;32mNone\u001b[0m\u001b[0;34m,\u001b[0m \u001b[0;36m0\u001b[0m\u001b[0;34m,\u001b[0m \u001b[0max\u001b[0m\u001b[0;34m.\u001b[0m\u001b[0mname\u001b[0m\u001b[0;34m)\u001b[0m\u001b[0;34m:\u001b[0m\u001b[0;34m\u001b[0m\u001b[0;34m\u001b[0m\u001b[0m\n\u001b[1;32m   9693\u001b[0m                 \u001b[0;32mraise\u001b[0m \u001b[0mValueError\u001b[0m\u001b[0;34m(\u001b[0m\u001b[0;34mf\"The level {level} is not valid\"\u001b[0m\u001b[0;34m)\u001b[0m\u001b[0;34m\u001b[0m\u001b[0;34m\u001b[0m\u001b[0m\n\u001b[0;32m-> 9694\u001b[0;31m             \u001b[0max\u001b[0m \u001b[0;34m=\u001b[0m \u001b[0m_tz_localize\u001b[0m\u001b[0;34m(\u001b[0m\u001b[0max\u001b[0m\u001b[0;34m,\u001b[0m \u001b[0mtz\u001b[0m\u001b[0;34m,\u001b[0m \u001b[0mambiguous\u001b[0m\u001b[0;34m,\u001b[0m \u001b[0mnonexistent\u001b[0m\u001b[0;34m)\u001b[0m\u001b[0;34m\u001b[0m\u001b[0;34m\u001b[0m\u001b[0m\n\u001b[0m\u001b[1;32m   9695\u001b[0m \u001b[0;34m\u001b[0m\u001b[0m\n\u001b[1;32m   9696\u001b[0m         \u001b[0mresult\u001b[0m \u001b[0;34m=\u001b[0m \u001b[0mself\u001b[0m\u001b[0;34m.\u001b[0m\u001b[0mcopy\u001b[0m\u001b[0;34m(\u001b[0m\u001b[0mdeep\u001b[0m\u001b[0;34m=\u001b[0m\u001b[0mcopy\u001b[0m\u001b[0;34m)\u001b[0m\u001b[0;34m\u001b[0m\u001b[0;34m\u001b[0m\u001b[0m\n",
      "\u001b[0;32m/opt/homebrew/anaconda3/lib/python3.9/site-packages/pandas/core/generic.py\u001b[0m in \u001b[0;36m_tz_localize\u001b[0;34m(ax, tz, ambiguous, nonexistent)\u001b[0m\n\u001b[1;32m   9674\u001b[0m                 \u001b[0;32mif\u001b[0m \u001b[0mlen\u001b[0m\u001b[0;34m(\u001b[0m\u001b[0max\u001b[0m\u001b[0;34m)\u001b[0m \u001b[0;34m>\u001b[0m \u001b[0;36m0\u001b[0m\u001b[0;34m:\u001b[0m\u001b[0;34m\u001b[0m\u001b[0;34m\u001b[0m\u001b[0m\n\u001b[1;32m   9675\u001b[0m                     \u001b[0max_name\u001b[0m \u001b[0;34m=\u001b[0m \u001b[0mself\u001b[0m\u001b[0;34m.\u001b[0m\u001b[0m_get_axis_name\u001b[0m\u001b[0;34m(\u001b[0m\u001b[0maxis\u001b[0m\u001b[0;34m)\u001b[0m\u001b[0;34m\u001b[0m\u001b[0;34m\u001b[0m\u001b[0m\n\u001b[0;32m-> 9676\u001b[0;31m                     raise TypeError(\n\u001b[0m\u001b[1;32m   9677\u001b[0m                         \u001b[0;34mf\"{ax_name} is not a valid DatetimeIndex or PeriodIndex\"\u001b[0m\u001b[0;34m\u001b[0m\u001b[0;34m\u001b[0m\u001b[0m\n\u001b[1;32m   9678\u001b[0m                     )\n",
      "\u001b[0;31mTypeError\u001b[0m: index is not a valid DatetimeIndex or PeriodIndex"
     ]
    }
   ],
   "source": [
    "sales_info1 = (sales_info.tz_localize(\"utc\").tz_convert(\"US/Central\"))\n",
    "sales_info1.head()"
   ]
  },
  {
   "cell_type": "code",
   "execution_count": 14,
   "id": "ea0e6f2f",
   "metadata": {},
   "outputs": [
    {
     "ename": "AttributeError",
     "evalue": "'RangeIndex' object has no attribute 'strftime'",
     "output_type": "error",
     "traceback": [
      "\u001b[0;31m---------------------------------------------------------------------------\u001b[0m",
      "\u001b[0;31mAttributeError\u001b[0m                            Traceback (most recent call last)",
      "\u001b[0;32m/var/folders/5k/zptdym41293159jft7y2b6cm0000gp/T/ipykernel_78700/2944382584.py\u001b[0m in \u001b[0;36m<module>\u001b[0;34m\u001b[0m\n\u001b[0;32m----> 1\u001b[0;31m \u001b[0msales_info\u001b[0m\u001b[0;34m[\u001b[0m\u001b[0;34m'month'\u001b[0m\u001b[0;34m]\u001b[0m  \u001b[0;34m=\u001b[0m \u001b[0msales_info\u001b[0m\u001b[0;34m.\u001b[0m\u001b[0mindex\u001b[0m\u001b[0;34m.\u001b[0m\u001b[0mstrftime\u001b[0m\u001b[0;34m(\u001b[0m\u001b[0;34m'%m-%b'\u001b[0m\u001b[0;34m)\u001b[0m\u001b[0;34m\u001b[0m\u001b[0;34m\u001b[0m\u001b[0m\n\u001b[0m\u001b[1;32m      2\u001b[0m \u001b[0msales_info\u001b[0m\u001b[0;34m.\u001b[0m\u001b[0mhead\u001b[0m\u001b[0;34m(\u001b[0m\u001b[0;34m)\u001b[0m\u001b[0;34m\u001b[0m\u001b[0;34m\u001b[0m\u001b[0m\n",
      "\u001b[0;31mAttributeError\u001b[0m: 'RangeIndex' object has no attribute 'strftime'"
     ]
    }
   ],
   "source": [
    "sales_info['month']  = sales_info.index.strftime('%m-%b')\n",
    "sales_info.head()"
   ]
  },
  {
   "cell_type": "code",
   "execution_count": null,
   "id": "c306042f",
   "metadata": {},
   "outputs": [],
   "source": [
    "sales_info['weekday'] = sales_info.index.strftime('%w-%a')"
   ]
  },
  {
   "cell_type": "markdown",
   "id": "25bd64cb",
   "metadata": {},
   "source": [
    "### *5. Add a column to your dataframe, sales_total, which is a derived from sale_amount (total items) and item_price*"
   ]
  },
  {
   "cell_type": "markdown",
   "id": "212bb8d4",
   "metadata": {},
   "source": [
    "### *6. Make sure all the work that you have done above is reproducible. That is, you should put the code above into separate functions and be able to re-run the functions and get the same results*"
   ]
  },
  {
   "cell_type": "markdown",
   "id": "f3e20355",
   "metadata": {},
   "source": [
    "****"
   ]
  },
  {
   "cell_type": "markdown",
   "id": "bde79ee6",
   "metadata": {},
   "source": [
    "## *II. Using the OPS data acquired in the Acquire exercises opsd_germany_daily.csv, complete the following*"
   ]
  },
  {
   "cell_type": "markdown",
   "id": "9c240317",
   "metadata": {},
   "source": [
    "### *1. Convert date column to datetime format*"
   ]
  },
  {
   "cell_type": "markdown",
   "id": "78d8103a",
   "metadata": {},
   "source": [
    "### *2. Plot the distribution of each of your variables*"
   ]
  },
  {
   "cell_type": "markdown",
   "id": "d3588a61",
   "metadata": {},
   "source": [
    "### *3. Set the index to be the datetime variable*"
   ]
  },
  {
   "cell_type": "markdown",
   "id": "f613210c",
   "metadata": {},
   "source": [
    "### *4. Add a month and a year column to your dataframe*"
   ]
  },
  {
   "cell_type": "markdown",
   "id": "9e019e1c",
   "metadata": {},
   "source": [
    "### *5. Fill any missing values*"
   ]
  },
  {
   "cell_type": "markdown",
   "id": "98193272",
   "metadata": {},
   "source": [
    "### *6. Make sure all the work that you have done above is reproducible. That is, you should put the code above into separate functions and be able to re-run the functions and get the same results*"
   ]
  },
  {
   "cell_type": "code",
   "execution_count": null,
   "id": "fd173acf",
   "metadata": {},
   "outputs": [],
   "source": []
  }
 ],
 "metadata": {
  "kernelspec": {
   "display_name": "Python 3 (ipykernel)",
   "language": "python",
   "name": "python3"
  },
  "language_info": {
   "codemirror_mode": {
    "name": "ipython",
    "version": 3
   },
   "file_extension": ".py",
   "mimetype": "text/x-python",
   "name": "python",
   "nbconvert_exporter": "python",
   "pygments_lexer": "ipython3",
   "version": "3.9.7"
  }
 },
 "nbformat": 4,
 "nbformat_minor": 5
}
