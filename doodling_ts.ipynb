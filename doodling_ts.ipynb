{
 "cells": [
  {
   "cell_type": "markdown",
   "id": "012302b4",
   "metadata": {},
   "source": [
    "[blue_text](http://example.com)"
   ]
  },
  {
   "cell_type": "markdown",
   "id": "87d0fbf8",
   "metadata": {},
   "source": [
    "[Link](http://example.com/)"
   ]
  },
  {
   "cell_type": "code",
   "execution_count": 2,
   "id": "c510017e",
   "metadata": {},
   "outputs": [
    {
     "data": {
      "text/plain": [
       "Templates configuration\n",
       "-----------------------\n",
       "    Default template: 'plotly'\n",
       "    Available templates:\n",
       "        ['ggplot2', 'seaborn', 'simple_white', 'plotly',\n",
       "         'plotly_white', 'plotly_dark', 'presentation', 'xgridoff',\n",
       "         'ygridoff', 'gridon', 'none']"
      ]
     },
     "execution_count": 2,
     "metadata": {},
     "output_type": "execute_result"
    }
   ],
   "source": [
    "# General imports for these exercises\n",
    "\n",
    "import pandas as pd\n",
    "import numpy as np\n",
    "import matplotlib.pyplot as plt\n",
    "import seaborn as sns\n",
    "from vega_datasets import data\n",
    "import requests\n",
    "import plotly.express as px\n",
    "import plotly.io as pio\n",
    "import acquire\n",
    "import prep\n",
    "from datetime import timedelta, datetime\n",
    "pio.templates"
   ]
  },
  {
   "cell_type": "code",
   "execution_count": 4,
   "id": "fcd8767a",
   "metadata": {},
   "outputs": [
    {
     "ename": "AttributeError",
     "evalue": "module 'plotly.express' has no attribute 'make_subplots'",
     "output_type": "error",
     "traceback": [
      "\u001b[0;31m---------------------------------------------------------------------------\u001b[0m",
      "\u001b[0;31mAttributeError\u001b[0m                            Traceback (most recent call last)",
      "\u001b[0;32m/var/folders/5k/zptdym41293159jft7y2b6cm0000gp/T/ipykernel_14808/1909881139.py\u001b[0m in \u001b[0;36m<module>\u001b[0;34m\u001b[0m\n\u001b[1;32m      2\u001b[0m \u001b[0;31m# import plotly.graph_objects as go\u001b[0m\u001b[0;34m\u001b[0m\u001b[0;34m\u001b[0m\u001b[0m\n\u001b[1;32m      3\u001b[0m \u001b[0;34m\u001b[0m\u001b[0m\n\u001b[0;32m----> 4\u001b[0;31m \u001b[0mfig\u001b[0m \u001b[0;34m=\u001b[0m \u001b[0mpx\u001b[0m\u001b[0;34m.\u001b[0m\u001b[0mmake_subplots\u001b[0m\u001b[0;34m(\u001b[0m\u001b[0mrows\u001b[0m\u001b[0;34m=\u001b[0m\u001b[0;36m1\u001b[0m\u001b[0;34m,\u001b[0m \u001b[0mcols\u001b[0m\u001b[0;34m=\u001b[0m\u001b[0;36m2\u001b[0m\u001b[0;34m)\u001b[0m\u001b[0;34m\u001b[0m\u001b[0;34m\u001b[0m\u001b[0m\n\u001b[0m\u001b[1;32m      5\u001b[0m \u001b[0;34m\u001b[0m\u001b[0m\n\u001b[1;32m      6\u001b[0m \u001b[0;31m# fig.add_trace(\u001b[0m\u001b[0;34m\u001b[0m\u001b[0;34m\u001b[0m\u001b[0m\n",
      "\u001b[0;31mAttributeError\u001b[0m: module 'plotly.express' has no attribute 'make_subplots'"
     ]
    }
   ],
   "source": [
    "# from plotly.subplots import make_subplots\n",
    "# import plotly.graph_objects as go\n",
    "\n",
    "fig = px.make_subplots(rows=1, cols=2)\n",
    "\n",
    "# fig.add_trace(\n",
    "#     go.Scatter(x=[1, 2, 3], y=[4, 5, 6]),\n",
    "#     row=1, col=1\n",
    "# )\n",
    "\n",
    "# fig.add_trace(\n",
    "#     go.Scatter(x=[20, 30, 40], y=[50, 60, 70]),\n",
    "#     row=1, col=2\n",
    "# )\n",
    "\n",
    "# fig.update_layout(height=600, width=800, title_text=\"Side By Side Subplots\")\n",
    "# fig.show()"
   ]
  },
  {
   "cell_type": "code",
   "execution_count": null,
   "id": "fdab1346",
   "metadata": {},
   "outputs": [],
   "source": [
    "import array\n",
    "\n",
    "arr = array.array('a', [5, 1, 3, 4, 2, 2, 7])"
   ]
  },
  {
   "cell_type": "code",
   "execution_count": null,
   "id": "aadac839",
   "metadata": {},
   "outputs": [],
   "source": [
    "import pandas as pd\n",
    "import numpy as np\n",
    "\n",
    "data = [['abc - a', 'A'], ['def - b', 'B'], ['ghi - c', 'C'], ['jkl - d', 'D']]\n",
    "df = pd.DataFrame(data, columns=['names', 'category'])"
   ]
  },
  {
   "cell_type": "code",
   "execution_count": null,
   "id": "8636e068",
   "metadata": {},
   "outputs": [],
   "source": [
    "df"
   ]
  },
  {
   "cell_type": "code",
   "execution_count": null,
   "id": "a541e725",
   "metadata": {},
   "outputs": [],
   "source": [
    "# Iterate through each rows of column-names, and store each value in 'st1' and then ->\n",
    "# first, middle, last = st1.partition(' - ')\n",
    "# df['names'] = first\n",
    "# df['division'] = last\n",
    "# and also assigning it to dataframe one by one, please help me to get my desired output in python.\n",
    "\n",
    "\n",
    "for index, row in df.iterrows():\n",
    "    st1 = row['names']\n",
    "    first, middle, last = st1.partition(' - ')\n",
    "    df.loc[index, 'names'] = first\n",
    "    df.loc[index, 'division'] = last\n",
    "\n",
    "# Explain what is df.loc\n",
    "# df.loc[row index, column index]\n",
    "# df.loc[0, 'names'] = first\n",
    "# df.loc[0, 'division'] = last\n",
    "\n",
    "print(df)"
   ]
  },
  {
   "cell_type": "code",
   "execution_count": null,
   "id": "b4762791",
   "metadata": {},
   "outputs": [],
   "source": [
    "st1"
   ]
  },
  {
   "cell_type": "code",
   "execution_count": null,
   "id": "583c75d6",
   "metadata": {},
   "outputs": [],
   "source": [
    "first"
   ]
  },
  {
   "cell_type": "code",
   "execution_count": null,
   "id": "3b08788e",
   "metadata": {},
   "outputs": [],
   "source": [
    "middle"
   ]
  },
  {
   "cell_type": "code",
   "execution_count": null,
   "id": "0297de25",
   "metadata": {},
   "outputs": [],
   "source": [
    "last"
   ]
  },
  {
   "cell_type": "code",
   "execution_count": null,
   "id": "df7e4970",
   "metadata": {
    "scrolled": true
   },
   "outputs": [],
   "source": [
    "df = data('iris')\n",
    "df.head()"
   ]
  },
  {
   "cell_type": "code",
   "execution_count": null,
   "id": "3add82b0",
   "metadata": {
    "scrolled": true
   },
   "outputs": [],
   "source": [
    "df[df.sepalLength == 5.1]"
   ]
  },
  {
   "cell_type": "code",
   "execution_count": null,
   "id": "77f8be4f",
   "metadata": {},
   "outputs": [],
   "source": [
    "df.sepalLength = (df.sepalLength == 5.1).replace(5.2)"
   ]
  },
  {
   "cell_type": "code",
   "execution_count": null,
   "id": "c1de463a",
   "metadata": {},
   "outputs": [],
   "source": [
    "df.replace(to_replace=['setosa', 'versicolor'], value= 'Mwahahaha', inplace=True)\n",
    "df.sample(30)"
   ]
  },
  {
   "cell_type": "code",
   "execution_count": null,
   "id": "cfbbd77a",
   "metadata": {},
   "outputs": [],
   "source": [
    "df.replace(to_replace=5.1, value=5.2, inplace=True)"
   ]
  },
  {
   "cell_type": "code",
   "execution_count": null,
   "id": "472409d2",
   "metadata": {},
   "outputs": [],
   "source": [
    "df[df.sepalLength == 5.2]"
   ]
  },
  {
   "cell_type": "code",
   "execution_count": null,
   "id": "8c35dbaf",
   "metadata": {},
   "outputs": [],
   "source": [
    "df.head()"
   ]
  },
  {
   "cell_type": "code",
   "execution_count": null,
   "id": "0cec24e5",
   "metadata": {},
   "outputs": [],
   "source": [
    ".str.replace(5.2)"
   ]
  },
  {
   "cell_type": "code",
   "execution_count": null,
   "id": "78f02bbf",
   "metadata": {},
   "outputs": [],
   "source": [
    "df = pd.DataFrame(np.arange(10).reshape(-1, 2), columns=['A', 'B'])\n",
    "df"
   ]
  },
  {
   "cell_type": "code",
   "execution_count": null,
   "id": "9c967bc0",
   "metadata": {},
   "outputs": [],
   "source": [
    "m = df % 3 == 0"
   ]
  },
  {
   "cell_type": "code",
   "execution_count": null,
   "id": "7c7e6268",
   "metadata": {},
   "outputs": [],
   "source": [
    "df.where(m, -df)"
   ]
  },
  {
   "cell_type": "code",
   "execution_count": null,
   "id": "20fe4404",
   "metadata": {},
   "outputs": [],
   "source": [
    "df"
   ]
  },
  {
   "cell_type": "code",
   "execution_count": null,
   "id": "9e11d81e",
   "metadata": {},
   "outputs": [],
   "source": [
    "vgsales = pd.read_csv('vgsales.csv')"
   ]
  },
  {
   "cell_type": "code",
   "execution_count": null,
   "id": "93726ba5",
   "metadata": {},
   "outputs": [],
   "source": [
    "vgsales.head()"
   ]
  },
  {
   "cell_type": "code",
   "execution_count": null,
   "id": "7bee3aeb",
   "metadata": {},
   "outputs": [],
   "source": [
    "# importing the required library\n",
    "import seaborn as sns\n",
    "import matplotlib.pyplot as plt\n",
    "\n",
    "# read a titanic.csv file\n",
    "# from seaborn library\n",
    "titanic = sns.load_dataset('titanic')\n",
    "\n",
    "\n",
    "# who v/s fare barplot\n",
    "sns.barplot(x = 'who',\n",
    "\t\t\ty = 'fare',\n",
    "\t\t\thue = 'class',\n",
    "\t\t\tdata = titanic,\n",
    "\t\t\tpalette = \"Blues\")\n",
    "\n",
    "# Show the plot\n",
    "plt.show()"
   ]
  },
  {
   "cell_type": "code",
   "execution_count": null,
   "id": "eeac1ba2",
   "metadata": {},
   "outputs": [],
   "source": [
    "titanic.head()"
   ]
  },
  {
   "cell_type": "code",
   "execution_count": null,
   "id": "d323e8d3",
   "metadata": {},
   "outputs": [],
   "source": [
    "import pandas as pd\n",
    "  \n",
    "# create a dictionary with five fields each\n",
    "data = {\n",
    "    'A': ['A1', 'A2', 'A3', 'A4', 'A5'],\n",
    "    'B': ['B1', 'B2', 'B3', 'B4', 'B5'],\n",
    "    'C': ['C1', 'C2', 'C3', 'C4', 'C5'],\n",
    "    'D': ['D1', 'D2', 'D3', 'D4', 'D5'],\n",
    "    'E': ['E1', 'E2', 'E3', 'E4', 'E5']}\n",
    "  \n",
    "# Convert the dictionary into DataFrame\n",
    "df = pd.DataFrame(data)\n",
    "df.pop('B')\n",
    "  \n",
    "df"
   ]
  }
 ],
 "metadata": {
  "kernelspec": {
   "display_name": "Python 3 (ipykernel)",
   "language": "python",
   "name": "python3"
  },
  "language_info": {
   "codemirror_mode": {
    "name": "ipython",
    "version": 3
   },
   "file_extension": ".py",
   "mimetype": "text/x-python",
   "name": "python",
   "nbconvert_exporter": "python",
   "pygments_lexer": "ipython3",
   "version": "3.9.7"
  }
 },
 "nbformat": 4,
 "nbformat_minor": 5
}
