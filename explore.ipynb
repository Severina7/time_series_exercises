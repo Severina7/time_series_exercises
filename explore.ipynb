{
 "cells": [
  {
   "cell_type": "markdown",
   "id": "fc0ce47c",
   "metadata": {},
   "source": [
    "# Explore time series"
   ]
  },
  {
   "cell_type": "code",
   "execution_count": null,
   "id": "5a2b1158",
   "metadata": {},
   "outputs": [],
   "source": [
    "# Ignoring warning messages from python\n",
    "import warnings\n",
    "warnings.filterwarnings('ignore')\n",
    "\n",
    "# General use imports\n",
    "import pandas as pd\n",
    "import numpy as np\n",
    "\n",
    "# Visualization imports\n",
    "import matplotlib.pyplot as plt\n",
    "import seaborn as sns\n",
    "import plotly.express as px\n",
    "\n",
    "# Modules and data\n",
    "import requests\n",
    "import acquire\n",
    "import prep\n",
    "from datetime import timedelta, datetime\n",
    "\n",
    "# Module for statistical tests and model evaluation\n",
    "import statsmodels.api as sm"
   ]
  },
  {
   "cell_type": "code",
   "execution_count": null,
   "id": "70d3d4d7",
   "metadata": {},
   "outputs": [],
   "source": [
    "# Getting the sales dataset (store item demand dataset)\n",
    "sales = acquire.get_local_sales()\n",
    "sales.head()"
   ]
  },
  {
   "cell_type": "code",
   "execution_count": null,
   "id": "72fac8f0",
   "metadata": {},
   "outputs": [],
   "source": [
    "sales1 = prep.prep_sales_data(sales)\n",
    "sales1.head()"
   ]
  },
  {
   "cell_type": "code",
   "execution_count": null,
   "id": "d7d573ac",
   "metadata": {},
   "outputs": [],
   "source": []
  }
 ],
 "metadata": {
  "kernelspec": {
   "display_name": "Python 3 (ipykernel)",
   "language": "python",
   "name": "python3"
  },
  "language_info": {
   "codemirror_mode": {
    "name": "ipython",
    "version": 3
   },
   "file_extension": ".py",
   "mimetype": "text/x-python",
   "name": "python",
   "nbconvert_exporter": "python",
   "pygments_lexer": "ipython3",
   "version": "3.9.7"
  }
 },
 "nbformat": 4,
 "nbformat_minor": 5
}
