{
 "cells": [
  {
   "cell_type": "code",
   "execution_count": 7,
   "id": "7042d5b9",
   "metadata": {},
   "outputs": [],
   "source": [
    "# General imports for these exercises\n",
    "\n",
    "import pandas as pd\n",
    "import numpy as np\n",
    "import matplotlib.pyplot as plt\n",
    "import seaborn as sns\n",
    "from vega_datasets import data"
   ]
  },
  {
   "cell_type": "code",
   "execution_count": 3,
   "id": "01aff566",
   "metadata": {},
   "outputs": [],
   "source": [
    "date = ['TRANSACTION DATE : 08:42 AM, 30 Nov 2021',\n",
    "        'TRANSACTION DATE : 08:46 AM, 30 Nov 2021',\n",
    "        'TRANSACTION DATE : 08:51 AM, 30 Nov 2021',\n",
    "        'TRANSACTION DATE : 08:58 AM, 30 Nov 2021',\n",
    "        'TRANSACTION DATE : 09:12 AM, 30 Nov 2021']"
   ]
  },
  {
   "cell_type": "code",
   "execution_count": 4,
   "id": "f29f1d37",
   "metadata": {
    "scrolled": true
   },
   "outputs": [
    {
     "data": {
      "text/plain": [
       "['TRANSACTION DATE : 08:42 AM, 30 Nov 2021',\n",
       " 'TRANSACTION DATE : 08:46 AM, 30 Nov 2021',\n",
       " 'TRANSACTION DATE : 08:51 AM, 30 Nov 2021',\n",
       " 'TRANSACTION DATE : 08:58 AM, 30 Nov 2021',\n",
       " 'TRANSACTION DATE : 09:12 AM, 30 Nov 2021']"
      ]
     },
     "execution_count": 4,
     "metadata": {},
     "output_type": "execute_result"
    }
   ],
   "source": [
    "date"
   ]
  },
  {
   "cell_type": "code",
   "execution_count": 13,
   "id": "c59506e3",
   "metadata": {},
   "outputs": [
    {
     "data": {
      "text/plain": [
       "list"
      ]
     },
     "execution_count": 13,
     "metadata": {},
     "output_type": "execute_result"
    }
   ],
   "source": [
    "type(date)"
   ]
  },
  {
   "cell_type": "code",
   "execution_count": 14,
   "id": "c0380b42",
   "metadata": {},
   "outputs": [],
   "source": [
    "client_id = ['CLIENT ID : C00001',\n",
    "             'CLIENT ID : C00002',\n",
    "             'CLIENT ID : C00001',\n",
    "             'CLIENT ID : C00003',\n",
    "             'CLIENT ID : C00004']"
   ]
  },
  {
   "cell_type": "code",
   "execution_count": 16,
   "id": "488bf2ac",
   "metadata": {},
   "outputs": [
    {
     "data": {
      "text/plain": [
       "list"
      ]
     },
     "execution_count": 16,
     "metadata": {},
     "output_type": "execute_result"
    }
   ],
   "source": [
    "type(client_id)"
   ]
  },
  {
   "cell_type": "code",
   "execution_count": 17,
   "id": "0e9c3dd3",
   "metadata": {},
   "outputs": [],
   "source": [
    "client_name = ['CLIENT NAME : SALISU BISI',\n",
    "               'CLIENT NAME : SULE YAYA',\n",
    "               'CLIENT NAME : SALISU BIST',\n",
    "               'CLIENT NAME : ADEGOKE BAYO',\n",
    "               'CLIENT NAME : COKER PRIYE']"
   ]
  },
  {
   "cell_type": "code",
   "execution_count": 18,
   "id": "53dda0b0",
   "metadata": {},
   "outputs": [
    {
     "data": {
      "text/plain": [
       "list"
      ]
     },
     "execution_count": 18,
     "metadata": {},
     "output_type": "execute_result"
    }
   ],
   "source": [
    "type(client_name)"
   ]
  },
  {
   "cell_type": "code",
   "execution_count": 20,
   "id": "cda05496",
   "metadata": {},
   "outputs": [],
   "source": [
    "df = pd.DataFrame(list(zip(date, client_id, client_name)), columns=['date', 'client_id', 'client_name'])"
   ]
  },
  {
   "cell_type": "code",
   "execution_count": 25,
   "id": "bf223575",
   "metadata": {},
   "outputs": [],
   "source": [
    "df1 = pd.DataFrame(['TRANSACTION DATE : 08:42 AM, 30 Nov 2021',\n",
    "                    'TRANSACTION DATE : 08:46 AM, 30 Nov 2021',\n",
    "                    'TRANSACTION DATE : 08:51 AM, 30 Nov 2021',\n",
    "                    'TRANSACTION DATE : 08:58 AM, 30 Nov 2021',\n",
    "                    'TRANSACTION DATE : 09:12 AM, 30 Nov 2021'])"
   ]
  },
  {
   "cell_type": "code",
   "execution_count": 26,
   "id": "ce8093c0",
   "metadata": {},
   "outputs": [
    {
     "data": {
      "text/html": [
       "<div>\n",
       "<style scoped>\n",
       "    .dataframe tbody tr th:only-of-type {\n",
       "        vertical-align: middle;\n",
       "    }\n",
       "\n",
       "    .dataframe tbody tr th {\n",
       "        vertical-align: top;\n",
       "    }\n",
       "\n",
       "    .dataframe thead th {\n",
       "        text-align: right;\n",
       "    }\n",
       "</style>\n",
       "<table border=\"1\" class=\"dataframe\">\n",
       "  <thead>\n",
       "    <tr style=\"text-align: right;\">\n",
       "      <th></th>\n",
       "      <th>0</th>\n",
       "    </tr>\n",
       "  </thead>\n",
       "  <tbody>\n",
       "    <tr>\n",
       "      <th>0</th>\n",
       "      <td>TRANSACTION DATE : 08:42 AM, 30 Nov 2021</td>\n",
       "    </tr>\n",
       "    <tr>\n",
       "      <th>1</th>\n",
       "      <td>TRANSACTION DATE : 08:46 AM, 30 Nov 2021</td>\n",
       "    </tr>\n",
       "    <tr>\n",
       "      <th>2</th>\n",
       "      <td>TRANSACTION DATE : 08:51 AM, 30 Nov 2021</td>\n",
       "    </tr>\n",
       "    <tr>\n",
       "      <th>3</th>\n",
       "      <td>TRANSACTION DATE : 08:58 AM, 30 Nov 2021</td>\n",
       "    </tr>\n",
       "    <tr>\n",
       "      <th>4</th>\n",
       "      <td>TRANSACTION DATE : 09:12 AM, 30 Nov 2021</td>\n",
       "    </tr>\n",
       "  </tbody>\n",
       "</table>\n",
       "</div>"
      ],
      "text/plain": [
       "                                          0\n",
       "0  TRANSACTION DATE : 08:42 AM, 30 Nov 2021\n",
       "1  TRANSACTION DATE : 08:46 AM, 30 Nov 2021\n",
       "2  TRANSACTION DATE : 08:51 AM, 30 Nov 2021\n",
       "3  TRANSACTION DATE : 08:58 AM, 30 Nov 2021\n",
       "4  TRANSACTION DATE : 09:12 AM, 30 Nov 2021"
      ]
     },
     "execution_count": 26,
     "metadata": {},
     "output_type": "execute_result"
    }
   ],
   "source": [
    "df1"
   ]
  },
  {
   "cell_type": "code",
   "execution_count": 21,
   "id": "45f38072",
   "metadata": {
    "scrolled": true
   },
   "outputs": [
    {
     "data": {
      "text/html": [
       "<div>\n",
       "<style scoped>\n",
       "    .dataframe tbody tr th:only-of-type {\n",
       "        vertical-align: middle;\n",
       "    }\n",
       "\n",
       "    .dataframe tbody tr th {\n",
       "        vertical-align: top;\n",
       "    }\n",
       "\n",
       "    .dataframe thead th {\n",
       "        text-align: right;\n",
       "    }\n",
       "</style>\n",
       "<table border=\"1\" class=\"dataframe\">\n",
       "  <thead>\n",
       "    <tr style=\"text-align: right;\">\n",
       "      <th></th>\n",
       "      <th>date</th>\n",
       "      <th>client_id</th>\n",
       "      <th>client_name</th>\n",
       "    </tr>\n",
       "  </thead>\n",
       "  <tbody>\n",
       "    <tr>\n",
       "      <th>0</th>\n",
       "      <td>TRANSACTION DATE : 08:42 AM, 30 Nov 2021</td>\n",
       "      <td>CLIENT ID : C00001</td>\n",
       "      <td>CLIENT NAME : SALISU BISI</td>\n",
       "    </tr>\n",
       "    <tr>\n",
       "      <th>1</th>\n",
       "      <td>TRANSACTION DATE : 08:46 AM, 30 Nov 2021</td>\n",
       "      <td>CLIENT ID : C00002</td>\n",
       "      <td>CLIENT NAME : SULE YAYA</td>\n",
       "    </tr>\n",
       "    <tr>\n",
       "      <th>2</th>\n",
       "      <td>TRANSACTION DATE : 08:51 AM, 30 Nov 2021</td>\n",
       "      <td>CLIENT ID : C00001</td>\n",
       "      <td>CLIENT NAME : SALISU BIST</td>\n",
       "    </tr>\n",
       "    <tr>\n",
       "      <th>3</th>\n",
       "      <td>TRANSACTION DATE : 08:58 AM, 30 Nov 2021</td>\n",
       "      <td>CLIENT ID : C00003</td>\n",
       "      <td>CLIENT NAME : ADEGOKE BAYO</td>\n",
       "    </tr>\n",
       "    <tr>\n",
       "      <th>4</th>\n",
       "      <td>TRANSACTION DATE : 09:12 AM, 30 Nov 2021</td>\n",
       "      <td>CLIENT ID : C00004</td>\n",
       "      <td>CLIENT NAME : COKER PRIYE</td>\n",
       "    </tr>\n",
       "  </tbody>\n",
       "</table>\n",
       "</div>"
      ],
      "text/plain": [
       "                                       date           client_id  \\\n",
       "0  TRANSACTION DATE : 08:42 AM, 30 Nov 2021  CLIENT ID : C00001   \n",
       "1  TRANSACTION DATE : 08:46 AM, 30 Nov 2021  CLIENT ID : C00002   \n",
       "2  TRANSACTION DATE : 08:51 AM, 30 Nov 2021  CLIENT ID : C00001   \n",
       "3  TRANSACTION DATE : 08:58 AM, 30 Nov 2021  CLIENT ID : C00003   \n",
       "4  TRANSACTION DATE : 09:12 AM, 30 Nov 2021  CLIENT ID : C00004   \n",
       "\n",
       "                  client_name  \n",
       "0   CLIENT NAME : SALISU BISI  \n",
       "1     CLIENT NAME : SULE YAYA  \n",
       "2   CLIENT NAME : SALISU BIST  \n",
       "3  CLIENT NAME : ADEGOKE BAYO  \n",
       "4   CLIENT NAME : COKER PRIYE  "
      ]
     },
     "execution_count": 21,
     "metadata": {},
     "output_type": "execute_result"
    }
   ],
   "source": [
    "df.head()"
   ]
  },
  {
   "cell_type": "markdown",
   "id": "f6578871",
   "metadata": {},
   "source": [
    "****"
   ]
  },
  {
   "cell_type": "code",
   "execution_count": 29,
   "id": "d0973cba",
   "metadata": {},
   "outputs": [
    {
     "ename": "SyntaxError",
     "evalue": "invalid syntax (1208305367.py, line 5)",
     "output_type": "error",
     "traceback": [
      "\u001b[0;36m  File \u001b[0;32m\"/var/folders/5k/zptdym41293159jft7y2b6cm0000gp/T/ipykernel_47313/1208305367.py\"\u001b[0;36m, line \u001b[0;32m5\u001b[0m\n\u001b[0;31m    '09:12 AM, 30 Nov 2021', column=['TRANSACTION DATE']]\u001b[0m\n\u001b[0m                                   ^\u001b[0m\n\u001b[0;31mSyntaxError\u001b[0m\u001b[0;31m:\u001b[0m invalid syntax\n"
     ]
    }
   ],
   "source": [
    "date1 = ['08:42 AM, 30 Nov 2021',\n",
    "        '08:46 AM, 30 Nov 2021',\n",
    "        '08:51 AM, 30 Nov 2021',\n",
    "        '08:58 AM, 30 Nov 2021',\n",
    "        '09:12 AM, 30 Nov 2021', column=['transaction date']]"
   ]
  },
  {
   "cell_type": "code",
   "execution_count": 28,
   "id": "3354d526",
   "metadata": {
    "scrolled": true
   },
   "outputs": [
    {
     "data": {
      "text/plain": [
       "['08:42 AM, 30 Nov 2021',\n",
       " '08:46 AM, 30 Nov 2021',\n",
       " '08:51 AM, 30 Nov 2021',\n",
       " '08:58 AM, 30 Nov 2021',\n",
       " '09:12 AM, 30 Nov 2021']"
      ]
     },
     "execution_count": 28,
     "metadata": {},
     "output_type": "execute_result"
    }
   ],
   "source": [
    "date1"
   ]
  },
  {
   "cell_type": "code",
   "execution_count": null,
   "id": "09a00d1c",
   "metadata": {},
   "outputs": [],
   "source": [
    "df = pd.DataFrame"
   ]
  },
  {
   "cell_type": "code",
   "execution_count": 13,
   "id": "b14b8901",
   "metadata": {},
   "outputs": [
    {
     "data": {
      "text/plain": [
       "list"
      ]
     },
     "execution_count": 13,
     "metadata": {},
     "output_type": "execute_result"
    }
   ],
   "source": [
    "type(date)"
   ]
  },
  {
   "cell_type": "code",
   "execution_count": 14,
   "id": "9e7883c4",
   "metadata": {},
   "outputs": [],
   "source": [
    "client_id = ['CLIENT ID : C00001',\n",
    "             'CLIENT ID : C00002',\n",
    "             'CLIENT ID : C00001',\n",
    "             'CLIENT ID : C00003',\n",
    "             'CLIENT ID : C00004']"
   ]
  },
  {
   "cell_type": "code",
   "execution_count": 16,
   "id": "0bd6ecde",
   "metadata": {},
   "outputs": [
    {
     "data": {
      "text/plain": [
       "list"
      ]
     },
     "execution_count": 16,
     "metadata": {},
     "output_type": "execute_result"
    }
   ],
   "source": [
    "type(client_id)"
   ]
  },
  {
   "cell_type": "code",
   "execution_count": 30,
   "id": "90f59b38",
   "metadata": {},
   "outputs": [
    {
     "ename": "ValueError",
     "evalue": "list.remove(x): x not in list",
     "output_type": "error",
     "traceback": [
      "\u001b[0;31m---------------------------------------------------------------------------\u001b[0m",
      "\u001b[0;31mValueError\u001b[0m                                Traceback (most recent call last)",
      "\u001b[0;32m/var/folders/5k/zptdym41293159jft7y2b6cm0000gp/T/ipykernel_47313/1127032933.py\u001b[0m in \u001b[0;36m<module>\u001b[0;34m\u001b[0m\n\u001b[0;32m----> 1\u001b[0;31m \u001b[0mclient_id\u001b[0m \u001b[0;34m=\u001b[0m \u001b[0mclient_id\u001b[0m\u001b[0;34m.\u001b[0m\u001b[0mremove\u001b[0m\u001b[0;34m(\u001b[0m\u001b[0;34m'CLIENT ID : '\u001b[0m\u001b[0;34m)\u001b[0m\u001b[0;34m\u001b[0m\u001b[0;34m\u001b[0m\u001b[0m\n\u001b[0m",
      "\u001b[0;31mValueError\u001b[0m: list.remove(x): x not in list"
     ]
    }
   ],
   "source": [
    "client_id = client_id.remove('CLIENT ID : ')"
   ]
  },
  {
   "cell_type": "code",
   "execution_count": 17,
   "id": "933106ec",
   "metadata": {},
   "outputs": [],
   "source": [
    "client_name = ['CLIENT NAME : SALISU BISI',\n",
    "               'CLIENT NAME : SULE YAYA',\n",
    "               'CLIENT NAME : SALISU BIST',\n",
    "               'CLIENT NAME : ADEGOKE BAYO',\n",
    "               'CLIENT NAME : COKER PRIYE']"
   ]
  },
  {
   "cell_type": "code",
   "execution_count": 18,
   "id": "2013cb3f",
   "metadata": {},
   "outputs": [
    {
     "data": {
      "text/plain": [
       "list"
      ]
     },
     "execution_count": 18,
     "metadata": {},
     "output_type": "execute_result"
    }
   ],
   "source": [
    "type(client_name)"
   ]
  },
  {
   "cell_type": "code",
   "execution_count": 20,
   "id": "6d591535",
   "metadata": {},
   "outputs": [],
   "source": [
    "df = pd.DataFrame(list(zip(date, client_id, client_name)), columns=['date', 'client_id', 'client_name'])"
   ]
  },
  {
   "cell_type": "code",
   "execution_count": 25,
   "id": "076ea465",
   "metadata": {},
   "outputs": [],
   "source": [
    "df1 = pd.DataFrame(['TRANSACTION DATE : 08:42 AM, 30 Nov 2021',\n",
    "                    'TRANSACTION DATE : 08:46 AM, 30 Nov 2021',\n",
    "                    'TRANSACTION DATE : 08:51 AM, 30 Nov 2021',\n",
    "                    'TRANSACTION DATE : 08:58 AM, 30 Nov 2021',\n",
    "                    'TRANSACTION DATE : 09:12 AM, 30 Nov 2021'])"
   ]
  },
  {
   "cell_type": "code",
   "execution_count": null,
   "id": "d53186f0",
   "metadata": {},
   "outputs": [],
   "source": []
  }
 ],
 "metadata": {
  "kernelspec": {
   "display_name": "Python 3 (ipykernel)",
   "language": "python",
   "name": "python3"
  },
  "language_info": {
   "codemirror_mode": {
    "name": "ipython",
    "version": 3
   },
   "file_extension": ".py",
   "mimetype": "text/x-python",
   "name": "python",
   "nbconvert_exporter": "python",
   "pygments_lexer": "ipython3",
   "version": "3.9.7"
  }
 },
 "nbformat": 4,
 "nbformat_minor": 5
}
