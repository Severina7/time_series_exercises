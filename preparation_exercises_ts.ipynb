{
 "cells": [
  {
   "cell_type": "markdown",
   "id": "f198244e",
   "metadata": {},
   "source": [
    "# Prepare exercises"
   ]
  },
  {
   "cell_type": "code",
   "execution_count": 1,
   "id": "b91c8c3b",
   "metadata": {},
   "outputs": [],
   "source": [
    "# Ignoring warning messages from python\n",
    "import warnings\n",
    "warnings.filterwarnings('ignore')\n",
    "\n",
    "# General use imports\n",
    "import pandas as pd\n",
    "import numpy as np\n",
    "\n",
    "# Visualization imports\n",
    "import matplotlib.pyplot as plt\n",
    "import seaborn as sns\n",
    "\n",
    "# Modules and data\n",
    "import requests\n",
    "import acquire\n",
    "from vega_datasets import data\n",
    "from datetime import datetime"
   ]
  },
  {
   "cell_type": "markdown",
   "id": "3e567c96",
   "metadata": {},
   "source": [
    "## *I. Working to create a prepare file*"
   ]
  },
  {
   "cell_type": "markdown",
   "id": "4dd7de71",
   "metadata": {},
   "source": [
    "### *Getting to know the data*"
   ]
  },
  {
   "cell_type": "code",
   "execution_count": 2,
   "id": "7f363d7a",
   "metadata": {},
   "outputs": [
    {
     "data": {
      "text/html": [
       "<div>\n",
       "<style scoped>\n",
       "    .dataframe tbody tr th:only-of-type {\n",
       "        vertical-align: middle;\n",
       "    }\n",
       "\n",
       "    .dataframe tbody tr th {\n",
       "        vertical-align: top;\n",
       "    }\n",
       "\n",
       "    .dataframe thead th {\n",
       "        text-align: right;\n",
       "    }\n",
       "</style>\n",
       "<table border=\"1\" class=\"dataframe\">\n",
       "  <thead>\n",
       "    <tr style=\"text-align: right;\">\n",
       "      <th></th>\n",
       "      <th>item_id</th>\n",
       "      <th>sale_amount</th>\n",
       "      <th>sale_date</th>\n",
       "      <th>sale_id</th>\n",
       "      <th>store_id</th>\n",
       "      <th>item_brand</th>\n",
       "      <th>item_name</th>\n",
       "      <th>item_price</th>\n",
       "      <th>item_upc12</th>\n",
       "      <th>item_upc14</th>\n",
       "      <th>store_address</th>\n",
       "      <th>store_city</th>\n",
       "      <th>store_state</th>\n",
       "      <th>store_zipcode</th>\n",
       "    </tr>\n",
       "  </thead>\n",
       "  <tbody>\n",
       "    <tr>\n",
       "      <th>0</th>\n",
       "      <td>1</td>\n",
       "      <td>13.0</td>\n",
       "      <td>Tue, 01 Jan 2013 00:00:00 GMT</td>\n",
       "      <td>1</td>\n",
       "      <td>1</td>\n",
       "      <td>Riceland</td>\n",
       "      <td>Riceland American Jazmine Rice</td>\n",
       "      <td>0.84</td>\n",
       "      <td>35200264013</td>\n",
       "      <td>35200264013</td>\n",
       "      <td>12125 Alamo Ranch Pkwy</td>\n",
       "      <td>San Antonio</td>\n",
       "      <td>TX</td>\n",
       "      <td>78253</td>\n",
       "    </tr>\n",
       "    <tr>\n",
       "      <th>1</th>\n",
       "      <td>1</td>\n",
       "      <td>11.0</td>\n",
       "      <td>Wed, 02 Jan 2013 00:00:00 GMT</td>\n",
       "      <td>2</td>\n",
       "      <td>1</td>\n",
       "      <td>Riceland</td>\n",
       "      <td>Riceland American Jazmine Rice</td>\n",
       "      <td>0.84</td>\n",
       "      <td>35200264013</td>\n",
       "      <td>35200264013</td>\n",
       "      <td>12125 Alamo Ranch Pkwy</td>\n",
       "      <td>San Antonio</td>\n",
       "      <td>TX</td>\n",
       "      <td>78253</td>\n",
       "    </tr>\n",
       "    <tr>\n",
       "      <th>2</th>\n",
       "      <td>1</td>\n",
       "      <td>14.0</td>\n",
       "      <td>Thu, 03 Jan 2013 00:00:00 GMT</td>\n",
       "      <td>3</td>\n",
       "      <td>1</td>\n",
       "      <td>Riceland</td>\n",
       "      <td>Riceland American Jazmine Rice</td>\n",
       "      <td>0.84</td>\n",
       "      <td>35200264013</td>\n",
       "      <td>35200264013</td>\n",
       "      <td>12125 Alamo Ranch Pkwy</td>\n",
       "      <td>San Antonio</td>\n",
       "      <td>TX</td>\n",
       "      <td>78253</td>\n",
       "    </tr>\n",
       "    <tr>\n",
       "      <th>3</th>\n",
       "      <td>1</td>\n",
       "      <td>13.0</td>\n",
       "      <td>Fri, 04 Jan 2013 00:00:00 GMT</td>\n",
       "      <td>4</td>\n",
       "      <td>1</td>\n",
       "      <td>Riceland</td>\n",
       "      <td>Riceland American Jazmine Rice</td>\n",
       "      <td>0.84</td>\n",
       "      <td>35200264013</td>\n",
       "      <td>35200264013</td>\n",
       "      <td>12125 Alamo Ranch Pkwy</td>\n",
       "      <td>San Antonio</td>\n",
       "      <td>TX</td>\n",
       "      <td>78253</td>\n",
       "    </tr>\n",
       "    <tr>\n",
       "      <th>4</th>\n",
       "      <td>1</td>\n",
       "      <td>10.0</td>\n",
       "      <td>Sat, 05 Jan 2013 00:00:00 GMT</td>\n",
       "      <td>5</td>\n",
       "      <td>1</td>\n",
       "      <td>Riceland</td>\n",
       "      <td>Riceland American Jazmine Rice</td>\n",
       "      <td>0.84</td>\n",
       "      <td>35200264013</td>\n",
       "      <td>35200264013</td>\n",
       "      <td>12125 Alamo Ranch Pkwy</td>\n",
       "      <td>San Antonio</td>\n",
       "      <td>TX</td>\n",
       "      <td>78253</td>\n",
       "    </tr>\n",
       "  </tbody>\n",
       "</table>\n",
       "</div>"
      ],
      "text/plain": [
       "   item_id  sale_amount                      sale_date  sale_id  store_id  \\\n",
       "0        1         13.0  Tue, 01 Jan 2013 00:00:00 GMT        1         1   \n",
       "1        1         11.0  Wed, 02 Jan 2013 00:00:00 GMT        2         1   \n",
       "2        1         14.0  Thu, 03 Jan 2013 00:00:00 GMT        3         1   \n",
       "3        1         13.0  Fri, 04 Jan 2013 00:00:00 GMT        4         1   \n",
       "4        1         10.0  Sat, 05 Jan 2013 00:00:00 GMT        5         1   \n",
       "\n",
       "  item_brand                       item_name  item_price   item_upc12  \\\n",
       "0   Riceland  Riceland American Jazmine Rice        0.84  35200264013   \n",
       "1   Riceland  Riceland American Jazmine Rice        0.84  35200264013   \n",
       "2   Riceland  Riceland American Jazmine Rice        0.84  35200264013   \n",
       "3   Riceland  Riceland American Jazmine Rice        0.84  35200264013   \n",
       "4   Riceland  Riceland American Jazmine Rice        0.84  35200264013   \n",
       "\n",
       "    item_upc14           store_address   store_city store_state  store_zipcode  \n",
       "0  35200264013  12125 Alamo Ranch Pkwy  San Antonio          TX          78253  \n",
       "1  35200264013  12125 Alamo Ranch Pkwy  San Antonio          TX          78253  \n",
       "2  35200264013  12125 Alamo Ranch Pkwy  San Antonio          TX          78253  \n",
       "3  35200264013  12125 Alamo Ranch Pkwy  San Antonio          TX          78253  \n",
       "4  35200264013  12125 Alamo Ranch Pkwy  San Antonio          TX          78253  "
      ]
     },
     "execution_count": 2,
     "metadata": {},
     "output_type": "execute_result"
    }
   ],
   "source": [
    "# Acquiring the necessary file\n",
    "\n",
    "sales = acquire.get_local_sales()\n",
    "sales.head()"
   ]
  },
  {
   "cell_type": "code",
   "execution_count": 3,
   "id": "8fe1d00a",
   "metadata": {},
   "outputs": [
    {
     "name": "stdout",
     "output_type": "stream",
     "text": [
      "<class 'pandas.core.frame.DataFrame'>\n",
      "RangeIndex: 913000 entries, 0 to 912999\n",
      "Data columns (total 14 columns):\n",
      " #   Column         Non-Null Count   Dtype  \n",
      "---  ------         --------------   -----  \n",
      " 0   item_id        913000 non-null  int64  \n",
      " 1   sale_amount    913000 non-null  float64\n",
      " 2   sale_date      913000 non-null  object \n",
      " 3   sale_id        913000 non-null  int64  \n",
      " 4   store_id       913000 non-null  int64  \n",
      " 5   item_brand     913000 non-null  object \n",
      " 6   item_name      913000 non-null  object \n",
      " 7   item_price     913000 non-null  float64\n",
      " 8   item_upc12     913000 non-null  int64  \n",
      " 9   item_upc14     913000 non-null  int64  \n",
      " 10  store_address  913000 non-null  object \n",
      " 11  store_city     913000 non-null  object \n",
      " 12  store_state    913000 non-null  object \n",
      " 13  store_zipcode  913000 non-null  int64  \n",
      "dtypes: float64(2), int64(6), object(6)\n",
      "memory usage: 97.5+ MB\n"
     ]
    }
   ],
   "source": [
    "# General info\n",
    "\n",
    "sales.info()"
   ]
  },
  {
   "cell_type": "code",
   "execution_count": 4,
   "id": "23f09c43",
   "metadata": {},
   "outputs": [
    {
     "data": {
      "text/plain": [
       "(913000, 14)"
      ]
     },
     "execution_count": 4,
     "metadata": {},
     "output_type": "execute_result"
    }
   ],
   "source": [
    "sales.shape"
   ]
  },
  {
   "cell_type": "code",
   "execution_count": 5,
   "id": "f54b8606",
   "metadata": {},
   "outputs": [
    {
     "name": "stdout",
     "output_type": "stream",
     "text": [
      "['item_id', 'sale_amount', 'sale_date', 'sale_id', 'store_id', 'item_brand', 'item_name', 'item_price', 'item_upc12', 'item_upc14', 'store_address', 'store_city', 'store_state', 'store_zipcode']"
     ]
    }
   ],
   "source": [
    "a = sales.columns.tolist()\n",
    "print(a, end='')"
   ]
  },
  {
   "cell_type": "markdown",
   "id": "977a4d45",
   "metadata": {},
   "source": [
    "### *1. Convert date column to datetime format*"
   ]
  },
  {
   "cell_type": "code",
   "execution_count": 6,
   "id": "41c56c0f",
   "metadata": {},
   "outputs": [
    {
     "data": {
      "text/plain": [
       "0         Tue, 01 Jan 2013 00:00:00 GMT\n",
       "1         Wed, 02 Jan 2013 00:00:00 GMT\n",
       "2         Thu, 03 Jan 2013 00:00:00 GMT\n",
       "3         Fri, 04 Jan 2013 00:00:00 GMT\n",
       "4         Sat, 05 Jan 2013 00:00:00 GMT\n",
       "                      ...              \n",
       "912995    Wed, 27 Dec 2017 00:00:00 GMT\n",
       "912996    Thu, 28 Dec 2017 00:00:00 GMT\n",
       "912997    Fri, 29 Dec 2017 00:00:00 GMT\n",
       "912998    Sat, 30 Dec 2017 00:00:00 GMT\n",
       "912999    Sun, 31 Dec 2017 00:00:00 GMT\n",
       "Name: sale_date, Length: 913000, dtype: object"
      ]
     },
     "execution_count": 6,
     "metadata": {},
     "output_type": "execute_result"
    }
   ],
   "source": [
    "# Displaying the content of sale_date column as well as length and data type\n",
    "\n",
    "sales.sale_date"
   ]
  },
  {
   "cell_type": "code",
   "execution_count": 9,
   "id": "da43bbce",
   "metadata": {
    "scrolled": true
   },
   "outputs": [],
   "source": [
    "# Setting sale_date to a datetime format\n",
    "sales.sale_date = pd.to_datetime(sales.sale_date)\n",
    "\n",
    "# Sort rows by the date and then set the index as that date\n",
    "sales1 = sales.set_index('sale_date').sort_index()\n"
   ]
  },
  {
   "cell_type": "code",
   "execution_count": 10,
   "id": "010d83f1",
   "metadata": {},
   "outputs": [
    {
     "data": {
      "text/plain": [
       "datetime64[ns, UTC]"
      ]
     },
     "execution_count": 10,
     "metadata": {},
     "output_type": "execute_result"
    }
   ],
   "source": [
    "sales1.index.dtype"
   ]
  },
  {
   "cell_type": "code",
   "execution_count": 12,
   "id": "632c3b0d",
   "metadata": {},
   "outputs": [
    {
     "data": {
      "text/plain": [
       "(913000, 913000)"
      ]
     },
     "execution_count": 12,
     "metadata": {},
     "output_type": "execute_result"
    }
   ],
   "source": [
    "sales1.shape[0], sales1.sale_id.nunique()"
   ]
  },
  {
   "cell_type": "code",
   "execution_count": 13,
   "id": "abb12ad2",
   "metadata": {},
   "outputs": [
    {
     "data": {
      "text/html": [
       "<div>\n",
       "<style scoped>\n",
       "    .dataframe tbody tr th:only-of-type {\n",
       "        vertical-align: middle;\n",
       "    }\n",
       "\n",
       "    .dataframe tbody tr th {\n",
       "        vertical-align: top;\n",
       "    }\n",
       "\n",
       "    .dataframe thead th {\n",
       "        text-align: right;\n",
       "    }\n",
       "</style>\n",
       "<table border=\"1\" class=\"dataframe\">\n",
       "  <thead>\n",
       "    <tr style=\"text-align: right;\">\n",
       "      <th></th>\n",
       "      <th>item_id</th>\n",
       "      <th>sale_amount</th>\n",
       "      <th>sale_id</th>\n",
       "      <th>store_id</th>\n",
       "      <th>item_brand</th>\n",
       "      <th>item_name</th>\n",
       "      <th>item_price</th>\n",
       "      <th>item_upc12</th>\n",
       "      <th>item_upc14</th>\n",
       "      <th>store_address</th>\n",
       "      <th>store_city</th>\n",
       "      <th>store_state</th>\n",
       "      <th>store_zipcode</th>\n",
       "    </tr>\n",
       "    <tr>\n",
       "      <th>sale_date</th>\n",
       "      <th></th>\n",
       "      <th></th>\n",
       "      <th></th>\n",
       "      <th></th>\n",
       "      <th></th>\n",
       "      <th></th>\n",
       "      <th></th>\n",
       "      <th></th>\n",
       "      <th></th>\n",
       "      <th></th>\n",
       "      <th></th>\n",
       "      <th></th>\n",
       "      <th></th>\n",
       "    </tr>\n",
       "  </thead>\n",
       "  <tbody>\n",
       "    <tr>\n",
       "      <th>2013-01-01 00:00:00+00:00</th>\n",
       "      <td>1</td>\n",
       "      <td>13.0</td>\n",
       "      <td>1</td>\n",
       "      <td>1</td>\n",
       "      <td>Riceland</td>\n",
       "      <td>Riceland American Jazmine Rice</td>\n",
       "      <td>0.84</td>\n",
       "      <td>35200264013</td>\n",
       "      <td>35200264013</td>\n",
       "      <td>12125 Alamo Ranch Pkwy</td>\n",
       "      <td>San Antonio</td>\n",
       "      <td>TX</td>\n",
       "      <td>78253</td>\n",
       "    </tr>\n",
       "    <tr>\n",
       "      <th>2013-01-01 00:00:00+00:00</th>\n",
       "      <td>12</td>\n",
       "      <td>26.0</td>\n",
       "      <td>211817</td>\n",
       "      <td>7</td>\n",
       "      <td>Mueller</td>\n",
       "      <td>Mueller Sport Care Basic Support Level Medium ...</td>\n",
       "      <td>8.40</td>\n",
       "      <td>74676640211</td>\n",
       "      <td>74676640211</td>\n",
       "      <td>12018 Perrin Beitel Rd</td>\n",
       "      <td>San Antonio</td>\n",
       "      <td>TX</td>\n",
       "      <td>78217</td>\n",
       "    </tr>\n",
       "  </tbody>\n",
       "</table>\n",
       "</div>"
      ],
      "text/plain": [
       "                           item_id  sale_amount  sale_id  store_id item_brand  \\\n",
       "sale_date                                                                       \n",
       "2013-01-01 00:00:00+00:00        1         13.0        1         1   Riceland   \n",
       "2013-01-01 00:00:00+00:00       12         26.0   211817         7    Mueller   \n",
       "\n",
       "                                                                   item_name  \\\n",
       "sale_date                                                                      \n",
       "2013-01-01 00:00:00+00:00                     Riceland American Jazmine Rice   \n",
       "2013-01-01 00:00:00+00:00  Mueller Sport Care Basic Support Level Medium ...   \n",
       "\n",
       "                           item_price   item_upc12   item_upc14  \\\n",
       "sale_date                                                         \n",
       "2013-01-01 00:00:00+00:00        0.84  35200264013  35200264013   \n",
       "2013-01-01 00:00:00+00:00        8.40  74676640211  74676640211   \n",
       "\n",
       "                                    store_address   store_city store_state  \\\n",
       "sale_date                                                                    \n",
       "2013-01-01 00:00:00+00:00  12125 Alamo Ranch Pkwy  San Antonio          TX   \n",
       "2013-01-01 00:00:00+00:00  12018 Perrin Beitel Rd  San Antonio          TX   \n",
       "\n",
       "                           store_zipcode  \n",
       "sale_date                                 \n",
       "2013-01-01 00:00:00+00:00          78253  \n",
       "2013-01-01 00:00:00+00:00          78217  "
      ]
     },
     "execution_count": 13,
     "metadata": {},
     "output_type": "execute_result"
    }
   ],
   "source": [
    "sales1.head(2)"
   ]
  },
  {
   "cell_type": "markdown",
   "id": "fd7f897c",
   "metadata": {},
   "source": [
    "### *2. Plot the distribution of sale_amount and item_price*"
   ]
  },
  {
   "cell_type": "code",
   "execution_count": 14,
   "id": "1d1ef464",
   "metadata": {},
   "outputs": [
    {
     "data": {
      "text/plain": [
       "213"
      ]
     },
     "execution_count": 14,
     "metadata": {},
     "output_type": "execute_result"
    }
   ],
   "source": [
    "# Checking the number of unique categories inside sale_amount\n",
    "\n",
    "sales1.sale_amount.nunique()"
   ]
  },
  {
   "cell_type": "code",
   "execution_count": 16,
   "id": "31ffa75a",
   "metadata": {},
   "outputs": [
    {
     "data": {
      "text/plain": [
       "<AxesSubplot:>"
      ]
     },
     "execution_count": 16,
     "metadata": {},
     "output_type": "execute_result"
    },
    {
     "data": {
      "image/png": "[encoded data removed]",
      "text/plain": [
       "<Figure size 504x288 with 1 Axes>"
      ]
     },
     "metadata": {
      "needs_background": "light"
     },
     "output_type": "display_data"
    }
   ],
   "source": [
    "# Plotting sale_amount\n",
    "\n",
    "plt.figure(figsize= (7, 4))\n",
    "sales1.sale_amount.hist()"
   ]
  },
  {
   "cell_type": "code",
   "execution_count": 17,
   "id": "91820c18",
   "metadata": {},
   "outputs": [
    {
     "data": {
      "text/plain": [
       "47"
      ]
     },
     "execution_count": 17,
     "metadata": {},
     "output_type": "execute_result"
    }
   ],
   "source": [
    "# Checking the number of unique categories inside item_price\n",
    "\n",
    "sales1.item_price.nunique()"
   ]
  },
  {
   "cell_type": "code",
   "execution_count": 18,
   "id": "5c3d4b6d",
   "metadata": {},
   "outputs": [
    {
     "data": {
      "text/plain": [
       "<AxesSubplot:>"
      ]
     },
     "execution_count": 18,
     "metadata": {},
     "output_type": "execute_result"
    },
    {
     "data": {
      "image/png": "[encoded data removed]",
      "text/plain": [
       "<Figure size 504x288 with 1 Axes>"
      ]
     },
     "metadata": {
      "needs_background": "light"
     },
     "output_type": "display_data"
    }
   ],
   "source": [
    "# Plotting sale_amount\n",
    "\n",
    "plt.figure(figsize= (7, 4))\n",
    "sales1.item_price.hist()"
   ]
  },
  {
   "cell_type": "markdown",
   "id": "62c1afdc",
   "metadata": {},
   "source": [
    "### *3. Set the index to be the datetime variable*"
   ]
  },
  {
   "cell_type": "markdown",
   "id": "3effd718",
   "metadata": {},
   "source": [
    ">**Already done in previous part**"
   ]
  },
  {
   "cell_type": "markdown",
   "id": "dbd56577",
   "metadata": {},
   "source": [
    "### *4. Add a 'month' and 'day of week' column to your dataframe*"
   ]
  },
  {
   "cell_type": "markdown",
   "id": "ee42bd7a",
   "metadata": {},
   "source": [
    "**The data is in GMT and I will convert it to Central**"
   ]
  },
  {
   "cell_type": "code",
   "execution_count": 22,
   "id": "4d48eaa7",
   "metadata": {},
   "outputs": [
    {
     "data": {
      "text/html": [
       "<div>\n",
       "<style scoped>\n",
       "    .dataframe tbody tr th:only-of-type {\n",
       "        vertical-align: middle;\n",
       "    }\n",
       "\n",
       "    .dataframe tbody tr th {\n",
       "        vertical-align: top;\n",
       "    }\n",
       "\n",
       "    .dataframe thead th {\n",
       "        text-align: right;\n",
       "    }\n",
       "</style>\n",
       "<table border=\"1\" class=\"dataframe\">\n",
       "  <thead>\n",
       "    <tr style=\"text-align: right;\">\n",
       "      <th></th>\n",
       "      <th>item_id</th>\n",
       "      <th>sale_amount</th>\n",
       "      <th>sale_id</th>\n",
       "      <th>store_id</th>\n",
       "      <th>item_brand</th>\n",
       "      <th>item_name</th>\n",
       "      <th>item_price</th>\n",
       "      <th>item_upc12</th>\n",
       "      <th>item_upc14</th>\n",
       "      <th>store_address</th>\n",
       "      <th>store_city</th>\n",
       "      <th>store_state</th>\n",
       "      <th>store_zipcode</th>\n",
       "    </tr>\n",
       "    <tr>\n",
       "      <th>sale_date</th>\n",
       "      <th></th>\n",
       "      <th></th>\n",
       "      <th></th>\n",
       "      <th></th>\n",
       "      <th></th>\n",
       "      <th></th>\n",
       "      <th></th>\n",
       "      <th></th>\n",
       "      <th></th>\n",
       "      <th></th>\n",
       "      <th></th>\n",
       "      <th></th>\n",
       "      <th></th>\n",
       "    </tr>\n",
       "  </thead>\n",
       "  <tbody>\n",
       "    <tr>\n",
       "      <th>2013-01-01 00:00:00+00:00</th>\n",
       "      <td>1</td>\n",
       "      <td>13.0</td>\n",
       "      <td>1</td>\n",
       "      <td>1</td>\n",
       "      <td>Riceland</td>\n",
       "      <td>Riceland American Jazmine Rice</td>\n",
       "      <td>0.84</td>\n",
       "      <td>35200264013</td>\n",
       "      <td>35200264013</td>\n",
       "      <td>12125 Alamo Ranch Pkwy</td>\n",
       "      <td>San Antonio</td>\n",
       "      <td>TX</td>\n",
       "      <td>78253</td>\n",
       "    </tr>\n",
       "    <tr>\n",
       "      <th>2013-01-01 00:00:00+00:00</th>\n",
       "      <td>12</td>\n",
       "      <td>26.0</td>\n",
       "      <td>211817</td>\n",
       "      <td>7</td>\n",
       "      <td>Mueller</td>\n",
       "      <td>Mueller Sport Care Basic Support Level Medium ...</td>\n",
       "      <td>8.40</td>\n",
       "      <td>74676640211</td>\n",
       "      <td>74676640211</td>\n",
       "      <td>12018 Perrin Beitel Rd</td>\n",
       "      <td>San Antonio</td>\n",
       "      <td>TX</td>\n",
       "      <td>78217</td>\n",
       "    </tr>\n",
       "    <tr>\n",
       "      <th>2013-01-01 00:00:00+00:00</th>\n",
       "      <td>46</td>\n",
       "      <td>27.0</td>\n",
       "      <td>832657</td>\n",
       "      <td>7</td>\n",
       "      <td>Mama Marys</td>\n",
       "      <td>Pizza Sauce</td>\n",
       "      <td>4.65</td>\n",
       "      <td>35457770664</td>\n",
       "      <td>35457770664</td>\n",
       "      <td>12018 Perrin Beitel Rd</td>\n",
       "      <td>San Antonio</td>\n",
       "      <td>TX</td>\n",
       "      <td>78217</td>\n",
       "    </tr>\n",
       "    <tr>\n",
       "      <th>2013-01-01 00:00:00+00:00</th>\n",
       "      <td>12</td>\n",
       "      <td>54.0</td>\n",
       "      <td>213643</td>\n",
       "      <td>8</td>\n",
       "      <td>Mueller</td>\n",
       "      <td>Mueller Sport Care Basic Support Level Medium ...</td>\n",
       "      <td>8.40</td>\n",
       "      <td>74676640211</td>\n",
       "      <td>74676640211</td>\n",
       "      <td>15000 San Pedro Ave</td>\n",
       "      <td>San Antonio</td>\n",
       "      <td>TX</td>\n",
       "      <td>78232</td>\n",
       "    </tr>\n",
       "    <tr>\n",
       "      <th>2013-01-01 00:00:00+00:00</th>\n",
       "      <td>12</td>\n",
       "      <td>35.0</td>\n",
       "      <td>215469</td>\n",
       "      <td>9</td>\n",
       "      <td>Mueller</td>\n",
       "      <td>Mueller Sport Care Basic Support Level Medium ...</td>\n",
       "      <td>8.40</td>\n",
       "      <td>74676640211</td>\n",
       "      <td>74676640211</td>\n",
       "      <td>735 SW Military Dr</td>\n",
       "      <td>San Antonio</td>\n",
       "      <td>TX</td>\n",
       "      <td>78221</td>\n",
       "    </tr>\n",
       "  </tbody>\n",
       "</table>\n",
       "</div>"
      ],
      "text/plain": [
       "                           item_id  sale_amount  sale_id  store_id  \\\n",
       "sale_date                                                            \n",
       "2013-01-01 00:00:00+00:00        1         13.0        1         1   \n",
       "2013-01-01 00:00:00+00:00       12         26.0   211817         7   \n",
       "2013-01-01 00:00:00+00:00       46         27.0   832657         7   \n",
       "2013-01-01 00:00:00+00:00       12         54.0   213643         8   \n",
       "2013-01-01 00:00:00+00:00       12         35.0   215469         9   \n",
       "\n",
       "                           item_brand  \\\n",
       "sale_date                               \n",
       "2013-01-01 00:00:00+00:00    Riceland   \n",
       "2013-01-01 00:00:00+00:00     Mueller   \n",
       "2013-01-01 00:00:00+00:00  Mama Marys   \n",
       "2013-01-01 00:00:00+00:00     Mueller   \n",
       "2013-01-01 00:00:00+00:00     Mueller   \n",
       "\n",
       "                                                                   item_name  \\\n",
       "sale_date                                                                      \n",
       "2013-01-01 00:00:00+00:00                     Riceland American Jazmine Rice   \n",
       "2013-01-01 00:00:00+00:00  Mueller Sport Care Basic Support Level Medium ...   \n",
       "2013-01-01 00:00:00+00:00                                        Pizza Sauce   \n",
       "2013-01-01 00:00:00+00:00  Mueller Sport Care Basic Support Level Medium ...   \n",
       "2013-01-01 00:00:00+00:00  Mueller Sport Care Basic Support Level Medium ...   \n",
       "\n",
       "                           item_price   item_upc12   item_upc14  \\\n",
       "sale_date                                                         \n",
       "2013-01-01 00:00:00+00:00        0.84  35200264013  35200264013   \n",
       "2013-01-01 00:00:00+00:00        8.40  74676640211  74676640211   \n",
       "2013-01-01 00:00:00+00:00        4.65  35457770664  35457770664   \n",
       "2013-01-01 00:00:00+00:00        8.40  74676640211  74676640211   \n",
       "2013-01-01 00:00:00+00:00        8.40  74676640211  74676640211   \n",
       "\n",
       "                                    store_address   store_city store_state  \\\n",
       "sale_date                                                                    \n",
       "2013-01-01 00:00:00+00:00  12125 Alamo Ranch Pkwy  San Antonio          TX   \n",
       "2013-01-01 00:00:00+00:00  12018 Perrin Beitel Rd  San Antonio          TX   \n",
       "2013-01-01 00:00:00+00:00  12018 Perrin Beitel Rd  San Antonio          TX   \n",
       "2013-01-01 00:00:00+00:00     15000 San Pedro Ave  San Antonio          TX   \n",
       "2013-01-01 00:00:00+00:00      735 SW Military Dr  San Antonio          TX   \n",
       "\n",
       "                           store_zipcode  \n",
       "sale_date                                 \n",
       "2013-01-01 00:00:00+00:00          78253  \n",
       "2013-01-01 00:00:00+00:00          78217  \n",
       "2013-01-01 00:00:00+00:00          78217  \n",
       "2013-01-01 00:00:00+00:00          78232  \n",
       "2013-01-01 00:00:00+00:00          78221  "
      ]
     },
     "execution_count": 22,
     "metadata": {},
     "output_type": "execute_result"
    }
   ],
   "source": [
    "sales1.tz_convert(\"US/Central\")\n",
    "sales1.head()"
   ]
  },
  {
   "cell_type": "code",
   "execution_count": 23,
   "id": "038c8876",
   "metadata": {},
   "outputs": [
    {
     "data": {
      "text/html": [
       "<div>\n",
       "<style scoped>\n",
       "    .dataframe tbody tr th:only-of-type {\n",
       "        vertical-align: middle;\n",
       "    }\n",
       "\n",
       "    .dataframe tbody tr th {\n",
       "        vertical-align: top;\n",
       "    }\n",
       "\n",
       "    .dataframe thead th {\n",
       "        text-align: right;\n",
       "    }\n",
       "</style>\n",
       "<table border=\"1\" class=\"dataframe\">\n",
       "  <thead>\n",
       "    <tr style=\"text-align: right;\">\n",
       "      <th></th>\n",
       "      <th>item_id</th>\n",
       "      <th>sale_amount</th>\n",
       "      <th>sale_id</th>\n",
       "      <th>store_id</th>\n",
       "      <th>item_brand</th>\n",
       "      <th>item_name</th>\n",
       "      <th>item_price</th>\n",
       "      <th>item_upc12</th>\n",
       "      <th>item_upc14</th>\n",
       "      <th>store_address</th>\n",
       "      <th>store_city</th>\n",
       "      <th>store_state</th>\n",
       "      <th>store_zipcode</th>\n",
       "      <th>month</th>\n",
       "    </tr>\n",
       "    <tr>\n",
       "      <th>sale_date</th>\n",
       "      <th></th>\n",
       "      <th></th>\n",
       "      <th></th>\n",
       "      <th></th>\n",
       "      <th></th>\n",
       "      <th></th>\n",
       "      <th></th>\n",
       "      <th></th>\n",
       "      <th></th>\n",
       "      <th></th>\n",
       "      <th></th>\n",
       "      <th></th>\n",
       "      <th></th>\n",
       "      <th></th>\n",
       "    </tr>\n",
       "  </thead>\n",
       "  <tbody>\n",
       "    <tr>\n",
       "      <th>2013-01-01 00:00:00+00:00</th>\n",
       "      <td>1</td>\n",
       "      <td>13.0</td>\n",
       "      <td>1</td>\n",
       "      <td>1</td>\n",
       "      <td>Riceland</td>\n",
       "      <td>Riceland American Jazmine Rice</td>\n",
       "      <td>0.84</td>\n",
       "      <td>35200264013</td>\n",
       "      <td>35200264013</td>\n",
       "      <td>12125 Alamo Ranch Pkwy</td>\n",
       "      <td>San Antonio</td>\n",
       "      <td>TX</td>\n",
       "      <td>78253</td>\n",
       "      <td>01-Jan</td>\n",
       "    </tr>\n",
       "    <tr>\n",
       "      <th>2013-01-01 00:00:00+00:00</th>\n",
       "      <td>12</td>\n",
       "      <td>26.0</td>\n",
       "      <td>211817</td>\n",
       "      <td>7</td>\n",
       "      <td>Mueller</td>\n",
       "      <td>Mueller Sport Care Basic Support Level Medium ...</td>\n",
       "      <td>8.40</td>\n",
       "      <td>74676640211</td>\n",
       "      <td>74676640211</td>\n",
       "      <td>12018 Perrin Beitel Rd</td>\n",
       "      <td>San Antonio</td>\n",
       "      <td>TX</td>\n",
       "      <td>78217</td>\n",
       "      <td>01-Jan</td>\n",
       "    </tr>\n",
       "  </tbody>\n",
       "</table>\n",
       "</div>"
      ],
      "text/plain": [
       "                           item_id  sale_amount  sale_id  store_id item_brand  \\\n",
       "sale_date                                                                       \n",
       "2013-01-01 00:00:00+00:00        1         13.0        1         1   Riceland   \n",
       "2013-01-01 00:00:00+00:00       12         26.0   211817         7    Mueller   \n",
       "\n",
       "                                                                   item_name  \\\n",
       "sale_date                                                                      \n",
       "2013-01-01 00:00:00+00:00                     Riceland American Jazmine Rice   \n",
       "2013-01-01 00:00:00+00:00  Mueller Sport Care Basic Support Level Medium ...   \n",
       "\n",
       "                           item_price   item_upc12   item_upc14  \\\n",
       "sale_date                                                         \n",
       "2013-01-01 00:00:00+00:00        0.84  35200264013  35200264013   \n",
       "2013-01-01 00:00:00+00:00        8.40  74676640211  74676640211   \n",
       "\n",
       "                                    store_address   store_city store_state  \\\n",
       "sale_date                                                                    \n",
       "2013-01-01 00:00:00+00:00  12125 Alamo Ranch Pkwy  San Antonio          TX   \n",
       "2013-01-01 00:00:00+00:00  12018 Perrin Beitel Rd  San Antonio          TX   \n",
       "\n",
       "                           store_zipcode   month  \n",
       "sale_date                                         \n",
       "2013-01-01 00:00:00+00:00          78253  01-Jan  \n",
       "2013-01-01 00:00:00+00:00          78217  01-Jan  "
      ]
     },
     "execution_count": 23,
     "metadata": {},
     "output_type": "execute_result"
    }
   ],
   "source": [
    "sales1['month']  = sales1.index.strftime('%m-%b')\n",
    "sales1.head(2)"
   ]
  },
  {
   "cell_type": "code",
   "execution_count": 25,
   "id": "100eb458",
   "metadata": {},
   "outputs": [
    {
     "data": {
      "text/html": [
       "<div>\n",
       "<style scoped>\n",
       "    .dataframe tbody tr th:only-of-type {\n",
       "        vertical-align: middle;\n",
       "    }\n",
       "\n",
       "    .dataframe tbody tr th {\n",
       "        vertical-align: top;\n",
       "    }\n",
       "\n",
       "    .dataframe thead th {\n",
       "        text-align: right;\n",
       "    }\n",
       "</style>\n",
       "<table border=\"1\" class=\"dataframe\">\n",
       "  <thead>\n",
       "    <tr style=\"text-align: right;\">\n",
       "      <th></th>\n",
       "      <th>item_id</th>\n",
       "      <th>sale_amount</th>\n",
       "      <th>sale_id</th>\n",
       "      <th>store_id</th>\n",
       "      <th>item_brand</th>\n",
       "      <th>item_name</th>\n",
       "      <th>item_price</th>\n",
       "      <th>item_upc12</th>\n",
       "      <th>item_upc14</th>\n",
       "      <th>store_address</th>\n",
       "      <th>store_city</th>\n",
       "      <th>store_state</th>\n",
       "      <th>store_zipcode</th>\n",
       "      <th>month</th>\n",
       "      <th>weekday</th>\n",
       "    </tr>\n",
       "    <tr>\n",
       "      <th>sale_date</th>\n",
       "      <th></th>\n",
       "      <th></th>\n",
       "      <th></th>\n",
       "      <th></th>\n",
       "      <th></th>\n",
       "      <th></th>\n",
       "      <th></th>\n",
       "      <th></th>\n",
       "      <th></th>\n",
       "      <th></th>\n",
       "      <th></th>\n",
       "      <th></th>\n",
       "      <th></th>\n",
       "      <th></th>\n",
       "      <th></th>\n",
       "    </tr>\n",
       "  </thead>\n",
       "  <tbody>\n",
       "    <tr>\n",
       "      <th>2013-01-01 00:00:00+00:00</th>\n",
       "      <td>1</td>\n",
       "      <td>13.0</td>\n",
       "      <td>1</td>\n",
       "      <td>1</td>\n",
       "      <td>Riceland</td>\n",
       "      <td>Riceland American Jazmine Rice</td>\n",
       "      <td>0.84</td>\n",
       "      <td>35200264013</td>\n",
       "      <td>35200264013</td>\n",
       "      <td>12125 Alamo Ranch Pkwy</td>\n",
       "      <td>San Antonio</td>\n",
       "      <td>TX</td>\n",
       "      <td>78253</td>\n",
       "      <td>01-Jan</td>\n",
       "      <td>2-Tue</td>\n",
       "    </tr>\n",
       "    <tr>\n",
       "      <th>2013-01-01 00:00:00+00:00</th>\n",
       "      <td>12</td>\n",
       "      <td>26.0</td>\n",
       "      <td>211817</td>\n",
       "      <td>7</td>\n",
       "      <td>Mueller</td>\n",
       "      <td>Mueller Sport Care Basic Support Level Medium ...</td>\n",
       "      <td>8.40</td>\n",
       "      <td>74676640211</td>\n",
       "      <td>74676640211</td>\n",
       "      <td>12018 Perrin Beitel Rd</td>\n",
       "      <td>San Antonio</td>\n",
       "      <td>TX</td>\n",
       "      <td>78217</td>\n",
       "      <td>01-Jan</td>\n",
       "      <td>2-Tue</td>\n",
       "    </tr>\n",
       "  </tbody>\n",
       "</table>\n",
       "</div>"
      ],
      "text/plain": [
       "                           item_id  sale_amount  sale_id  store_id item_brand  \\\n",
       "sale_date                                                                       \n",
       "2013-01-01 00:00:00+00:00        1         13.0        1         1   Riceland   \n",
       "2013-01-01 00:00:00+00:00       12         26.0   211817         7    Mueller   \n",
       "\n",
       "                                                                   item_name  \\\n",
       "sale_date                                                                      \n",
       "2013-01-01 00:00:00+00:00                     Riceland American Jazmine Rice   \n",
       "2013-01-01 00:00:00+00:00  Mueller Sport Care Basic Support Level Medium ...   \n",
       "\n",
       "                           item_price   item_upc12   item_upc14  \\\n",
       "sale_date                                                         \n",
       "2013-01-01 00:00:00+00:00        0.84  35200264013  35200264013   \n",
       "2013-01-01 00:00:00+00:00        8.40  74676640211  74676640211   \n",
       "\n",
       "                                    store_address   store_city store_state  \\\n",
       "sale_date                                                                    \n",
       "2013-01-01 00:00:00+00:00  12125 Alamo Ranch Pkwy  San Antonio          TX   \n",
       "2013-01-01 00:00:00+00:00  12018 Perrin Beitel Rd  San Antonio          TX   \n",
       "\n",
       "                           store_zipcode   month weekday  \n",
       "sale_date                                                 \n",
       "2013-01-01 00:00:00+00:00          78253  01-Jan   2-Tue  \n",
       "2013-01-01 00:00:00+00:00          78217  01-Jan   2-Tue  "
      ]
     },
     "execution_count": 25,
     "metadata": {},
     "output_type": "execute_result"
    }
   ],
   "source": [
    "sales1['weekday'] = sales1.index.strftime('%w-%a')\n",
    "sales1.head(2)"
   ]
  },
  {
   "cell_type": "markdown",
   "id": "5fbf9c9f",
   "metadata": {},
   "source": [
    "### *5. Add a column to your dataframe, sales_total, which is a derived from sale_amount (total items) and item_price*"
   ]
  },
  {
   "cell_type": "markdown",
   "id": "ee1247da",
   "metadata": {},
   "source": [
    "### *6. Make sure all the work that you have done above is reproducible. That is, you should put the code above into separate functions and be able to re-run the functions and get the same results*"
   ]
  },
  {
   "cell_type": "markdown",
   "id": "f1cf41f0",
   "metadata": {},
   "source": [
    "****"
   ]
  },
  {
   "cell_type": "markdown",
   "id": "f625e682",
   "metadata": {},
   "source": [
    "## *II. Using the OPS data acquired in the Acquire exercises opsd_germany_daily.csv, complete the following*"
   ]
  },
  {
   "cell_type": "markdown",
   "id": "c989c359",
   "metadata": {},
   "source": [
    "### *1. Convert date column to datetime format*"
   ]
  },
  {
   "cell_type": "markdown",
   "id": "7a6423ec",
   "metadata": {},
   "source": [
    "### *2. Plot the distribution of each of your variables*"
   ]
  },
  {
   "cell_type": "markdown",
   "id": "b7787653",
   "metadata": {},
   "source": [
    "### *3. Set the index to be the datetime variable*"
   ]
  },
  {
   "cell_type": "markdown",
   "id": "275d9128",
   "metadata": {},
   "source": [
    "### *4. Add a month and a year column to your dataframe*"
   ]
  },
  {
   "cell_type": "markdown",
   "id": "eed7d34f",
   "metadata": {},
   "source": [
    "### *5. Fill any missing values*"
   ]
  },
  {
   "cell_type": "markdown",
   "id": "e5dcf7f3",
   "metadata": {},
   "source": [
    "### *6. Make sure all the work that you have done above is reproducible. That is, you should put the code above into separate functions and be able to re-run the functions and get the same results*"
   ]
  },
  {
   "cell_type": "code",
   "execution_count": null,
   "id": "0f98db7a",
   "metadata": {},
   "outputs": [],
   "source": []
  }
 ],
 "metadata": {
  "kernelspec": {
   "display_name": "Python 3 (ipykernel)",
   "language": "python",
   "name": "python3"
  },
  "language_info": {
   "codemirror_mode": {
    "name": "ipython",
    "version": 3
   },
   "file_extension": ".py",
   "mimetype": "text/x-python",
   "name": "python",
   "nbconvert_exporter": "python",
   "pygments_lexer": "ipython3",
   "version": "3.9.7"
  }
 },
 "nbformat": 4,
 "nbformat_minor": 5
}
