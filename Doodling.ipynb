{
 "cells": [
  {
   "cell_type": "code",
   "execution_count": 7,
   "id": "a9c7275e",
   "metadata": {},
   "outputs": [],
   "source": [
    "# General imports for these exercises\n",
    "\n",
    "import pandas as pd\n",
    "import numpy as np\n",
    "import matplotlib.pyplot as plt\n",
    "import seaborn as sns\n",
    "from vega_datasets import data"
   ]
  },
  {
   "cell_type": "code",
   "execution_count": 3,
   "id": "f57e4e7c",
   "metadata": {},
   "outputs": [],
   "source": [
    "date = ['TRANSACTION DATE : 08:42 AM, 30 Nov 2021',\n",
    "        'TRANSACTION DATE : 08:46 AM, 30 Nov 2021',\n",
    "        'TRANSACTION DATE : 08:51 AM, 30 Nov 2021',\n",
    "        'TRANSACTION DATE : 08:58 AM, 30 Nov 2021',\n",
    "        'TRANSACTION DATE : 09:12 AM, 30 Nov 2021']"
   ]
  },
  {
   "cell_type": "code",
   "execution_count": 4,
   "id": "5eae6071",
   "metadata": {
    "scrolled": true
   },
   "outputs": [
    {
     "data": {
      "text/plain": [
       "['TRANSACTION DATE : 08:42 AM, 30 Nov 2021',\n",
       " 'TRANSACTION DATE : 08:46 AM, 30 Nov 2021',\n",
       " 'TRANSACTION DATE : 08:51 AM, 30 Nov 2021',\n",
       " 'TRANSACTION DATE : 08:58 AM, 30 Nov 2021',\n",
       " 'TRANSACTION DATE : 09:12 AM, 30 Nov 2021']"
      ]
     },
     "execution_count": 4,
     "metadata": {},
     "output_type": "execute_result"
    }
   ],
   "source": [
    "date"
   ]
  },
  {
   "cell_type": "code",
   "execution_count": 13,
   "id": "f2564bdd",
   "metadata": {},
   "outputs": [
    {
     "data": {
      "text/plain": [
       "list"
      ]
     },
     "execution_count": 13,
     "metadata": {},
     "output_type": "execute_result"
    }
   ],
   "source": [
    "type(date)"
   ]
  },
  {
   "cell_type": "code",
   "execution_count": 14,
   "id": "0306b4a1",
   "metadata": {},
   "outputs": [],
   "source": [
    "client_id = ['CLIENT ID : C00001',\n",
    "             'CLIENT ID : C00002',\n",
    "             'CLIENT ID : C00001',\n",
    "             'CLIENT ID : C00003',\n",
    "             'CLIENT ID : C00004']"
   ]
  },
  {
   "cell_type": "code",
   "execution_count": 16,
   "id": "bbf9725a",
   "metadata": {},
   "outputs": [
    {
     "data": {
      "text/plain": [
       "list"
      ]
     },
     "execution_count": 16,
     "metadata": {},
     "output_type": "execute_result"
    }
   ],
   "source": [
    "type(client_id)"
   ]
  },
  {
   "cell_type": "code",
   "execution_count": 17,
   "id": "413bd2dd",
   "metadata": {},
   "outputs": [],
   "source": [
    "client_name = ['CLIENT NAME : SALISU BISI',\n",
    "               'CLIENT NAME : SULE YAYA',\n",
    "               'CLIENT NAME : SALISU BIST',\n",
    "               'CLIENT NAME : ADEGOKE BAYO',\n",
    "               'CLIENT NAME : COKER PRIYE']"
   ]
  },
  {
   "cell_type": "code",
   "execution_count": 18,
   "id": "2f2544a0",
   "metadata": {},
   "outputs": [
    {
     "data": {
      "text/plain": [
       "list"
      ]
     },
     "execution_count": 18,
     "metadata": {},
     "output_type": "execute_result"
    }
   ],
   "source": [
    "type(client_name)"
   ]
  },
  {
   "cell_type": "code",
   "execution_count": 20,
   "id": "8a40aa50",
   "metadata": {},
   "outputs": [],
   "source": [
    "df = pd.DataFrame(list(zip(date, client_id, client_name)), columns=['date', 'client_id', 'client_name'])"
   ]
  },
  {
   "cell_type": "code",
   "execution_count": 25,
   "id": "f0d32fca",
   "metadata": {},
   "outputs": [],
   "source": [
    "df1 = pd.DataFrame(['TRANSACTION DATE : 08:42 AM, 30 Nov 2021',\n",
    "                    'TRANSACTION DATE : 08:46 AM, 30 Nov 2021',\n",
    "                    'TRANSACTION DATE : 08:51 AM, 30 Nov 2021',\n",
    "                    'TRANSACTION DATE : 08:58 AM, 30 Nov 2021',\n",
    "                    'TRANSACTION DATE : 09:12 AM, 30 Nov 2021'])"
   ]
  },
  {
   "cell_type": "code",
   "execution_count": 26,
   "id": "65bbc89f",
   "metadata": {},
   "outputs": [
    {
     "data": {
      "text/html": [
       "<div>\n",
       "<style scoped>\n",
       "    .dataframe tbody tr th:only-of-type {\n",
       "        vertical-align: middle;\n",
       "    }\n",
       "\n",
       "    .dataframe tbody tr th {\n",
       "        vertical-align: top;\n",
       "    }\n",
       "\n",
       "    .dataframe thead th {\n",
       "        text-align: right;\n",
       "    }\n",
       "</style>\n",
       "<table border=\"1\" class=\"dataframe\">\n",
       "  <thead>\n",
       "    <tr style=\"text-align: right;\">\n",
       "      <th></th>\n",
       "      <th>0</th>\n",
       "    </tr>\n",
       "  </thead>\n",
       "  <tbody>\n",
       "    <tr>\n",
       "      <th>0</th>\n",
       "      <td>TRANSACTION DATE : 08:42 AM, 30 Nov 2021</td>\n",
       "    </tr>\n",
       "    <tr>\n",
       "      <th>1</th>\n",
       "      <td>TRANSACTION DATE : 08:46 AM, 30 Nov 2021</td>\n",
       "    </tr>\n",
       "    <tr>\n",
       "      <th>2</th>\n",
       "      <td>TRANSACTION DATE : 08:51 AM, 30 Nov 2021</td>\n",
       "    </tr>\n",
       "    <tr>\n",
       "      <th>3</th>\n",
       "      <td>TRANSACTION DATE : 08:58 AM, 30 Nov 2021</td>\n",
       "    </tr>\n",
       "    <tr>\n",
       "      <th>4</th>\n",
       "      <td>TRANSACTION DATE : 09:12 AM, 30 Nov 2021</td>\n",
       "    </tr>\n",
       "  </tbody>\n",
       "</table>\n",
       "</div>"
      ],
      "text/plain": [
       "                                          0\n",
       "0  TRANSACTION DATE : 08:42 AM, 30 Nov 2021\n",
       "1  TRANSACTION DATE : 08:46 AM, 30 Nov 2021\n",
       "2  TRANSACTION DATE : 08:51 AM, 30 Nov 2021\n",
       "3  TRANSACTION DATE : 08:58 AM, 30 Nov 2021\n",
       "4  TRANSACTION DATE : 09:12 AM, 30 Nov 2021"
      ]
     },
     "execution_count": 26,
     "metadata": {},
     "output_type": "execute_result"
    }
   ],
   "source": [
    "df1"
   ]
  },
  {
   "cell_type": "code",
   "execution_count": 21,
   "id": "3faf9fb9",
   "metadata": {
    "scrolled": true
   },
   "outputs": [
    {
     "data": {
      "text/html": [
       "<div>\n",
       "<style scoped>\n",
       "    .dataframe tbody tr th:only-of-type {\n",
       "        vertical-align: middle;\n",
       "    }\n",
       "\n",
       "    .dataframe tbody tr th {\n",
       "        vertical-align: top;\n",
       "    }\n",
       "\n",
       "    .dataframe thead th {\n",
       "        text-align: right;\n",
       "    }\n",
       "</style>\n",
       "<table border=\"1\" class=\"dataframe\">\n",
       "  <thead>\n",
       "    <tr style=\"text-align: right;\">\n",
       "      <th></th>\n",
       "      <th>date</th>\n",
       "      <th>client_id</th>\n",
       "      <th>client_name</th>\n",
       "    </tr>\n",
       "  </thead>\n",
       "  <tbody>\n",
       "    <tr>\n",
       "      <th>0</th>\n",
       "      <td>TRANSACTION DATE : 08:42 AM, 30 Nov 2021</td>\n",
       "      <td>CLIENT ID : C00001</td>\n",
       "      <td>CLIENT NAME : SALISU BISI</td>\n",
       "    </tr>\n",
       "    <tr>\n",
       "      <th>1</th>\n",
       "      <td>TRANSACTION DATE : 08:46 AM, 30 Nov 2021</td>\n",
       "      <td>CLIENT ID : C00002</td>\n",
       "      <td>CLIENT NAME : SULE YAYA</td>\n",
       "    </tr>\n",
       "    <tr>\n",
       "      <th>2</th>\n",
       "      <td>TRANSACTION DATE : 08:51 AM, 30 Nov 2021</td>\n",
       "      <td>CLIENT ID : C00001</td>\n",
       "      <td>CLIENT NAME : SALISU BIST</td>\n",
       "    </tr>\n",
       "    <tr>\n",
       "      <th>3</th>\n",
       "      <td>TRANSACTION DATE : 08:58 AM, 30 Nov 2021</td>\n",
       "      <td>CLIENT ID : C00003</td>\n",
       "      <td>CLIENT NAME : ADEGOKE BAYO</td>\n",
       "    </tr>\n",
       "    <tr>\n",
       "      <th>4</th>\n",
       "      <td>TRANSACTION DATE : 09:12 AM, 30 Nov 2021</td>\n",
       "      <td>CLIENT ID : C00004</td>\n",
       "      <td>CLIENT NAME : COKER PRIYE</td>\n",
       "    </tr>\n",
       "  </tbody>\n",
       "</table>\n",
       "</div>"
      ],
      "text/plain": [
       "                                       date           client_id  \\\n",
       "0  TRANSACTION DATE : 08:42 AM, 30 Nov 2021  CLIENT ID : C00001   \n",
       "1  TRANSACTION DATE : 08:46 AM, 30 Nov 2021  CLIENT ID : C00002   \n",
       "2  TRANSACTION DATE : 08:51 AM, 30 Nov 2021  CLIENT ID : C00001   \n",
       "3  TRANSACTION DATE : 08:58 AM, 30 Nov 2021  CLIENT ID : C00003   \n",
       "4  TRANSACTION DATE : 09:12 AM, 30 Nov 2021  CLIENT ID : C00004   \n",
       "\n",
       "                  client_name  \n",
       "0   CLIENT NAME : SALISU BISI  \n",
       "1     CLIENT NAME : SULE YAYA  \n",
       "2   CLIENT NAME : SALISU BIST  \n",
       "3  CLIENT NAME : ADEGOKE BAYO  \n",
       "4   CLIENT NAME : COKER PRIYE  "
      ]
     },
     "execution_count": 21,
     "metadata": {},
     "output_type": "execute_result"
    }
   ],
   "source": [
    "df.head()"
   ]
  },
  {
   "cell_type": "markdown",
   "id": "6a732e4b",
   "metadata": {},
   "source": [
    "****"
   ]
  },
  {
   "cell_type": "code",
   "execution_count": 29,
   "id": "67158420",
   "metadata": {},
   "outputs": [
    {
     "ename": "SyntaxError",
     "evalue": "invalid syntax (1208305367.py, line 5)",
     "output_type": "error",
     "traceback": [
      "\u001b[0;36m  File \u001b[0;32m\"/var/folders/5k/zptdym41293159jft7y2b6cm0000gp/T/ipykernel_47313/1208305367.py\"\u001b[0;36m, line \u001b[0;32m5\u001b[0m\n\u001b[0;31m    '09:12 AM, 30 Nov 2021', column=['TRANSACTION DATE']]\u001b[0m\n\u001b[0m                                   ^\u001b[0m\n\u001b[0;31mSyntaxError\u001b[0m\u001b[0;31m:\u001b[0m invalid syntax\n"
     ]
    }
   ],
   "source": [
    "date1 = ['08:42 AM, 30 Nov 2021',\n",
    "        '08:46 AM, 30 Nov 2021',\n",
    "        '08:51 AM, 30 Nov 2021',\n",
    "        '08:58 AM, 30 Nov 2021',\n",
    "        '09:12 AM, 30 Nov 2021', column=['transaction date']]"
   ]
  },
  {
   "cell_type": "code",
   "execution_count": 28,
   "id": "f153d0d3",
   "metadata": {
    "scrolled": true
   },
   "outputs": [
    {
     "data": {
      "text/plain": [
       "['08:42 AM, 30 Nov 2021',\n",
       " '08:46 AM, 30 Nov 2021',\n",
       " '08:51 AM, 30 Nov 2021',\n",
       " '08:58 AM, 30 Nov 2021',\n",
       " '09:12 AM, 30 Nov 2021']"
      ]
     },
     "execution_count": 28,
     "metadata": {},
     "output_type": "execute_result"
    }
   ],
   "source": [
    "date1"
   ]
  },
  {
   "cell_type": "code",
   "execution_count": null,
   "id": "19081f7c",
   "metadata": {},
   "outputs": [],
   "source": [
    "df = pd.DataFrame"
   ]
  },
  {
   "cell_type": "code",
   "execution_count": 13,
   "id": "631c09a1",
   "metadata": {},
   "outputs": [
    {
     "data": {
      "text/plain": [
       "list"
      ]
     },
     "execution_count": 13,
     "metadata": {},
     "output_type": "execute_result"
    }
   ],
   "source": [
    "type(date)"
   ]
  },
  {
   "cell_type": "code",
   "execution_count": 14,
   "id": "ef73bd57",
   "metadata": {},
   "outputs": [],
   "source": [
    "client_id = ['CLIENT ID : C00001',\n",
    "             'CLIENT ID : C00002',\n",
    "             'CLIENT ID : C00001',\n",
    "             'CLIENT ID : C00003',\n",
    "             'CLIENT ID : C00004']"
   ]
  },
  {
   "cell_type": "code",
   "execution_count": 16,
   "id": "09ddc509",
   "metadata": {},
   "outputs": [
    {
     "data": {
      "text/plain": [
       "list"
      ]
     },
     "execution_count": 16,
     "metadata": {},
     "output_type": "execute_result"
    }
   ],
   "source": [
    "type(client_id)"
   ]
  },
  {
   "cell_type": "code",
   "execution_count": 30,
   "id": "387c049d",
   "metadata": {},
   "outputs": [
    {
     "ename": "ValueError",
     "evalue": "list.remove(x): x not in list",
     "output_type": "error",
     "traceback": [
      "\u001b[0;31m---------------------------------------------------------------------------\u001b[0m",
      "\u001b[0;31mValueError\u001b[0m                                Traceback (most recent call last)",
      "\u001b[0;32m/var/folders/5k/zptdym41293159jft7y2b6cm0000gp/T/ipykernel_47313/1127032933.py\u001b[0m in \u001b[0;36m<module>\u001b[0;34m\u001b[0m\n\u001b[0;32m----> 1\u001b[0;31m \u001b[0mclient_id\u001b[0m \u001b[0;34m=\u001b[0m \u001b[0mclient_id\u001b[0m\u001b[0;34m.\u001b[0m\u001b[0mremove\u001b[0m\u001b[0;34m(\u001b[0m\u001b[0;34m'CLIENT ID : '\u001b[0m\u001b[0;34m)\u001b[0m\u001b[0;34m\u001b[0m\u001b[0;34m\u001b[0m\u001b[0m\n\u001b[0m",
      "\u001b[0;31mValueError\u001b[0m: list.remove(x): x not in list"
     ]
    }
   ],
   "source": [
    "client_id = client_id.remove('CLIENT ID : ')"
   ]
  },
  {
   "cell_type": "code",
   "execution_count": 17,
   "id": "ecf26f27",
   "metadata": {},
   "outputs": [],
   "source": [
    "client_name = ['CLIENT NAME : SALISU BISI',\n",
    "               'CLIENT NAME : SULE YAYA',\n",
    "               'CLIENT NAME : SALISU BIST',\n",
    "               'CLIENT NAME : ADEGOKE BAYO',\n",
    "               'CLIENT NAME : COKER PRIYE']"
   ]
  },
  {
   "cell_type": "code",
   "execution_count": 18,
   "id": "0e0ef964",
   "metadata": {},
   "outputs": [
    {
     "data": {
      "text/plain": [
       "list"
      ]
     },
     "execution_count": 18,
     "metadata": {},
     "output_type": "execute_result"
    }
   ],
   "source": [
    "type(client_name)"
   ]
  },
  {
   "cell_type": "code",
   "execution_count": 20,
   "id": "1e036a8b",
   "metadata": {},
   "outputs": [],
   "source": [
    "df = pd.DataFrame(list(zip(date, client_id, client_name)), columns=['date', 'client_id', 'client_name'])"
   ]
  },
  {
   "cell_type": "code",
   "execution_count": 25,
   "id": "3783ce2e",
   "metadata": {},
   "outputs": [],
   "source": [
    "df1 = pd.DataFrame(['TRANSACTION DATE : 08:42 AM, 30 Nov 2021',\n",
    "                    'TRANSACTION DATE : 08:46 AM, 30 Nov 2021',\n",
    "                    'TRANSACTION DATE : 08:51 AM, 30 Nov 2021',\n",
    "                    'TRANSACTION DATE : 08:58 AM, 30 Nov 2021',\n",
    "                    'TRANSACTION DATE : 09:12 AM, 30 Nov 2021'])"
   ]
  },
  {
   "cell_type": "code",
   "execution_count": 55,
   "id": "ce517d90",
   "metadata": {},
   "outputs": [
    {
     "ename": "ValueError",
     "evalue": "bad typecode (must be b, B, u, h, H, i, I, l, L, q, Q, f or d)",
     "output_type": "error",
     "traceback": [
      "\u001b[0;31m---------------------------------------------------------------------------\u001b[0m",
      "\u001b[0;31mValueError\u001b[0m                                Traceback (most recent call last)",
      "\u001b[0;32m/var/folders/5k/zptdym41293159jft7y2b6cm0000gp/T/ipykernel_47313/1258890729.py\u001b[0m in \u001b[0;36m<module>\u001b[0;34m\u001b[0m\n\u001b[1;32m      1\u001b[0m \u001b[0;32mimport\u001b[0m \u001b[0marray\u001b[0m\u001b[0;34m\u001b[0m\u001b[0;34m\u001b[0m\u001b[0m\n\u001b[1;32m      2\u001b[0m \u001b[0;34m\u001b[0m\u001b[0m\n\u001b[0;32m----> 3\u001b[0;31m \u001b[0marr\u001b[0m \u001b[0;34m=\u001b[0m \u001b[0marray\u001b[0m\u001b[0;34m.\u001b[0m\u001b[0marray\u001b[0m\u001b[0;34m(\u001b[0m\u001b[0;34m'a'\u001b[0m\u001b[0;34m,\u001b[0m \u001b[0;34m[\u001b[0m\u001b[0;36m5\u001b[0m\u001b[0;34m,\u001b[0m \u001b[0;36m1\u001b[0m\u001b[0;34m,\u001b[0m \u001b[0;36m3\u001b[0m\u001b[0;34m,\u001b[0m \u001b[0;36m4\u001b[0m\u001b[0;34m,\u001b[0m \u001b[0;36m2\u001b[0m\u001b[0;34m,\u001b[0m \u001b[0;36m2\u001b[0m\u001b[0;34m,\u001b[0m \u001b[0;36m7\u001b[0m\u001b[0;34m]\u001b[0m\u001b[0;34m)\u001b[0m\u001b[0;34m\u001b[0m\u001b[0;34m\u001b[0m\u001b[0m\n\u001b[0m",
      "\u001b[0;31mValueError\u001b[0m: bad typecode (must be b, B, u, h, H, i, I, l, L, q, Q, f or d)"
     ]
    }
   ],
   "source": [
    "import array\n",
    "\n",
    "arr = array.array('a', [5, 1, 3, 4, 2, 2, 7])"
   ]
  },
  {
   "cell_type": "code",
   "execution_count": 54,
   "id": "2035fab1",
   "metadata": {},
   "outputs": [
    {
     "name": "stdout",
     "output_type": "stream",
     "text": [
      "0\n"
     ]
    }
   ],
   "source": [
    "print (arr.index(5))"
   ]
  },
  {
   "cell_type": "code",
   "execution_count": 65,
   "id": "b3063e26",
   "metadata": {},
   "outputs": [
    {
     "name": "stdout",
     "output_type": "stream",
     "text": [
      "Sum of First 10 Numbers is 55\n"
     ]
    }
   ],
   "source": [
    "# Python program to demonstrate\n",
    "# while loop with True\n",
    "\n",
    "N = 10\n",
    "Sum = 0\n",
    "\n",
    "# This loop will run forever\n",
    "while True:\n",
    "\tSum += N\n",
    "\tN -= 1\n",
    "\t\n",
    "\t# the below condition will tell\n",
    "\t# the loop to stop\n",
    "\tif N == 0:\n",
    "\t\tbreak\n",
    "\t\t\n",
    "print(f\"Sum of First 10 Numbers is {Sum}\")"
   ]
  }
 ],
 "metadata": {
  "kernelspec": {
   "display_name": "Python 3 (ipykernel)",
   "language": "python",
   "name": "python3"
  },
  "language_info": {
   "codemirror_mode": {
    "name": "ipython",
    "version": 3
   },
   "file_extension": ".py",
   "mimetype": "text/x-python",
   "name": "python",
   "nbconvert_exporter": "python",
   "pygments_lexer": "ipython3",
   "version": "3.9.7"
  }
 },
 "nbformat": 4,
 "nbformat_minor": 5
}
