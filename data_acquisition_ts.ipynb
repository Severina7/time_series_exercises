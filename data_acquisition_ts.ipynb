{
 "cells": [
  {
   "cell_type": "markdown",
   "id": "7e79b738",
   "metadata": {},
   "source": [
    "# Acquire Exercises"
   ]
  },
  {
   "cell_type": "markdown",
   "id": "ee8145b7",
   "metadata": {},
   "source": [
    "### *1. Using the code from the lesson as a guide and the REST API from https://python.zgulde.net/api/v1/items .*"
   ]
  },
  {
   "cell_type": "code",
   "execution_count": 1,
   "id": "cafd94ed",
   "metadata": {},
   "outputs": [],
   "source": [
    "# General imports for working on the notebook on time series\n",
    "\n",
    "import pandas as pd\n",
    "import requests\n",
    "import os"
   ]
  },
  {
   "cell_type": "code",
   "execution_count": 3,
   "id": "91654a58",
   "metadata": {
    "scrolled": false
   },
   "outputs": [
    {
     "data": {
      "text/plain": [
       "{'payload': {'items': [{'item_brand': 'Riceland',\n",
       "    'item_id': 1,\n",
       "    'item_name': 'Riceland American Jazmine Rice',\n",
       "    'item_price': 0.84,\n",
       "    'item_upc12': '35200264013',\n",
       "    'item_upc14': '35200264013'},\n",
       "   {'item_brand': 'Caress',\n",
       "    'item_id': 2,\n",
       "    'item_name': 'Caress Velvet Bliss Ultra Silkening Beauty Bar - 6 Ct',\n",
       "    'item_price': 6.44,\n",
       "    'item_upc12': '11111065925',\n",
       "    'item_upc14': '11111065925'},\n",
       "   {'item_brand': 'Earths Best',\n",
       "    'item_id': 3,\n",
       "    'item_name': 'Earths Best Organic Fruit Yogurt Smoothie Mixed Berry',\n",
       "    'item_price': 2.43,\n",
       "    'item_upc12': '23923330139',\n",
       "    'item_upc14': '23923330139'},\n",
       "   {'item_brand': 'Boars Head',\n",
       "    'item_id': 4,\n",
       "    'item_name': 'Boars Head Sliced White American Cheese - 120 Ct',\n",
       "    'item_price': 3.14,\n",
       "    'item_upc12': '208528800007',\n",
       "    'item_upc14': '208528800007'},\n",
       "   {'item_brand': 'Back To Nature',\n",
       "    'item_id': 5,\n",
       "    'item_name': 'Back To Nature Gluten Free White Cheddar Rice Thin Crackers',\n",
       "    'item_price': 2.61,\n",
       "    'item_upc12': '759283100036',\n",
       "    'item_upc14': '759283100036'},\n",
       "   {'item_brand': 'Sally Hansen',\n",
       "    'item_id': 6,\n",
       "    'item_name': 'Sally Hansen Nail Color Magnetic 903 Silver Elements',\n",
       "    'item_price': 6.93,\n",
       "    'item_upc12': '74170388732',\n",
       "    'item_upc14': '74170388732'},\n",
       "   {'item_brand': 'Twinings Of London',\n",
       "    'item_id': 7,\n",
       "    'item_name': 'Twinings Of London Classics Lady Grey Tea - 20 Ct',\n",
       "    'item_price': 9.64,\n",
       "    'item_upc12': '70177154004',\n",
       "    'item_upc14': '70177154004'},\n",
       "   {'item_brand': 'Lea & Perrins',\n",
       "    'item_id': 8,\n",
       "    'item_name': 'Lea & Perrins Marinade In-a-bag Cracked Peppercorn',\n",
       "    'item_price': 1.68,\n",
       "    'item_upc12': '51600080015',\n",
       "    'item_upc14': '51600080015'},\n",
       "   {'item_brand': 'Van De Kamps',\n",
       "    'item_id': 9,\n",
       "    'item_name': 'Van De Kamps Fillets Beer Battered - 10 Ct',\n",
       "    'item_price': 1.79,\n",
       "    'item_upc12': '19600923015',\n",
       "    'item_upc14': '19600923015'},\n",
       "   {'item_brand': 'Ahold',\n",
       "    'item_id': 10,\n",
       "    'item_name': 'Ahold Cocoa Almonds',\n",
       "    'item_price': 3.17,\n",
       "    'item_upc12': '688267141676',\n",
       "    'item_upc14': '688267141676'},\n",
       "   {'item_brand': 'Honest Tea',\n",
       "    'item_id': 11,\n",
       "    'item_name': 'Honest Tea Peach White Tea',\n",
       "    'item_price': 3.93,\n",
       "    'item_upc12': '657622604842',\n",
       "    'item_upc14': '657622604842'},\n",
       "   {'item_brand': 'Mueller',\n",
       "    'item_id': 12,\n",
       "    'item_name': 'Mueller Sport Care Basic Support Level Medium Elastic Knee Support',\n",
       "    'item_price': 8.4,\n",
       "    'item_upc12': '74676640211',\n",
       "    'item_upc14': '74676640211'},\n",
       "   {'item_brand': 'Garnier Nutritioniste',\n",
       "    'item_id': 13,\n",
       "    'item_name': 'Garnier Nutritioniste Moisture Rescue Fresh Cleansing Foam',\n",
       "    'item_price': 6.47,\n",
       "    'item_upc12': '603084234561',\n",
       "    'item_upc14': '603084234561'},\n",
       "   {'item_brand': 'Pamprin',\n",
       "    'item_id': 14,\n",
       "    'item_name': 'Pamprin Maximum Strength Multi-symptom Menstrual Pain Relief',\n",
       "    'item_price': 7.54,\n",
       "    'item_upc12': '41167300121',\n",
       "    'item_upc14': '41167300121'},\n",
       "   {'item_brand': 'Suave',\n",
       "    'item_id': 15,\n",
       "    'item_name': 'Suave Naturals Moisturizing Body Wash Creamy Tropical Coconut',\n",
       "    'item_price': 9.11,\n",
       "    'item_upc12': '79400847201',\n",
       "    'item_upc14': '79400847201'},\n",
       "   {'item_brand': 'Burts Bees',\n",
       "    'item_id': 16,\n",
       "    'item_name': 'Burts Bees Daily Moisturizing Cream Sensitive',\n",
       "    'item_price': 5.17,\n",
       "    'item_upc12': '792850014008',\n",
       "    'item_upc14': '792850014008'},\n",
       "   {'item_brand': 'Ducal',\n",
       "    'item_id': 17,\n",
       "    'item_name': 'Ducal Refried Red Beans',\n",
       "    'item_price': 1.16,\n",
       "    'item_upc12': '88313590791',\n",
       "    'item_upc14': '88313590791'},\n",
       "   {'item_brand': 'Scotch',\n",
       "    'item_id': 18,\n",
       "    'item_name': 'Scotch Removable Clear Mounting Squares - 35 Ct',\n",
       "    'item_price': 4.39,\n",
       "    'item_upc12': '21200725340',\n",
       "    'item_upc14': '21200725340'},\n",
       "   {'item_brand': 'Careone',\n",
       "    'item_id': 19,\n",
       "    'item_name': 'Careone Family Comb Set - 8 Ct',\n",
       "    'item_price': 0.74,\n",
       "    'item_upc12': '41520035646',\n",
       "    'item_upc14': '41520035646'},\n",
       "   {'item_brand': 'Usda Produce',\n",
       "    'item_id': 20,\n",
       "    'item_name': 'Plums Black',\n",
       "    'item_price': 5.62,\n",
       "    'item_upc12': '204040000000',\n",
       "    'item_upc14': '204040000000'}],\n",
       "  'max_page': 3,\n",
       "  'next_page': '/api/v1/items?page=2',\n",
       "  'page': 1,\n",
       "  'previous_page': None},\n",
       " 'status': 'ok'}"
      ]
     },
     "execution_count": 3,
     "metadata": {},
     "output_type": "execute_result"
    }
   ],
   "source": [
    "# Taking a look at the json file produced from the url\n",
    "\n",
    "response = requests.get('https://python.zgulde.net/api/v1/items')\n",
    "response.json()"
   ]
  },
  {
   "cell_type": "markdown",
   "id": "af4922a0",
   "metadata": {},
   "source": [
    "### *In the following cells I am trying to understand and remember the content of the current course by going through the code myself*"
   ]
  },
  {
   "cell_type": "code",
   "execution_count": 5,
   "id": "0f6d05c7",
   "metadata": {
    "scrolled": true
   },
   "outputs": [
    {
     "data": {
      "text/plain": [
       "dict_keys(['payload', 'status'])"
      ]
     },
     "execution_count": 5,
     "metadata": {},
     "output_type": "execute_result"
    }
   ],
   "source": [
    "# Assigning 'response.json()' to a variable and checking out the keys\n",
    "\n",
    "data = response.json()\n",
    "data.keys()"
   ]
  },
  {
   "cell_type": "code",
   "execution_count": 7,
   "id": "664732be",
   "metadata": {},
   "outputs": [
    {
     "data": {
      "text/plain": [
       "'ok'"
      ]
     },
     "execution_count": 7,
     "metadata": {},
     "output_type": "execute_result"
    }
   ],
   "source": [
    "# Checking the keys out\n",
    "\n",
    "data['status']"
   ]
  },
  {
   "cell_type": "code",
   "execution_count": 8,
   "id": "77a61ee6",
   "metadata": {},
   "outputs": [
    {
     "data": {
      "text/plain": [
       "dict_keys(['items', 'max_page', 'next_page', 'page', 'previous_page'])"
      ]
     },
     "execution_count": 8,
     "metadata": {},
     "output_type": "execute_result"
    }
   ],
   "source": [
    "# Checking the keys out of payload\n",
    "\n",
    "data['payload'].keys()"
   ]
  },
  {
   "cell_type": "code",
   "execution_count": 9,
   "id": "8f811328",
   "metadata": {},
   "outputs": [
    {
     "data": {
      "text/plain": [
       "[{'item_brand': 'Riceland',\n",
       "  'item_id': 1,\n",
       "  'item_name': 'Riceland American Jazmine Rice',\n",
       "  'item_price': 0.84,\n",
       "  'item_upc12': '35200264013',\n",
       "  'item_upc14': '35200264013'},\n",
       " {'item_brand': 'Caress',\n",
       "  'item_id': 2,\n",
       "  'item_name': 'Caress Velvet Bliss Ultra Silkening Beauty Bar - 6 Ct',\n",
       "  'item_price': 6.44,\n",
       "  'item_upc12': '11111065925',\n",
       "  'item_upc14': '11111065925'},\n",
       " {'item_brand': 'Earths Best',\n",
       "  'item_id': 3,\n",
       "  'item_name': 'Earths Best Organic Fruit Yogurt Smoothie Mixed Berry',\n",
       "  'item_price': 2.43,\n",
       "  'item_upc12': '23923330139',\n",
       "  'item_upc14': '23923330139'},\n",
       " {'item_brand': 'Boars Head',\n",
       "  'item_id': 4,\n",
       "  'item_name': 'Boars Head Sliced White American Cheese - 120 Ct',\n",
       "  'item_price': 3.14,\n",
       "  'item_upc12': '208528800007',\n",
       "  'item_upc14': '208528800007'},\n",
       " {'item_brand': 'Back To Nature',\n",
       "  'item_id': 5,\n",
       "  'item_name': 'Back To Nature Gluten Free White Cheddar Rice Thin Crackers',\n",
       "  'item_price': 2.61,\n",
       "  'item_upc12': '759283100036',\n",
       "  'item_upc14': '759283100036'},\n",
       " {'item_brand': 'Sally Hansen',\n",
       "  'item_id': 6,\n",
       "  'item_name': 'Sally Hansen Nail Color Magnetic 903 Silver Elements',\n",
       "  'item_price': 6.93,\n",
       "  'item_upc12': '74170388732',\n",
       "  'item_upc14': '74170388732'},\n",
       " {'item_brand': 'Twinings Of London',\n",
       "  'item_id': 7,\n",
       "  'item_name': 'Twinings Of London Classics Lady Grey Tea - 20 Ct',\n",
       "  'item_price': 9.64,\n",
       "  'item_upc12': '70177154004',\n",
       "  'item_upc14': '70177154004'},\n",
       " {'item_brand': 'Lea & Perrins',\n",
       "  'item_id': 8,\n",
       "  'item_name': 'Lea & Perrins Marinade In-a-bag Cracked Peppercorn',\n",
       "  'item_price': 1.68,\n",
       "  'item_upc12': '51600080015',\n",
       "  'item_upc14': '51600080015'},\n",
       " {'item_brand': 'Van De Kamps',\n",
       "  'item_id': 9,\n",
       "  'item_name': 'Van De Kamps Fillets Beer Battered - 10 Ct',\n",
       "  'item_price': 1.79,\n",
       "  'item_upc12': '19600923015',\n",
       "  'item_upc14': '19600923015'},\n",
       " {'item_brand': 'Ahold',\n",
       "  'item_id': 10,\n",
       "  'item_name': 'Ahold Cocoa Almonds',\n",
       "  'item_price': 3.17,\n",
       "  'item_upc12': '688267141676',\n",
       "  'item_upc14': '688267141676'},\n",
       " {'item_brand': 'Honest Tea',\n",
       "  'item_id': 11,\n",
       "  'item_name': 'Honest Tea Peach White Tea',\n",
       "  'item_price': 3.93,\n",
       "  'item_upc12': '657622604842',\n",
       "  'item_upc14': '657622604842'},\n",
       " {'item_brand': 'Mueller',\n",
       "  'item_id': 12,\n",
       "  'item_name': 'Mueller Sport Care Basic Support Level Medium Elastic Knee Support',\n",
       "  'item_price': 8.4,\n",
       "  'item_upc12': '74676640211',\n",
       "  'item_upc14': '74676640211'},\n",
       " {'item_brand': 'Garnier Nutritioniste',\n",
       "  'item_id': 13,\n",
       "  'item_name': 'Garnier Nutritioniste Moisture Rescue Fresh Cleansing Foam',\n",
       "  'item_price': 6.47,\n",
       "  'item_upc12': '603084234561',\n",
       "  'item_upc14': '603084234561'},\n",
       " {'item_brand': 'Pamprin',\n",
       "  'item_id': 14,\n",
       "  'item_name': 'Pamprin Maximum Strength Multi-symptom Menstrual Pain Relief',\n",
       "  'item_price': 7.54,\n",
       "  'item_upc12': '41167300121',\n",
       "  'item_upc14': '41167300121'},\n",
       " {'item_brand': 'Suave',\n",
       "  'item_id': 15,\n",
       "  'item_name': 'Suave Naturals Moisturizing Body Wash Creamy Tropical Coconut',\n",
       "  'item_price': 9.11,\n",
       "  'item_upc12': '79400847201',\n",
       "  'item_upc14': '79400847201'},\n",
       " {'item_brand': 'Burts Bees',\n",
       "  'item_id': 16,\n",
       "  'item_name': 'Burts Bees Daily Moisturizing Cream Sensitive',\n",
       "  'item_price': 5.17,\n",
       "  'item_upc12': '792850014008',\n",
       "  'item_upc14': '792850014008'},\n",
       " {'item_brand': 'Ducal',\n",
       "  'item_id': 17,\n",
       "  'item_name': 'Ducal Refried Red Beans',\n",
       "  'item_price': 1.16,\n",
       "  'item_upc12': '88313590791',\n",
       "  'item_upc14': '88313590791'},\n",
       " {'item_brand': 'Scotch',\n",
       "  'item_id': 18,\n",
       "  'item_name': 'Scotch Removable Clear Mounting Squares - 35 Ct',\n",
       "  'item_price': 4.39,\n",
       "  'item_upc12': '21200725340',\n",
       "  'item_upc14': '21200725340'},\n",
       " {'item_brand': 'Careone',\n",
       "  'item_id': 19,\n",
       "  'item_name': 'Careone Family Comb Set - 8 Ct',\n",
       "  'item_price': 0.74,\n",
       "  'item_upc12': '41520035646',\n",
       "  'item_upc14': '41520035646'},\n",
       " {'item_brand': 'Usda Produce',\n",
       "  'item_id': 20,\n",
       "  'item_name': 'Plums Black',\n",
       "  'item_price': 5.62,\n",
       "  'item_upc12': '204040000000',\n",
       "  'item_upc14': '204040000000'}]"
      ]
     },
     "execution_count": 9,
     "metadata": {},
     "output_type": "execute_result"
    }
   ],
   "source": [
    "# Displaying items in the data\n",
    "\n",
    "data['payload']['items']\n",
    "\n",
    "# Data['payload']['items']['num':'num'] EQUIVALENT because dict"
   ]
  },
  {
   "cell_type": "code",
   "execution_count": null,
   "id": "2b06439a",
   "metadata": {},
   "outputs": [],
   "source": [
    "# Decomposing the code to understand it and reproduce it in a function with a loop\n",
    "\n",
    "# Setup (DO NOT RUN THIS CELL)\n",
    "# Compilation of requests to get the data for each page until request hits None\n",
    "domain = 'https://api.data.codeup.com'\n",
    "endpoint = '/api/v1/items'\n",
    "items = []\n",
    "url = domain + endpoint\n",
    "response = requests.get(url)\n",
    "data = response.json()\n",
    "items.extend(data['payload']['items'])\n",
    "endpoint = data['payload']['next_page']\n",
    "\n",
    "# AG ====> 'while true' instead of 'for x in endpoint'\n",
    "while True:\n",
    "    url = domain + endpoint\n",
    "    response = requests.get(url)\n",
    "    data = response.json()\n",
    "    items.extend(data['payload']['items'])\n",
    "    endpoint = data['payload']['next_page']\n",
    "#     Break the loop if endpoint (for next page) is None\n",
    "    if endpoint is None:\n",
    "        break\n",
    "        \n",
    "# For printing operation in process (AG)\n",
    "    print(f'\\rGetting page {data[\"payload\"][\"page\"]} of {data[\"payload\"][\"max_page\"]}: {url}', end='')"
   ]
  },
  {
   "cell_type": "code",
   "execution_count": 22,
   "id": "d6011485",
   "metadata": {},
   "outputs": [
    {
     "data": {
      "text/html": [
       "<div>\n",
       "<style scoped>\n",
       "    .dataframe tbody tr th:only-of-type {\n",
       "        vertical-align: middle;\n",
       "    }\n",
       "\n",
       "    .dataframe tbody tr th {\n",
       "        vertical-align: top;\n",
       "    }\n",
       "\n",
       "    .dataframe thead th {\n",
       "        text-align: right;\n",
       "    }\n",
       "</style>\n",
       "<table border=\"1\" class=\"dataframe\">\n",
       "  <thead>\n",
       "    <tr style=\"text-align: right;\">\n",
       "      <th></th>\n",
       "      <th>item_brand</th>\n",
       "      <th>item_id</th>\n",
       "      <th>item_name</th>\n",
       "      <th>item_price</th>\n",
       "      <th>item_upc12</th>\n",
       "      <th>item_upc14</th>\n",
       "    </tr>\n",
       "  </thead>\n",
       "  <tbody>\n",
       "    <tr>\n",
       "      <th>0</th>\n",
       "      <td>Riceland</td>\n",
       "      <td>1</td>\n",
       "      <td>Riceland American Jazmine Rice</td>\n",
       "      <td>0.84</td>\n",
       "      <td>35200264013</td>\n",
       "      <td>35200264013</td>\n",
       "    </tr>\n",
       "    <tr>\n",
       "      <th>1</th>\n",
       "      <td>Caress</td>\n",
       "      <td>2</td>\n",
       "      <td>Caress Velvet Bliss Ultra Silkening Beauty Bar...</td>\n",
       "      <td>6.44</td>\n",
       "      <td>11111065925</td>\n",
       "      <td>11111065925</td>\n",
       "    </tr>\n",
       "    <tr>\n",
       "      <th>2</th>\n",
       "      <td>Earths Best</td>\n",
       "      <td>3</td>\n",
       "      <td>Earths Best Organic Fruit Yogurt Smoothie Mixe...</td>\n",
       "      <td>2.43</td>\n",
       "      <td>23923330139</td>\n",
       "      <td>23923330139</td>\n",
       "    </tr>\n",
       "    <tr>\n",
       "      <th>3</th>\n",
       "      <td>Boars Head</td>\n",
       "      <td>4</td>\n",
       "      <td>Boars Head Sliced White American Cheese - 120 Ct</td>\n",
       "      <td>3.14</td>\n",
       "      <td>208528800007</td>\n",
       "      <td>208528800007</td>\n",
       "    </tr>\n",
       "    <tr>\n",
       "      <th>4</th>\n",
       "      <td>Back To Nature</td>\n",
       "      <td>5</td>\n",
       "      <td>Back To Nature Gluten Free White Cheddar Rice ...</td>\n",
       "      <td>2.61</td>\n",
       "      <td>759283100036</td>\n",
       "      <td>759283100036</td>\n",
       "    </tr>\n",
       "  </tbody>\n",
       "</table>\n",
       "</div>"
      ],
      "text/plain": [
       "       item_brand  item_id                                          item_name  \\\n",
       "0        Riceland        1                     Riceland American Jazmine Rice   \n",
       "1          Caress        2  Caress Velvet Bliss Ultra Silkening Beauty Bar...   \n",
       "2     Earths Best        3  Earths Best Organic Fruit Yogurt Smoothie Mixe...   \n",
       "3      Boars Head        4   Boars Head Sliced White American Cheese - 120 Ct   \n",
       "4  Back To Nature        5  Back To Nature Gluten Free White Cheddar Rice ...   \n",
       "\n",
       "   item_price    item_upc12    item_upc14  \n",
       "0        0.84   35200264013   35200264013  \n",
       "1        6.44   11111065925   11111065925  \n",
       "2        2.43   23923330139   23923330139  \n",
       "3        3.14  208528800007  208528800007  \n",
       "4        2.61  759283100036  759283100036  "
      ]
     },
     "execution_count": 22,
     "metadata": {},
     "output_type": "execute_result"
    }
   ],
   "source": [
    "# Reaching out to the API and loop through pages to get dataset\n",
    "# Transposing setup\n",
    "endpoint = \"items\"\n",
    "host = \"https://python.zgulde.net/\"\n",
    "api = \"api/v1/\"\n",
    "url = host + api + endpoint\n",
    "response = requests.get(url)\n",
    "\n",
    "if response.ok:\n",
    "    payload = response.json()[\"payload\"]\n",
    "    contents = payload['items']\n",
    "    df = pd.DataFrame(contents)\n",
    "    next_page = payload[\"next_page\"]\n",
    "\n",
    "   \n",
    "    while next_page:\n",
    "        # Append the next_page url piece\n",
    "        url = host + next_page\n",
    "        response = requests.get(url)\n",
    "        payload = response.json()[\"payload\"]\n",
    "        next_page = payload[\"next_page\"]    \n",
    "        contents = payload['items']\n",
    "        df = pd.concat([df, pd.DataFrame(contents)])\n",
    "        # Drop True because CSV to avoid repeating index and setting all columns as non-index\n",
    "        df = df.reset_index(drop=True)\n",
    "items = df\n",
    "items.head()"
   ]
  },
  {
   "cell_type": "code",
   "execution_count": 23,
   "id": "d01f2d16",
   "metadata": {},
   "outputs": [
    {
     "data": {
      "text/plain": [
       "(50, 6)"
      ]
     },
     "execution_count": 23,
     "metadata": {},
     "output_type": "execute_result"
    }
   ],
   "source": [
    "items.shape"
   ]
  },
  {
   "cell_type": "code",
   "execution_count": 25,
   "id": "b8b7094e",
   "metadata": {},
   "outputs": [],
   "source": [
    "# Putting the function together for reproduction\n",
    "\n",
    "def get_api_data(endpoint):\n",
    "    '''\n",
    "    Using a for loop to get each page from\n",
    "    the data via url until last page.\n",
    "    Stops the loop when request gets a None\n",
    "    at the end of the pages\n",
    "    '''\n",
    "    \n",
    "    # API parameters setup and entry check\n",
    "    if endpoint not in ['items', 'stores', 'sales']:\n",
    "        return \"Entry not for API. Check documentation with: response = requests.get(base_url + /documentation))\"\n",
    "    host = \"https://python.zgulde.net/\"\n",
    "    api = \"api/v1/\"\n",
    "    url = host + api + endpoint\n",
    "    response = requests.get(url)\n",
    "    # Endpoint must only be 'stores', 'items', or 'sales'\n",
    "    if response.ok:\n",
    "        payload = response.json()[\"payload\"]\n",
    "        contents = payload[endpoint]\n",
    "        df = pd.DataFrame(contents)\n",
    "        next_page = payload[\"next_page\"]\n",
    "        # Loading content page after page into a df then printing the process\n",
    "        while next_page:\n",
    "            url = host + next_page\n",
    "            response = requests.get(url)\n",
    "            payload = response.json()[\"payload\"]\n",
    "            next_page = payload[\"next_page\"] \n",
    "            print(f'\\rGetting page {payload[\"page\"]} of {payload[\"max_page\"]}: {url}', end='')      \n",
    "            contents = payload[endpoint]\n",
    "            df = pd.concat([df, pd.DataFrame(contents)])\n",
    "            df = df.reset_index(drop=True) \n",
    "    return df"
   ]
  },
  {
   "cell_type": "code",
   "execution_count": 27,
   "id": "5ae7aead",
   "metadata": {},
   "outputs": [
    {
     "name": "stdout",
     "output_type": "stream",
     "text": [
      "Getting page 3 of 3: https://python.zgulde.net//api/v1/items?page=3"
     ]
    },
    {
     "data": {
      "text/html": [
       "<div>\n",
       "<style scoped>\n",
       "    .dataframe tbody tr th:only-of-type {\n",
       "        vertical-align: middle;\n",
       "    }\n",
       "\n",
       "    .dataframe tbody tr th {\n",
       "        vertical-align: top;\n",
       "    }\n",
       "\n",
       "    .dataframe thead th {\n",
       "        text-align: right;\n",
       "    }\n",
       "</style>\n",
       "<table border=\"1\" class=\"dataframe\">\n",
       "  <thead>\n",
       "    <tr style=\"text-align: right;\">\n",
       "      <th></th>\n",
       "      <th>item_brand</th>\n",
       "      <th>item_id</th>\n",
       "      <th>item_name</th>\n",
       "      <th>item_price</th>\n",
       "      <th>item_upc12</th>\n",
       "      <th>item_upc14</th>\n",
       "    </tr>\n",
       "  </thead>\n",
       "  <tbody>\n",
       "    <tr>\n",
       "      <th>0</th>\n",
       "      <td>Riceland</td>\n",
       "      <td>1</td>\n",
       "      <td>Riceland American Jazmine Rice</td>\n",
       "      <td>0.84</td>\n",
       "      <td>35200264013</td>\n",
       "      <td>35200264013</td>\n",
       "    </tr>\n",
       "    <tr>\n",
       "      <th>1</th>\n",
       "      <td>Caress</td>\n",
       "      <td>2</td>\n",
       "      <td>Caress Velvet Bliss Ultra Silkening Beauty Bar...</td>\n",
       "      <td>6.44</td>\n",
       "      <td>11111065925</td>\n",
       "      <td>11111065925</td>\n",
       "    </tr>\n",
       "    <tr>\n",
       "      <th>2</th>\n",
       "      <td>Earths Best</td>\n",
       "      <td>3</td>\n",
       "      <td>Earths Best Organic Fruit Yogurt Smoothie Mixe...</td>\n",
       "      <td>2.43</td>\n",
       "      <td>23923330139</td>\n",
       "      <td>23923330139</td>\n",
       "    </tr>\n",
       "    <tr>\n",
       "      <th>3</th>\n",
       "      <td>Boars Head</td>\n",
       "      <td>4</td>\n",
       "      <td>Boars Head Sliced White American Cheese - 120 Ct</td>\n",
       "      <td>3.14</td>\n",
       "      <td>208528800007</td>\n",
       "      <td>208528800007</td>\n",
       "    </tr>\n",
       "    <tr>\n",
       "      <th>4</th>\n",
       "      <td>Back To Nature</td>\n",
       "      <td>5</td>\n",
       "      <td>Back To Nature Gluten Free White Cheddar Rice ...</td>\n",
       "      <td>2.61</td>\n",
       "      <td>759283100036</td>\n",
       "      <td>759283100036</td>\n",
       "    </tr>\n",
       "  </tbody>\n",
       "</table>\n",
       "</div>"
      ],
      "text/plain": [
       "       item_brand  item_id                                          item_name  \\\n",
       "0        Riceland        1                     Riceland American Jazmine Rice   \n",
       "1          Caress        2  Caress Velvet Bliss Ultra Silkening Beauty Bar...   \n",
       "2     Earths Best        3  Earths Best Organic Fruit Yogurt Smoothie Mixe...   \n",
       "3      Boars Head        4   Boars Head Sliced White American Cheese - 120 Ct   \n",
       "4  Back To Nature        5  Back To Nature Gluten Free White Cheddar Rice ...   \n",
       "\n",
       "   item_price    item_upc12    item_upc14  \n",
       "0        0.84   35200264013   35200264013  \n",
       "1        6.44   11111065925   11111065925  \n",
       "2        2.43   23923330139   23923330139  \n",
       "3        3.14  208528800007  208528800007  \n",
       "4        2.61  759283100036  759283100036  "
      ]
     },
     "execution_count": 27,
     "metadata": {},
     "output_type": "execute_result"
    }
   ],
   "source": [
    "items_df = get_api_data('items')\n",
    "items_df.head()"
   ]
  },
  {
   "cell_type": "code",
   "execution_count": 28,
   "id": "bc441af4",
   "metadata": {},
   "outputs": [],
   "source": [
    "# Writing the new df to a local csv file\n",
    "\n",
    "items_df.to_csv('items_df.csv', index=False)"
   ]
  },
  {
   "cell_type": "markdown",
   "id": "dbea676e",
   "metadata": {},
   "source": [
    "## *2. Repeating the process for stores*"
   ]
  },
  {
   "cell_type": "code",
   "execution_count": 30,
   "id": "47021431",
   "metadata": {},
   "outputs": [
    {
     "data": {
      "text/html": [
       "<div>\n",
       "<style scoped>\n",
       "    .dataframe tbody tr th:only-of-type {\n",
       "        vertical-align: middle;\n",
       "    }\n",
       "\n",
       "    .dataframe tbody tr th {\n",
       "        vertical-align: top;\n",
       "    }\n",
       "\n",
       "    .dataframe thead th {\n",
       "        text-align: right;\n",
       "    }\n",
       "</style>\n",
       "<table border=\"1\" class=\"dataframe\">\n",
       "  <thead>\n",
       "    <tr style=\"text-align: right;\">\n",
       "      <th></th>\n",
       "      <th>store_address</th>\n",
       "      <th>store_city</th>\n",
       "      <th>store_id</th>\n",
       "      <th>store_state</th>\n",
       "      <th>store_zipcode</th>\n",
       "    </tr>\n",
       "  </thead>\n",
       "  <tbody>\n",
       "    <tr>\n",
       "      <th>0</th>\n",
       "      <td>12125 Alamo Ranch Pkwy</td>\n",
       "      <td>San Antonio</td>\n",
       "      <td>1</td>\n",
       "      <td>TX</td>\n",
       "      <td>78253</td>\n",
       "    </tr>\n",
       "    <tr>\n",
       "      <th>1</th>\n",
       "      <td>9255 FM 471 West</td>\n",
       "      <td>San Antonio</td>\n",
       "      <td>2</td>\n",
       "      <td>TX</td>\n",
       "      <td>78251</td>\n",
       "    </tr>\n",
       "    <tr>\n",
       "      <th>2</th>\n",
       "      <td>2118 Fredericksburg Rdj</td>\n",
       "      <td>San Antonio</td>\n",
       "      <td>3</td>\n",
       "      <td>TX</td>\n",
       "      <td>78201</td>\n",
       "    </tr>\n",
       "    <tr>\n",
       "      <th>3</th>\n",
       "      <td>516 S Flores St</td>\n",
       "      <td>San Antonio</td>\n",
       "      <td>4</td>\n",
       "      <td>TX</td>\n",
       "      <td>78204</td>\n",
       "    </tr>\n",
       "    <tr>\n",
       "      <th>4</th>\n",
       "      <td>1520 Austin Hwy</td>\n",
       "      <td>San Antonio</td>\n",
       "      <td>5</td>\n",
       "      <td>TX</td>\n",
       "      <td>78218</td>\n",
       "    </tr>\n",
       "  </tbody>\n",
       "</table>\n",
       "</div>"
      ],
      "text/plain": [
       "             store_address   store_city  store_id store_state store_zipcode\n",
       "0   12125 Alamo Ranch Pkwy  San Antonio         1          TX         78253\n",
       "1         9255 FM 471 West  San Antonio         2          TX         78251\n",
       "2  2118 Fredericksburg Rdj  San Antonio         3          TX         78201\n",
       "3          516 S Flores St  San Antonio         4          TX         78204\n",
       "4          1520 Austin Hwy  San Antonio         5          TX         78218"
      ]
     },
     "execution_count": 30,
     "metadata": {},
     "output_type": "execute_result"
    }
   ],
   "source": [
    "stores_df = get_api_data('stores')\n",
    "stores_df.head()"
   ]
  },
  {
   "cell_type": "code",
   "execution_count": 31,
   "id": "4d6391bd",
   "metadata": {},
   "outputs": [
    {
     "data": {
      "text/plain": [
       "(10, 5)"
      ]
     },
     "execution_count": 31,
     "metadata": {},
     "output_type": "execute_result"
    }
   ],
   "source": [
    "stores_df.shape"
   ]
  },
  {
   "cell_type": "code",
   "execution_count": 32,
   "id": "af576889",
   "metadata": {},
   "outputs": [],
   "source": [
    "stores_df.to_csv('stores_df.csv', index=False)"
   ]
  },
  {
   "cell_type": "markdown",
   "id": "a39adf6f",
   "metadata": {},
   "source": [
    "## *3. Extract the data for sales (https://python.zgulde.net/api/v1/sales).*\n",
    "\n",
    "**Repeating the same process as for the others**"
   ]
  },
  {
   "cell_type": "code",
   "execution_count": 33,
   "id": "fa3253c3",
   "metadata": {},
   "outputs": [
    {
     "name": "stdout",
     "output_type": "stream",
     "text": [
      "Getting page 183 of 183: https://python.zgulde.net//api/v1/sales?page=183"
     ]
    },
    {
     "data": {
      "text/html": [
       "<div>\n",
       "<style scoped>\n",
       "    .dataframe tbody tr th:only-of-type {\n",
       "        vertical-align: middle;\n",
       "    }\n",
       "\n",
       "    .dataframe tbody tr th {\n",
       "        vertical-align: top;\n",
       "    }\n",
       "\n",
       "    .dataframe thead th {\n",
       "        text-align: right;\n",
       "    }\n",
       "</style>\n",
       "<table border=\"1\" class=\"dataframe\">\n",
       "  <thead>\n",
       "    <tr style=\"text-align: right;\">\n",
       "      <th></th>\n",
       "      <th>item</th>\n",
       "      <th>sale_amount</th>\n",
       "      <th>sale_date</th>\n",
       "      <th>sale_id</th>\n",
       "      <th>store</th>\n",
       "    </tr>\n",
       "  </thead>\n",
       "  <tbody>\n",
       "    <tr>\n",
       "      <th>0</th>\n",
       "      <td>1</td>\n",
       "      <td>13.0</td>\n",
       "      <td>Tue, 01 Jan 2013 00:00:00 GMT</td>\n",
       "      <td>1</td>\n",
       "      <td>1</td>\n",
       "    </tr>\n",
       "    <tr>\n",
       "      <th>1</th>\n",
       "      <td>1</td>\n",
       "      <td>11.0</td>\n",
       "      <td>Wed, 02 Jan 2013 00:00:00 GMT</td>\n",
       "      <td>2</td>\n",
       "      <td>1</td>\n",
       "    </tr>\n",
       "    <tr>\n",
       "      <th>2</th>\n",
       "      <td>1</td>\n",
       "      <td>14.0</td>\n",
       "      <td>Thu, 03 Jan 2013 00:00:00 GMT</td>\n",
       "      <td>3</td>\n",
       "      <td>1</td>\n",
       "    </tr>\n",
       "    <tr>\n",
       "      <th>3</th>\n",
       "      <td>1</td>\n",
       "      <td>13.0</td>\n",
       "      <td>Fri, 04 Jan 2013 00:00:00 GMT</td>\n",
       "      <td>4</td>\n",
       "      <td>1</td>\n",
       "    </tr>\n",
       "    <tr>\n",
       "      <th>4</th>\n",
       "      <td>1</td>\n",
       "      <td>10.0</td>\n",
       "      <td>Sat, 05 Jan 2013 00:00:00 GMT</td>\n",
       "      <td>5</td>\n",
       "      <td>1</td>\n",
       "    </tr>\n",
       "  </tbody>\n",
       "</table>\n",
       "</div>"
      ],
      "text/plain": [
       "   item  sale_amount                      sale_date  sale_id  store\n",
       "0     1         13.0  Tue, 01 Jan 2013 00:00:00 GMT        1      1\n",
       "1     1         11.0  Wed, 02 Jan 2013 00:00:00 GMT        2      1\n",
       "2     1         14.0  Thu, 03 Jan 2013 00:00:00 GMT        3      1\n",
       "3     1         13.0  Fri, 04 Jan 2013 00:00:00 GMT        4      1\n",
       "4     1         10.0  Sat, 05 Jan 2013 00:00:00 GMT        5      1"
      ]
     },
     "execution_count": 33,
     "metadata": {},
     "output_type": "execute_result"
    }
   ],
   "source": [
    "sales_df = get_api_data('sales')\n",
    "sales_df.head()"
   ]
  },
  {
   "cell_type": "code",
   "execution_count": 34,
   "id": "aec4cbee",
   "metadata": {},
   "outputs": [],
   "source": [
    "sales_df.to_csv('sales_df.csv', index=False)"
   ]
  },
  {
   "cell_type": "markdown",
   "id": "c867919d",
   "metadata": {},
   "source": [
    "## *4. Save the data in your files to local csv files*\n",
    "\n",
    ">### Done along with each function setup"
   ]
  },
  {
   "cell_type": "markdown",
   "id": "19f74aee",
   "metadata": {},
   "source": [
    "## *5. Combine the data from your three separate dataframes into one large dataframe.*"
   ]
  },
  {
   "cell_type": "markdown",
   "id": "9064228a",
   "metadata": {},
   "source": [
    ">### *Displaying the different dataframes to take an ensemble view*"
   ]
  },
  {
   "cell_type": "code",
   "execution_count": null,
   "id": "7496c1ea",
   "metadata": {},
   "outputs": [],
   "source": [
    "items_df.head()"
   ]
  },
  {
   "cell_type": "code",
   "execution_count": null,
   "id": "f43a6cab",
   "metadata": {},
   "outputs": [],
   "source": [
    "sales_df.head()"
   ]
  },
  {
   "cell_type": "code",
   "execution_count": null,
   "id": "90145f18",
   "metadata": {},
   "outputs": [],
   "source": [
    "stores_df.head()"
   ]
  },
  {
   "cell_type": "code",
   "execution_count": null,
   "id": "bc1d9d3c",
   "metadata": {},
   "outputs": [],
   "source": [
    "# Making sure another column but the first one isn't the index\n",
    "\n",
    "sales_df.index"
   ]
  },
  {
   "cell_type": "code",
   "execution_count": null,
   "id": "91d15528",
   "metadata": {},
   "outputs": [],
   "source": [
    "# Renaming the columns to avoid confusion and enable merger\n",
    "\n",
    "sales_df.rename(columns={'item': 'item_id', 'store': 'store_id'}, inplace=True)"
   ]
  },
  {
   "cell_type": "code",
   "execution_count": null,
   "id": "6341db07",
   "metadata": {
    "scrolled": false
   },
   "outputs": [],
   "source": [
    "# Displaying new sales_df\n",
    "\n",
    "sales_df.head()"
   ]
  },
  {
   "cell_type": "code",
   "execution_count": null,
   "id": "203859ba",
   "metadata": {},
   "outputs": [],
   "source": [
    "# Putting the dataframes together\n",
    "\n",
    "df = pd.merge(sales_df, items_df, how='left', on='item_id')\n",
    "sales_info = pd.merge(df, stores_df, how='left', on='store_id')"
   ]
  },
  {
   "cell_type": "code",
   "execution_count": null,
   "id": "0069e0c3",
   "metadata": {
    "scrolled": false
   },
   "outputs": [],
   "source": [
    "sales_info.head()"
   ]
  },
  {
   "cell_type": "code",
   "execution_count": null,
   "id": "28354eb1",
   "metadata": {},
   "outputs": [],
   "source": [
    "sales_info.to_csv('sales_info.csv', index=False)"
   ]
  },
  {
   "cell_type": "markdown",
   "id": "3628ab94",
   "metadata": {},
   "source": [
    "### *Checking the unique store ids and items ids*"
   ]
  },
  {
   "cell_type": "code",
   "execution_count": null,
   "id": "5638ccb0",
   "metadata": {},
   "outputs": [],
   "source": [
    "sales_info.store_id.nunique()"
   ]
  },
  {
   "cell_type": "code",
   "execution_count": null,
   "id": "2c4a24de",
   "metadata": {},
   "outputs": [],
   "source": [
    "sales_info.item_id.nunique()"
   ]
  },
  {
   "cell_type": "code",
   "execution_count": null,
   "id": "e22ee502",
   "metadata": {},
   "outputs": [],
   "source": [
    "# Getting general information from the df\n",
    "\n",
    "sales_info.info()"
   ]
  },
  {
   "cell_type": "markdown",
   "id": "7dcc9314",
   "metadata": {},
   "source": [
    "## *6. Acquire the Open Power Systems Data for Germany*"
   ]
  },
  {
   "cell_type": "code",
   "execution_count": null,
   "id": "c569d9c4",
   "metadata": {},
   "outputs": [],
   "source": [
    "# Taking a look at the json file produced from the url\n",
    "\n",
    "response = requests.get('https://raw.githubusercontent.com/jenfly/opsd/master/opsd_germany_daily.csv')\n",
    "response.json()"
   ]
  },
  {
   "cell_type": "code",
   "execution_count": null,
   "id": "7b6f44d0",
   "metadata": {},
   "outputs": [],
   "source": [
    "# Getting the data from the url\n",
    "\n",
    "opsd = pd.read_csv('https://raw.githubusercontent.com/jenfly/opsd/master/opsd_germany_daily.csv') "
   ]
  },
  {
   "cell_type": "code",
   "execution_count": null,
   "id": "457b2368",
   "metadata": {},
   "outputs": [],
   "source": [
    "opsd.head()"
   ]
  },
  {
   "cell_type": "code",
   "execution_count": null,
   "id": "83bd8fcc",
   "metadata": {},
   "outputs": [],
   "source": [
    "# Writing the acquisition function for Open Power Systems Data for Germany\n",
    "\n",
    "def get_opsd_germany():\n",
    "    if os.path.exists('opsd.csv'):\n",
    "        return pd.read_csv('opsd.csv')\n",
    "    df = pd.read_csv('https://raw.githubusercontent.com/jenfly/opsd/master/opsd_germany_daily.csv')\n",
    "    df.to_csv('opsd.csv', index=False)\n",
    "    return df"
   ]
  },
  {
   "cell_type": "code",
   "execution_count": null,
   "id": "28397fbb",
   "metadata": {},
   "outputs": [],
   "source": [
    "data = get_OPS_Germany()"
   ]
  },
  {
   "cell_type": "code",
   "execution_count": null,
   "id": "024c3095",
   "metadata": {},
   "outputs": [],
   "source": [
    "opsd_df = get_opsd_germany()"
   ]
  },
  {
   "cell_type": "code",
   "execution_count": null,
   "id": "3e148aca",
   "metadata": {},
   "outputs": [],
   "source": [
    "opsd_df.head()"
   ]
  },
  {
   "cell_type": "code",
   "execution_count": null,
   "id": "2cc6d5c8",
   "metadata": {},
   "outputs": [],
   "source": [
    "opsd_df.rename(columns={'Wind+Solar' : 'Wind_and_Solar'}, inplace=True)"
   ]
  },
  {
   "cell_type": "code",
   "execution_count": null,
   "id": "15a1320e",
   "metadata": {},
   "outputs": [],
   "source": [
    "opsd_df.head()"
   ]
  },
  {
   "cell_type": "code",
   "execution_count": null,
   "id": "9abbf43a",
   "metadata": {},
   "outputs": [],
   "source": [
    "opsd_df.to_csv('opsd_df.csv', index=False)"
   ]
  },
  {
   "cell_type": "markdown",
   "id": "0046aa3f",
   "metadata": {},
   "source": [
    "### Attempts at more generalizing function"
   ]
  },
  {
   "cell_type": "code",
   "execution_count": null,
   "id": "66ebf523",
   "metadata": {},
   "outputs": [],
   "source": [
    "# Getting api data regardless of endpoint\n",
    "\n",
    "def get_api_data(endpoint):\n",
    "    '''\n",
    "    Using a for loop to get each page from\n",
    "    the data via url until last page.\n",
    "    Stops the loop when request gets a None\n",
    "    at the end of the pages\n",
    "    '''\n",
    "    \n",
    "    # Setup\n",
    "    if endpoint not in ['items', 'stores', 'sales']:\n",
    "        return \"Entry not for this API. Check documentation with response = requests.get(base_url + /documentation) and print.)\"\n",
    "    \n",
    "    domain = 'https://python.zgulde.net'\n",
    "    api = '/api/v1/'\n",
    "    url = domain + api + endpoint\n",
    "    response = requests.get(url)\n",
    "    endpoint = []\n",
    "    page_range = range(2, max_page + 1)\n",
    "    for i in endpoint:\n",
    "        data = response.json()\n",
    "        payload = response.json()['payload']\n",
    "        next_page = payload['next_page']\n",
    "        print(f'\\rGetting page {payload[\"page\"]} of {payload[\"max_page\"]}: {url}', end='')      \n",
    "#         contents = payload[endpoint]\n",
    "#         # Update the endpoint\n",
    "        endpoint = next_page + 1\n",
    "        if endpoint == None:\n",
    "            break\n",
    "    return df\n",
    "\n",
    "\n",
    "# sales.extend(data['payload']['sales'])"
   ]
  },
  {
   "cell_type": "code",
   "execution_count": null,
   "id": "fdec3933",
   "metadata": {},
   "outputs": [],
   "source": [
    "get_api_data('sales')"
   ]
  },
  {
   "cell_type": "code",
   "execution_count": null,
   "id": "4ad92473",
   "metadata": {},
   "outputs": [],
   "source": [
    "def get_api_data(endpoint):\n",
    "    '''gets data from API with the right endpoint'''\n",
    "    \n",
    "    if endpoint not in ['stores', 'items', 'sales']:\n",
    "        return 'Entry not for this API. Check documentation with response = requests.get(base_url + /documentation) and print.)'\n",
    "    # Setup\n",
    "    host = 'https://python.zgulde.net/'\n",
    "    api = 'api/vl/'\n",
    "    url = host + api + endpoint\n",
    "    response = requests.get(url)\n",
    "    if response.ok:\n",
    "        data = response.json()\n",
    "        payload = data['payload']\n",
    "        # endpoint must only be 'stores', 'items', or 'sales'\n",
    "        contents = payload[endpoint]\n",
    "        # Make a dataframe of the contents\n",
    "        df = pd.DataFrame (contents)\n",
    "        next_page = payload[ 'next_page' ]\n",
    "        while next_page:\n",
    "            url = host + next_page\n",
    "            response = requests.get(url)\n",
    "            payload = response.json()['payload']\n",
    "            next_page = payload[ \"next_page\" ]\n",
    "            print (f'\\rGetting page {payload[\"page\"]} of {payload[\"max_page\"]}: {url}', end = '')\n",
    "            contents = payload[endpoint]\n",
    "            df = pd.concat([df, pd.DataFrame(contents)])\n",
    "            df = df.reset_index(drop=True)\n",
    "    return df"
   ]
  },
  {
   "cell_type": "code",
   "execution_count": null,
   "id": "ca6d0a7c",
   "metadata": {},
   "outputs": [],
   "source": [
    "sales_df = get_api_data('sales')"
   ]
  },
  {
   "cell_type": "code",
   "execution_count": null,
   "id": "5bb28c02",
   "metadata": {},
   "outputs": [],
   "source": [
    "def get_api_data(endpoint):\n",
    "    '''gets data from API with the right endpoint'''\n",
    "    \n",
    "    if endpoint not in ['stores', 'items', 'sales']:\n",
    "        return 'Entry not for this API. Check documentation with response = requests.get(base_url + /documentation) and print.)'\n",
    "    # Setup\n",
    "    host = 'https://python.zgulde.net/'\n",
    "    api = 'api/vl/'\n",
    "    url = host + api + endpoint\n",
    "    response = requests.get(url)\n",
    "    if response.ok:\n",
    "        payload = response.json()['payload']\n",
    "        # endpoint must only be 'stores', 'items', or 'sales'\n",
    "        contents = payload[endpoint]\n",
    "        # Make a dataframe of the contents\n",
    "        df = pd.DataFrame (contents)\n",
    "        next_page = payload[ 'next_page' ]\n",
    "        while next_page:\n",
    "            url = host + next_page\n",
    "            response = requests.get(url)\n",
    "            payload = response.json()['payload']\n",
    "            next_page = payload[ \"next_page\" ]\n",
    "            print (f'\\rGetting page {payload[\"page\"]} of {payload[\"max_page\"]}: {url}', end = '')\n",
    "            contents = payload[endpoint]\n",
    "            df = pd.concat([df, pd.DataFrame(contents)])\n",
    "            df = df.reset_index(drop=True)\n",
    "    return df"
   ]
  },
  {
   "cell_type": "code",
   "execution_count": null,
   "id": "1d6232cd",
   "metadata": {},
   "outputs": [],
   "source": [
    "sales_df = get_api_data('sales')"
   ]
  }
 ],
 "metadata": {
  "kernelspec": {
   "display_name": "Python 3 (ipykernel)",
   "language": "python",
   "name": "python3"
  },
  "language_info": {
   "codemirror_mode": {
    "name": "ipython",
    "version": 3
   },
   "file_extension": ".py",
   "mimetype": "text/x-python",
   "name": "python",
   "nbconvert_exporter": "python",
   "pygments_lexer": "ipython3",
   "version": "3.9.7"
  }
 },
 "nbformat": 4,
 "nbformat_minor": 5
}
